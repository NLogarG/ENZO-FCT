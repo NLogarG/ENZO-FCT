{
 "cells": [
  {
   "cell_type": "markdown",
   "metadata": {},
   "source": [
    "<img src=\"CIDaeNNB.png\" alt=\"Logo CiDAEN\" align=\"right\">\n",
    "\n",
    "\n",
    "<br><br><br>\n",
    "<h1><font color=\"#00586D\" size=5>Módulo 1</font></h1>\n",
    "\n",
    "\n",
    "\n",
    "<h1><font color=\"#00586D\" size=6>Python - Ejercicios</font></h1>\n",
    "\n",
    "<br>\n",
    "<div style=\"text-align: right\">\n",
    "<font color=\"#00586D\" size=3>Javier Cózar</font><br>\n",
    "<font color=\"#00586D\" size=3>Máster en Ciencia de Datos y Desarrollo de Aplicaciones en la Nube</font><br>\n",
    "<font color=\"#00586D\" size=3>Universidad de Castilla-La Mancha</font>\n",
    "\n",
    "</div>"
   ]
  },
  {
   "cell_type": "markdown",
   "metadata": {},
   "source": [
    "# <font color=\"#00586D\" size=6> Ejercicios Python I</font>"
   ]
  },
  {
   "cell_type": "markdown",
   "metadata": {},
   "source": [
    "<h3><font color=\"#00586D\" size=4> <i class=\"fa fa-pencil-square-o\" aria-hidden=\"true\" style=\"color:#00586D\"></i> Ejercicio 1</font></h3>\n",
    "\n",
    "Vamos a implementar en una celda un juego que consiste en adivinar una secuencia de números generada aleatoriamente por el intérprete. Se seguirá la siguiente secuencia de pasos:\n",
    "\n",
    "1. Nos debe preguntar por teclado la longitud de la secuencia de números que generará, variable que llamaremos `N` (por ejemplo, 4 generará secuencias con los números 1, 2, 3 y 4).\n",
    "2. Se generará una secuencia aleatoria que contendrá los números de 1 a `N`. Para ello se os proporciona en la siguiente celda el código que la genera.\n",
    "3. Usar un bucle en el que pregunte al usuario la cadena por teclado. Si el usuario acierta, el bucle termina e imprime un mensaje de enhorabuena. En caso contrario, se volverá a solicitar al usuario que introduzca una nueva cadena. Se debe llevar la cuenta del número de intentos y mostrar este valor al terminar.\n",
    "4. Opcionalmente se puede indicar, cuando se falla, cuántos números ha errado."
   ]
  },
  {
   "cell_type": "code",
   "execution_count": null,
   "metadata": {},
   "outputs": [],
   "source": [
    "import random  # necesario para generar la secuencia de números aleatoriamente\n",
    "\n",
    "# Como ejemplo declaramos N igual a un valor\n",
    "N = 4\n",
    "\n",
    "# Generamos una lista con N números, del 1 al N\n",
    "l = list(range(1, N + 1))\n",
    "# Con esta función reordenamos la lista\n",
    "random.shuffle(l)\n",
    "# Y finalmente generamos un string con esa combinación\n",
    "secuencia = ''.join([str(x) for x in l])\n",
    "print(secuencia)"
   ]
  },
  {
   "cell_type": "code",
   "execution_count": null,
   "metadata": {},
   "outputs": [],
   "source": [
    "# Completar..."
   ]
  },
  {
   "cell_type": "markdown",
   "metadata": {},
   "source": [
    "<h3><font color=\"#00586D\" size=4> <i class=\"fa fa-pencil-square-o\" aria-hidden=\"true\" style=\"color:#00586D\"></i> Ejercicio 2</font></h3>\n",
    "\n",
    "\n",
    "Crear una función que reciba un número entero, $N$, y calcule el número $N$ de la secuencia de _fibonacci_.\n",
    "\n",
    "La sucesión de _fibonacci_ comienza con los números 0 y 1. A partir de éstos, **cada término es la suma de los dos anteriores**. Por ejemplo, el número $3$ de la secuencia se calcula como:\n",
    "\n",
    "$$\n",
    "fibonacci(3) = fibonacci(1) + fibonacci(2) = 1 + (fibonacci(0) + fibonacci(1)) = 1 + 1 + 1 = 3\n",
    "$$"
   ]
  },
  {
   "cell_type": "code",
   "execution_count": null,
   "metadata": {},
   "outputs": [],
   "source": [
    "# Completar"
   ]
  },
  {
   "cell_type": "markdown",
   "metadata": {},
   "source": [
    "<h3><font color=\"#00586D\" size=4> <i class=\"fa fa-pencil-square-o\" aria-hidden=\"true\" style=\"color:#00586D\"></i> Ejercicio 3</font></h3>\n",
    "\n",
    "\n",
    "Una matriz se puede representar como una lista de listas.** Por ejemplo, `[[1, 2], [3, 4]]` representa la matriz:\n",
    "\n",
    "$$\n",
    "   M=\n",
    "  \\left[ {\\begin{array}{cc}\n",
    "   1 & 2 \\\\\n",
    "   3 & 4 \\\\\n",
    "  \\end{array} } \\right]\n",
    "$$\n",
    "\n",
    "Dada la matriz `m` de tamaño 3x3, obten la diagonal principal."
   ]
  },
  {
   "cell_type": "code",
   "execution_count": null,
   "metadata": {},
   "outputs": [],
   "source": [
    "m = [[1, 2, 3],\n",
    "     [4, 5, 6],\n",
    "     [7, 8, 9]]\n",
    "\n",
    "# Completar"
   ]
  },
  {
   "cell_type": "markdown",
   "metadata": {},
   "source": [
    "<h3><font color=\"#00586D\" size=4> <i class=\"fa fa-pencil-square-o\" aria-hidden=\"true\" style=\"color:#00586D\"></i> Ejercicio 4</font></h3>\n",
    "\n",
    "\n",
    "Usando la representación de matrices anterior (como lista de listas) crear  una función que tenga como argumentos dos matrices y devuelva una nueva matriz que sea la multiplicación de ambas. La función debe comprobar la dimensión de ambas matrices y devolver un mensaje de error si la multiplicación no se puede realizar.\n",
    "\n",
    "**Nota**: Podéis consultar este [enlace](https://es.wikipedia.org/wiki/Multiplicaci%C3%B3n_de_matrices) para refrescar cómo se realizaba esta operación matricial.\n",
    "\n",
    "![multiplicacion_matrices1](https://wikimedia.org/api/rest_v1/media/math/render/svg/eaf31815f2a4eaaa947c8e4d186168b4303b6162)![multiplicacion_matrices2](https://wikimedia.org/api/rest_v1/media/math/render/svg/5d2bc2fecb59425505000359acbf8a860d37f775) ![multiplicacion_matrices2](https://wikimedia.org/api/rest_v1/media/math/render/svg/0edaf7474ad77d59d2f8edbab5d65d553dad2a9c) ![multiplicacion_matrices2](https://wikimedia.org/api/rest_v1/media/math/render/svg/4b1a770135ae22b430619f7963f27c13661a0137)\n"
   ]
  },
  {
   "cell_type": "code",
   "execution_count": null,
   "metadata": {},
   "outputs": [],
   "source": [
    "# Completar"
   ]
  },
  {
   "cell_type": "code",
   "execution_count": null,
   "metadata": {},
   "outputs": [],
   "source": []
  },
  {
   "cell_type": "markdown",
   "metadata": {},
   "source": [
    "\n",
    "<h3><font color=\"#00586D\" size=4> <i class=\"fa fa-pencil-square-o\" aria-hidden=\"true\" style=\"color:#00586D\"></i> Ejercicio 5</font></h3>\n",
    "\n",
    "\n",
    "<h3><font color=\"#00586D\" size=3>Lista de números primos</font></h3>\n",
    "\n",
    "En este ejercicio utilizaremos la estrategia _\"divide y vencerás\"_ para resolver un problema _\"algo complejo\"_. En concreto, se **implementará una función que devuelve una lista con los números primeros desde el 1 hasta otro pasado por parámetro, inclusive**. La elección de este problema tan típico nos permititirá centrarnos en las herramientas que nos proporciona el lenguaje _Python_ en lugar de atascarnos con el problema en sí.\n",
    "\n",
    "Para resolver este problema, lo **subdividiremos** en otros más pequeños que sean más fáciles de abordar. Por ello, en las siguientes celdas se pedirá la resolución de pequeños problemas, y al final será la combinación de todas estas soluciones la que nos resolverá el problema inicial.\n"
   ]
  },
  {
   "cell_type": "markdown",
   "metadata": {},
   "source": [
    "**1.** En primer lugar implementaremos una función, llamada `es_divisible`, que recibe dos argumentos:\n",
    "\n",
    "- El primero, $n$, es el dividendo.\n",
    "- El segundo, $d$, es el divisor .\n",
    "\n",
    "Debe devolver un valor booleano: `True` si $n$ es divisible por $d$ (con resto 0); y `False` en caso contrario."
   ]
  },
  {
   "cell_type": "code",
   "execution_count": null,
   "metadata": {},
   "outputs": [],
   "source": [
    "# Completar"
   ]
  },
  {
   "cell_type": "markdown",
   "metadata": {},
   "source": [
    "**2.**  A continuación, implementaremos una función llamada `es_primo` para comprobar si un número $n$ es primo o no.\n",
    "Para ello, utilizaremos la función `es_divisible` implementada anteriormente."
   ]
  },
  {
   "cell_type": "code",
   "execution_count": null,
   "metadata": {},
   "outputs": [],
   "source": [
    "# Completar"
   ]
  },
  {
   "cell_type": "markdown",
   "metadata": {},
   "source": [
    "**3.** En este punto deberíamos ser capaces de detectar si un número cualquiera es primo o no.\n",
    "\n",
    "En este apartado hay que pedir por terminal (función built-in `input`) un número entero y mostrar el siguiente mensaje si es primo:\n",
    "```\n",
    "\"¿El número X es primo? Sí\"\n",
    "```\n",
    "ó si no es primo:\n",
    "```\n",
    "\"¿El número X es primo? No\", donde X es el número introducido por pantalla.\n",
    "```"
   ]
  },
  {
   "cell_type": "code",
   "execution_count": null,
   "metadata": {},
   "outputs": [],
   "source": [
    "# Completar"
   ]
  },
  {
   "cell_type": "markdown",
   "metadata": {},
   "source": [
    "**4.** Ahora vamos a implementar la función objetivo, que consiste en devolver la lista con los números primos menor o igual que $n$. Implementaremos una función, llamada `lista_primos`, que recibe el parámetro $n$,\n",
    "y devuelve una lista con los números primos iguales o más pequeños que $n$, $1$ incluido.\n",
    "\n",
    "<font size=4> <i class=\"fa fa-book\" aria-hidden=\"true\" style=\"color:#00586D\"></i> </font> _Nota_: puede ser de utilidad la función de listas `append`."
   ]
  },
  {
   "cell_type": "code",
   "execution_count": null,
   "metadata": {},
   "outputs": [],
   "source": [
    "# Completar"
   ]
  },
  {
   "cell_type": "markdown",
   "metadata": {},
   "source": [
    "La celda a continuación puede ser utilizada para comprobar su vuestro código funciona correctamente o no. En esta celda disponemos de unas entradas y sus correspondientes soluciones, y se comprueba para cada entrada el resultado de la función `lista_primos` con la solución esperada, imprimiendo por pantalla el mensaje correspondiente."
   ]
  },
  {
   "cell_type": "code",
   "execution_count": null,
   "metadata": {},
   "outputs": [],
   "source": [
    "# Código de test: \n",
    "# Se probará la función con estos cuatro valores de n\n",
    "entradas = [3, 7, 15, 25]\n",
    "# Y esta es la solución que debe dar con cada uno de ellos. \n",
    "soluciones = [[1, 2, 3],\n",
    "              [1, 2, 3, 5, 7],\n",
    "              [1, 2, 3, 5, 7, 11, 13],\n",
    "              [1, 2, 3, 5, 7, 11, 13, 17, 19, 23]]\n",
    "\n",
    "# Prueba con cada solución. \n",
    "for i in range(len(entradas)):\n",
    "    n = entradas[i]\n",
    "    resultado = lista_primos(n)\n",
    "    # Compara el resultado con la solución conocida y almacena el resultado.\n",
    "    if resultado == soluciones[i]:\n",
    "        es_correcto = \"correcta\"\n",
    "    else:\n",
    "        es_correcto = \"incorrecta\"\n",
    "    # Imprime el resultado del test, utilizando formato    \n",
    "    print(f\"Los números primos menores que {n} son: {resultado} (Solución {es_correcto}).\")"
   ]
  },
  {
   "cell_type": "markdown",
   "metadata": {},
   "source": [
    "<h3><font color=\"#00586D\" size=4> <i class=\"fa fa-pencil-square-o\" aria-hidden=\"true\" style=\"color:#00586D\"></i> Ejercicio 6</font></h3>\n",
    "\n",
    "\n",
    "En este ejercicio usaremos diccionarios, y nos centraremos en recorrerlos para obtener la información que necesitemos. Se proporciona el código de una función (`now`) que cuando se llama devuelve un número entero, que indica la fecha actual _(indica el número de segundos transcurridos desde el 1 de enero de 1970)_.\n",
    "\n",
    "Se pide:\n",
    "\n",
    "* Crear un bucle que solicite por teclado una letra un total de 10 veces (_¡cuando lo pruebes repite alguna!_)\n",
    "* Almacenar en un diccionario esta información, siendo la clave la letra introducida, y el valor una lista con los instantes de tiempo en las que han sido introducidas (enteros devueltos por la función `now`)\n",
    "\n",
    "Utilizando esta estructura de datos, responder a las siguientes preguntas:\n",
    "* ¿Cuál es la letra introducida más repetida?\n",
    "* ¿Cuál fué la primera letra en ser introducida? ¿Y la última?\n",
    "* ¿Cuánto tiempo has empleado en introducir las 10 letras?\n",
    "* ¿Cuál es el menor tiempo que ha transcurrido entre dos letras introducidas consecutivamente? ¿Y el mayor?"
   ]
  },
  {
   "cell_type": "code",
   "execution_count": null,
   "metadata": {},
   "outputs": [],
   "source": [
    "import time\n",
    "\n",
    "def now():\n",
    "    return int(time.time())"
   ]
  },
  {
   "cell_type": "code",
   "execution_count": null,
   "metadata": {},
   "outputs": [],
   "source": [
    "# Completar"
   ]
  },
  {
   "cell_type": "markdown",
   "metadata": {},
   "source": [
    "# <font color=\"#00586D\" size=6> Ejercicios Python II</font>"
   ]
  },
  {
   "cell_type": "markdown",
   "metadata": {},
   "source": [
    "<h3><font color=\"#00586D\" size=4> <i class=\"fa fa-pencil-square-o\" aria-hidden=\"true\" style=\"color:#00586D\"></i> Ejercicio 7</font></h3>\n",
    "\n",
    "<h3><font color=\"#00586D\" size=4> Personajes de Juego de Tronos </font></h3>\n",
    "\n",
    "\n",
    "El archivo `book1.csv` contiene información sobre los personajes del primer libro de la saga _\"Canción de hielo y fuego\"_, llevado a la ficción televisiva en la famosa serie _\"Juego de tronos\"_. En concreto, cada línea contiene información sobre un par de personajes, e indica si, en el libro, aparecen a una distancia de menos de 15 palabras el uno del otro.\n",
    "\n",
    "Este archvo corresponde en realidad a una tabla cuyas **columnas** son _Source_, _Target_, _Type_, _weight_ y _book_. _Source_ y _Target_ son los personajes relacionados. _Type_ siempre tiene el valor _undirected_, y _weight_ es el numero de veces que esa relación se da en el libro. Por último, _book_ tiene siempre el valor 1."
   ]
  },
  {
   "cell_type": "markdown",
   "metadata": {},
   "source": [
    "El texto consiste en un string, en el que:\n",
    "- Cada línea está separada por el carácter `'\\n'` (salto de línea).\n",
    "- Cada línea está formada por una serie de campos separados por el carácter `','`. \n",
    "- La primera linea es el header del csv (contiene los nombres de las columnas), mientras que el resto de líneas son los datos."
   ]
  },
  {
   "cell_type": "markdown",
   "metadata": {},
   "source": [
    "En este ejercicio se pide:\n",
    "\n",
    "**1.** Leer el fichero de texto y crear un diccionario en el que la clave sea el nombre de un personaje $p_1$, y el valor sea una lista de tuplas [(personaje $p_2$, $w$), ...], donde los personajes de cada tupla $p_2$ están relacionados con $p_1$ un total de $w$ veces."
   ]
  },
  {
   "cell_type": "markdown",
   "metadata": {},
   "source": [
    "<div class=\"alert alert-block alert-info\">\n",
    "<i class=\"fa fa-info-circle\" aria-hidden=\"true\"></i>\n",
    "Puede ser de utilidad descomponer el problema en pequeñas partes. Por ejemplo:\n",
    "</div>\n",
    "\n",
    "1. Obtener por un lado la lista de nombres de columnas, y por otro los datos, como una lista de listas\n",
    "2. Puede ser de utilidad el diccionario defaultdict\n",
    "3. **OJO**: Si un personaje (campo _Source_) está relacionado con otro (campo _Target_), ¡el otro está relacionado también con el uno!"
   ]
  },
  {
   "cell_type": "code",
   "execution_count": null,
   "metadata": {},
   "outputs": [],
   "source": [
    "# Completar"
   ]
  },
  {
   "cell_type": "markdown",
   "metadata": {},
   "source": [
    "Para comprobar que funciona, relaciones['Edmure-Tully'] deve devolver:\n",
    "```python\n",
    " [('Brynden-Tully', 3),\n",
    " ('Catelyn-Stark', 7),\n",
    " ('Eddard-Stark', 3),\n",
    " ('Hoster-Tully', 7),\n",
    " ('Jaime-Lannister', 4),\n",
    " ('Karyl-Vance', 4),\n",
    " ('Lysa-Arryn', 5),\n",
    " ('Marq-Piper', 3),\n",
    " ('Petyr-Baelish', 4),\n",
    " ('Robb-Stark', 5),\n",
    " ('Tytos-Blackwood', 3)]\n",
    "```"
   ]
  },
  {
   "cell_type": "markdown",
   "metadata": {},
   "source": [
    "**2.** Obtener todos los personajes (sin repeticiones) que aparecen en el libro."
   ]
  },
  {
   "cell_type": "code",
   "execution_count": null,
   "metadata": {},
   "outputs": [],
   "source": [
    "# Completar\n",
    "# Para comprobar que funciona, el número de personajes distintos debe ser 187"
   ]
  },
  {
   "cell_type": "markdown",
   "metadata": {},
   "source": [
    "**3.** Hacer una función `mas_relacionado_personajes()` que devuelva el personaje con mayor numero de personajes distintos relacionados (notad que el campo $weight$ no tiene que ser usado en este momento)."
   ]
  },
  {
   "cell_type": "code",
   "execution_count": null,
   "metadata": {},
   "outputs": [],
   "source": [
    "# Completar\n",
    "# Para comprobar que funciona, mas_relacionado_personajes() deve devolver ('Eddard-Stark', 66)"
   ]
  },
  {
   "cell_type": "markdown",
   "metadata": {},
   "source": [
    "**4.** Hacer una función `mas_relacionado_ocurrencias()` que devuelva el personaje con mayor numero de relaciones, siendo éste la suma de los valores `weight` de cada personaje relacionado."
   ]
  },
  {
   "cell_type": "code",
   "execution_count": null,
   "metadata": {},
   "outputs": [],
   "source": [
    "# Completar\n",
    "# Para comprobar que funciona, mas_relacionado_ocurrencias() deve devolver ('Eddard-Stark', 1284)"
   ]
  },
  {
   "cell_type": "markdown",
   "metadata": {},
   "source": [
    "**5.** Hacer una función `no_relacionados(nombre)` que devuelva la lista de personajes que no están relacionados directamente con el nombre del personaje proporcionado."
   ]
  },
  {
   "cell_type": "code",
   "execution_count": null,
   "metadata": {},
   "outputs": [],
   "source": [
    "# Completar\n",
    "# Para comprobar que funciona, sorted(no_relacionado('Eddard-Stark'))[:5] es:\n",
    "# ['Addam-Marbrand', 'Aemon-Targaryen-(Maester-Aemon)', 'Aggo', 'Albett', 'Alliser-Thorne']"
   ]
  },
  {
   "cell_type": "markdown",
   "metadata": {},
   "source": [
    "**6.** Los nombres se componen generalmente de **_nombre-apellido_**, con algunas excepciones como **_Aemon-Targaryen-(Maester-Aemon)_**, o personajes secundarios como **_Harwin_**. Obtener una lista de personajes compuesta únicamente de nombres que cumplan el patrón `nombre-apellido`."
   ]
  },
  {
   "cell_type": "markdown",
   "metadata": {},
   "source": [
    "<div class=\"alert alert-block alert-info\">\n",
    "<i class=\"fa fa-info-circle\" aria-hidden=\"true\"></i>\n",
    "Puede ser de utilidad la siguiente función de los <i>Strings</i>:\n",
    "</div>\n",
    "\n",
    "La función `str.count(c)` devuelve un entero, indicando las veces que el carácter `c` aparece en el string. Por ejemplo:\n",
    "\n",
    "```\n",
    "s = \"Javier-Cózar\".count('-')  # Devuelve 1\n",
    "s = \"Javier-Cózar-del-Olmo\".count('-')  # Devuelve 3\n",
    "```"
   ]
  },
  {
   "cell_type": "code",
   "execution_count": null,
   "metadata": {},
   "outputs": [],
   "source": [
    "# Completar\n",
    "# Para comprobar que funciona, la lista obtenida, nombre_apellidos, debe tener una longitud de 105 personajes."
   ]
  },
  {
   "cell_type": "markdown",
   "metadata": {},
   "source": [
    "**7.** Hacer un diccionario (recomendamos `defaultdict`), con cada uno de los diferentes apellidos, siendo el valor la lista de personajes (puede ser un string `Nombre Apellido`) pertenecientes a esta familia (apellido). ¿Cuál es la familia con mayor numero de miembos? ¿Cuantas familias tienen un solo miembro?"
   ]
  },
  {
   "cell_type": "code",
   "execution_count": null,
   "metadata": {},
   "outputs": [],
   "source": [
    "# Completar\n",
    "# Para evitar spoilers, no se dará la solución de este último apartado ;-)"
   ]
  },
  {
   "cell_type": "markdown",
   "metadata": {},
   "source": [
    "<h3><font color=\"#00586D\" size=4> <i class=\"fa fa-pencil-square-o\" aria-hidden=\"true\" style=\"color:#00586D\"></i> Ejercicio 8</font></h3>\n",
    "\n",
    "<h3><font color=\"#00586D\" size=4> Canciones de Spotify </font></h3>\n",
    "\n",
    "\n",
    "El archivo `tracks.tsv` (ficheor como el csv pero usando tabulaciones en lugar de comas como separador) contiene un total de 45128 canciones de spotify, cada una de ellas con la información:\n",
    "- track: nombre de la canción\n",
    "- album: nombre del album al que pertenece\n",
    "- artist: nombre del artista\n",
    "- duration: duración en milisegundos\n",
    "- genres: lista de generos del artista (con el formato de python ['genero1', 'genero2', ...]\n",
    "\n",
    "Almacenaremos esta información en una estructura de clases. Para ello, vamos a crear una clase `Album`, otra `Artist` y otra `Track`. A continuación describimos la información que debe contener cada una de las clases:\n",
    "\n",
    "### Album\n",
    "\n",
    "Contiene los atributos `name` (nombre del album), `tracks` (lista de objetos `Track`, correspondientes a las canciones del album) y `artists` (un conjunto que contiene objetos `Artist`, correspondientes a los artistas incluidos en el album).\n",
    "\n",
    "Se deben implementar:\n",
    "\n",
    "- El constructor, que se le pase el nombre del album y lo almacene. Además debe inicializar las estructuras de datos necesarias (`trackas` y `artists`).\n",
    "- Una función llamada `add_track`, que se le pase un objeto `Track` y registre una canción en el álbum. Debe actualizar también el conjunto de `artists`.\n",
    "\n",
    "### Artist\n",
    "\n",
    "Contiene los atributos `name` (nombre del artista), `genres` (lista de géneros del artista) y `tracks` (lista de objetos `Track` de las canciones compuestas por el artista o grupo de artistas).\n",
    "\n",
    "Se deben implementar:\n",
    "\n",
    "- El constructor, que se le pase el nombre del artista y la lista de generos.  Además debe inicializar las estructuras de datos necesarias (`trackas`).\n",
    "\n",
    "- Una función llamada `add_track`, que se le pase un objeto `Track` y registre una canción en el álbum.\n",
    "\n",
    "### Track\n",
    "\n",
    "Contiene los atributos `name` (nombre de la canción), `duration` (duración de la canción en milisegundos) y `artist` (objeto `Artist` correspondiente con el artista de la canción).\n",
    "\n",
    "Se deben implementar:\n",
    "\n",
    "- El constructor, que se le pase el nombre de la canción, la duración, y el objeto `Artist`.\n",
    "\n",
    "\n",
    "Se deben realizar los siguientes ejercicios:\n",
    "\n",
    "1. Leer el fichero `tracks.tsv`\n",
    "2. Procesar cada una de las lineas, creando los objetos de las clases correspondientes en cada caso. Ten en cuenta que cada linea es un string, que debe ser procesado (dividir por tabuladores). Además, el campo correspondiente a los géneros es una lista en formato python transformada en string. Para facilitar su transformación a lista (desde string) se proporciona una función `parse_genres`, que se le pasa el string y devuelve la lista.\n",
    "3. En el proceso de construcción (parseo de cada linea de tracks) se deben rellenar iterativamente las variables `albums`, `artists`, `all_genres` y `total_duration`.\n",
    "\n",
    "`albums`: Un diccionario cuya clave es el nombre del álbum, y el valor es el objeto `Album`\n",
    "`artists`: Un diccionario cuya clave es el nombre del artista, y el valor es el objeto `Artist`\n",
    "`all_genres`: Un conjunto que contiene los nombres de todos los géneros (diferentes) de los artistas procesados\n",
    "`total_duration`: Un número entero que representa la duración total de todas las canciones procesadas (contiene la suma de todas las canciones procesadas)."
   ]
  },
  {
   "cell_type": "code",
   "execution_count": 1,
   "metadata": {},
   "outputs": [],
   "source": [
    "def parse_genres(genres_str):\n",
    "    return [g.strip() for g in genres_str.replace('[', '').replace(']', '').replace('\"', '').replace(\"'\", '').split(',')]"
   ]
  },
  {
   "cell_type": "code",
   "execution_count": null,
   "metadata": {},
   "outputs": [],
   "source": [
    "# Completar"
   ]
  },
  {
   "cell_type": "markdown",
   "metadata": {},
   "source": [
    "Una vez creada la estructura de clases (los objetos), se debe responder a las siguientes preguntas:\n",
    "\n",
    "- ¿Cuántos segundos de duración suman todas las canciones?\n",
    "- ¿Qué artista ha compuesto mas canciones?\n",
    "- ¿Qué álbum contiene más canciones? ¿Y más artistas diferenes?\n",
    "- ¿Qué álbum tiene mayor duración?\n",
    "- ¿Qué artista compone, en media, las canciones mas largas? ¿Y más cortas?\n",
    "- ¿Cuántas canciones hay de artistas que componen género 'spanish pop'?\n",
    "- Lista los albumes que contienen canciones de artistas con género 'blues' y artistas con género 'country'. Implementar para ello una función `contains_genres` en la clase `Album`, que se le pase una lista de nombres de géneros y devuelva `True` si para todos ellos existe al menos un artista de dicho género, y `False` en caso contrario."
   ]
  },
  {
   "cell_type": "code",
   "execution_count": null,
   "metadata": {},
   "outputs": [],
   "source": [
    "# Completar"
   ]
  }
 ],
 "metadata": {
  "kernelspec": {
   "display_name": "Python 3",
   "language": "python",
   "name": "python3"
  },
  "language_info": {
   "codemirror_mode": {
    "name": "ipython",
    "version": 3
   },
   "file_extension": ".py",
   "mimetype": "text/x-python",
   "name": "python",
   "nbconvert_exporter": "python",
   "pygments_lexer": "ipython3",
   "version": "3.7.7"
  }
 },
 "nbformat": 4,
 "nbformat_minor": 4
}
