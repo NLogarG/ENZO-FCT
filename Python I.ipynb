{
 "cells": [
  {
   "cell_type": "markdown",
   "metadata": {},
   "source": [
    "<img src=\"CIDaeNNB.png\" alt=\"Logo CiDAEN\" align=\"right\">\n",
    "\n",
    "\n",
    "<br><br><br>\n",
    "<h1><font color=\"#00586D\" size=5>Módulo 1</font></h1>\n",
    "\n",
    "\n",
    "\n",
    "<h1><font color=\"#00586D\" size=6>Python - Tutorial I</font></h1>\n",
    "\n",
    "<br>\n",
    "<div style=\"text-align: right\">\n",
    "<font color=\"#00586D\" size=3>Javier Cózar</font><br>\n",
    "<font color=\"#00586D\" size=3>Máster en Ciencia de Datos y Desarrollo de Aplicaciones en la Nube</font><br>\n",
    "<font color=\"#00586D\" size=3>Universidad de Castilla-La Mancha</font>\n",
    "\n",
    "</div>"
   ]
  },
  {
   "cell_type": "markdown",
   "metadata": {},
   "source": [
    "<h2><font color=\"#00586D\" size=5>Índice</font></h2>\n",
    "\n",
    "---\n",
    "\n",
    "El objetivo de este tutorial es conocer los flujos de control y las estructuras de datos básicas del lenguaje python.\n",
    "\n",
    "A modo de **índice**, en este tutorial se verán:\n",
    "\n",
    "\n",
    "*  1. Estructuras de control\n",
    "*  2. Funciones built-in\n",
    "*  3. Funciones"
   ]
  },
  {
   "cell_type": "markdown",
   "metadata": {},
   "source": [
    "---\n",
    "<h1><font color=\"#00586D\" size=5>1. Estructuras de control </font></h1>\n"
   ]
  },
  {
   "cell_type": "markdown",
   "metadata": {},
   "source": [
    "Las estructuras de control sirven para definir flujos de ejecución dentro de un programa. Las estructuras básicas de control son:\n",
    "* **If-else**: estructura condicional\n",
    "* **Bucle for**: estructura de bucle for\n",
    "* **Bucle while**: estructura de bucle while\n",
    "\n",
    "<div class=\"alert alert-block alert-info\">\n",
    "<i class=\"fa fa-info-circle\" aria-hidden=\"true\"></i>\n",
    "En python no existen llaves como en otros lenguajes (java, C, ...) para definir (o delimitar )bloques de código. Por el contrario, en python existe la indentación, que consiste en <strong>4 espacios consecutivos</strong>, para definir los bloques de código.\n",
    "</div>"
   ]
  },
  {
   "cell_type": "markdown",
   "metadata": {},
   "source": [
    "La estructura condicional permite **bifurcar el flujo de la ejecución de un programa** en dos alternativas. Mediante el uso de una expresión booleana (que se resuelve como `True` o `False`), perimte ejecutar uno u otro bloque, asociados a cada uno de los posibles valores booleanos."
   ]
  },
  {
   "cell_type": "code",
   "execution_count": null,
   "metadata": {},
   "outputs": [],
   "source": [
    "\"\"\"\n",
    "if condición booleana:\n",
    "    # indentación de 4 espacios para definir código dentro del if.\n",
    "    código ejecutado si condición es True\n",
    "else:\n",
    "    # indentación de 4 espacios para definir código dentro del else.\n",
    "    código ejecutado si condición es False\n",
    "\"\"\"\n",
    "\n",
    "x = int(input(\"Introduce un número entero\"))  # Nos aseguramos de que el número introducido sea un int\n",
    "\n",
    "if x % 2 == 0:\n",
    "    print(\"Has introducido un número par\")\n",
    "else:\n",
    "    print(\"Has introducido un número impar\")"
   ]
  },
  {
   "cell_type": "markdown",
   "metadata": {},
   "source": [
    "La estructura de bucle for permite **repetir un bloque de código** tantas veces como elementos tenga una **lista**. En cada iteración sobre el bucle, una variable tomará el valor de cada uno de los elementos de esa lista."
   ]
  },
  {
   "cell_type": "code",
   "execution_count": null,
   "metadata": {},
   "outputs": [],
   "source": [
    "\"\"\"\n",
    "for variable in lista:\n",
    "    # indentación de 4 espacios para definir código dentro del for.\n",
    "    código a ejecutar dentro del bucle, donde variable toma cada uno de los valores de la lista\n",
    "    (el código se ejecutará tantas veces como valores diferentes haya en la lista)\n",
    "\"\"\"\n",
    "for i in [1, 2, 3, 4]:\n",
    "    print(\"Soy el número {:d}\".format(i))"
   ]
  },
  {
   "cell_type": "markdown",
   "metadata": {},
   "source": [
    "La estructura de bucle for permite **repetir un bloque de código** en función de una expresión **booleana**. Al comienzo de cada iteración se comprobará el valor de esta expresión, y se continuará ejecutando el bucle si la condición es `True`, y se terminará en caso contrario (`False`)"
   ]
  },
  {
   "cell_type": "code",
   "execution_count": null,
   "metadata": {},
   "outputs": [],
   "source": [
    "\"\"\"\n",
    "while condición:\n",
    "    # indentación de 4 espacios para definir código dentro del for.\n",
    "    código a ejecutar dentro del bucle, donde variable toma cada uno de los valores de la lista\n",
    "    (el código se ejecutará tantas veces como valores diferentes haya en la lista)\n",
    "\"\"\"\n",
    "x = 1\n",
    "while x < 5:\n",
    "    print(\"Soy el número {:d}\".format(x))\n",
    "    x += 1"
   ]
  },
  {
   "cell_type": "markdown",
   "metadata": {},
   "source": [
    "<h3><font color=\"#00586D\" size=4> <i class=\"fa fa-pencil-square-o\" aria-hidden=\"true\" style=\"color:#00586D\"></i> Ejercicio</font></h3>\n",
    "\n",
    "- Definir una celda que declare una variable `x` inicializada con un número entero entre 0 y 100.\n",
    "- Usar una estructura condicional de if-else que imprima el siguiente mensaje en función de la variable:\n",
    "  - `Número pequeño` si $x<20$\n",
    "  - `Número normal` si $20 \\leq x \\leq 50$\n",
    "  - `Número grande` si $50 < x \\leq 90$\n",
    "  - `Número muy grande` si $x > 90$\n",
    "  \n",
    "  "
   ]
  },
  {
   "cell_type": "code",
   "execution_count": null,
   "metadata": {},
   "outputs": [],
   "source": [
    "# Completar"
   ]
  },
  {
   "cell_type": "markdown",
   "metadata": {},
   "source": [
    "<h3><font color=\"#00586D\" size=4> <i class=\"fa fa-pencil-square-o\" aria-hidden=\"true\" style=\"color:#00586D\"></i> Ejercicio</font></h3>\n",
    "\n",
    "Implementar una celda que permita saber si un año es bisiesto. Para que un año sea bisiesto debe ser divisible por 4 y no debe ser divisible por 100, excepto que también sea divisible por 400. En función de que el año sea bisiesto o no, que se imprima un mensaje diferente."
   ]
  },
  {
   "cell_type": "code",
   "execution_count": null,
   "metadata": {},
   "outputs": [],
   "source": [
    "# Completar"
   ]
  },
  {
   "cell_type": "markdown",
   "metadata": {},
   "source": [
    "<h3><font color=\"#00586D\" size=4> <i class=\"fa fa-pencil-square-o\" aria-hidden=\"true\" style=\"color:#00586D\"></i> Ejercicio</font></h3>\n",
    "\n",
    "Implementar en una celda un bucle que imprima la raiz cuadrada de los numeros especificados en la lista que recorre."
   ]
  },
  {
   "cell_type": "code",
   "execution_count": null,
   "metadata": {},
   "outputs": [],
   "source": [
    "# Completar"
   ]
  },
  {
   "cell_type": "markdown",
   "metadata": {},
   "source": [
    "<h3><font color=\"#00586D\" size=4> <i class=\"fa fa-pencil-square-o\" aria-hidden=\"true\" style=\"color:#00586D\"></i> Ejercicio</font></h3>\n",
    "\n",
    "Dados dos números enteros, especificados en variables, escribir un bucle while que imprima la secuencia de números desde el más grande hasta el más pequeño. Por ejemplo, si los números son 10 y 7, que genere en un string la secuencia `10, 9, 8, 7` y lo imprima.\n"
   ]
  },
  {
   "cell_type": "code",
   "execution_count": null,
   "metadata": {},
   "outputs": [],
   "source": [
    "# Completar"
   ]
  },
  {
   "cell_type": "markdown",
   "metadata": {},
   "source": [
    "\n",
    "<h1><font color=\"#00586D\" size=5>2. Funciones built-in</font></h1>\n"
   ]
  },
  {
   "cell_type": "markdown",
   "metadata": {},
   "source": [
    "Una **función** es un bloque que parte de unas entradas (argumentos), que son utilizados por un código que ejecuta internamente para devolver una salida. Por ejemplo, la función `sum(x, y)` es una función que recibe dos números `x` e `y`, y devuelve como salida la suma de ambos. El uso de una función se realiza mediante su nombre (`sum`) e introduciendo la lista de variables de entrada (**argumentos**), separadas por comas, entre paréntesis: por ejemplo al ejecutar `sum(2,3)` devuelve 5.\n",
    "\n",
    "En este [enlace](https://docs.python.org/3.6/library/functions.html) se puede ver la lista de funciones built-in en Python 3.6. Éstas son funciones que están disponibles desde que se inicia el intérprete. A continuación se describen las que pueden resultar de mayor interes durante el curso. Éstas son un subconjunto de las más importantes:\n",
    "\n",
    "* **abs**: Computa el valor absoluto\n",
    "* **bool**: Fuerza un elemento (cast) a ser de tipo booleano\n",
    "* **int**: Fuerza un elemento (cast) a ser de tipo entero\n",
    "* **float**: Fuerza un elemento (cast) a ser de tipo flotante\n",
    "* **str**: Fuerza un elemento (cast) a ser de tipo string\n",
    "* **divmod**: Calcula el módulo (resto de una división)\n",
    "* **input**: Permite solicitar un valor por teclado para, por ejemplo, signarlo a una variable. \n",
    "* **max** _(iterable)_: Computa el máximo entre los números pasados como argumentos\n",
    "* **min** _(iterable)_: Computa el mínimo entre los números pasados como argumentos\n",
    "* **pow**: Computa la potencia del primer argumento (base) con el segundo argumento (exponente)\n",
    "* **print**: Función que imprime en la salida el string pasado como argumento. Si no es un string, intentará castearlo a string.\n",
    "* **range** Genera un rango de enteros (secuencia de números enteros)\n",
    "* **round**: Redondea un número flotante a entero. **Utiliza el método de redondeo del banquero**.\n",
    "* **type**: Devuelve el tipo de la variable pasada como argumento.\n",
    "\n",
    "\n",
    "<div class=\"alert alert-block alert-info\">\n",
    "<i class=\"fa fa-info-circle\" aria-hidden=\"true\"></i>\n",
    "    <strong>Nota 1</strong>: Las funciones en las que se indica la palabra <i>iterable</i> se volverán a utilizar en el Tutorial de Python II, donde se explicará qué significa <i>\"iterable\"</i>.\n",
    "</div>"
   ]
  },
  {
   "cell_type": "code",
   "execution_count": null,
   "metadata": {},
   "outputs": [],
   "source": [
    "x = int(input(\"Introduce un entero\"))"
   ]
  },
  {
   "cell_type": "code",
   "execution_count": null,
   "metadata": {},
   "outputs": [],
   "source": [
    "print(x)"
   ]
  },
  {
   "cell_type": "markdown",
   "metadata": {},
   "source": [
    "#### <font color=\"#00586D\" size=3> abs </font>"
   ]
  },
  {
   "cell_type": "code",
   "execution_count": null,
   "metadata": {},
   "outputs": [],
   "source": [
    "# Función valor absoluto\n",
    "abs(-1)  # Devuelve 1"
   ]
  },
  {
   "cell_type": "markdown",
   "metadata": {},
   "source": [
    "#### <font color=\"#00586D\" size=3> bool, int, float y str </font>"
   ]
  },
  {
   "cell_type": "code",
   "execution_count": null,
   "metadata": {
    "scrolled": true
   },
   "outputs": [],
   "source": [
    "# Constructores de elementos booleanos, enteros, float y strings\n",
    "\n",
    "# bool\n",
    "x = 0\n",
    "print( bool(x) )   # Castea el entero 0 a booleano (False)\n",
    "\n",
    "# int\n",
    "x = 2.5\n",
    "print( int(x) )    # Castea el número flotante a entero por truncamiento\n",
    "\n",
    "# float\n",
    "x = 1\n",
    "print( float(x) )  # Castea el número entero a flotante\n",
    "\n",
    "# str\n",
    "x = 3.14\n",
    "print( str(x) )    # Castea el flotante a string"
   ]
  },
  {
   "cell_type": "markdown",
   "metadata": {},
   "source": [
    "#### <font color=\"#00586D\" size=3> divmod u operador infijo % </font>"
   ]
  },
  {
   "cell_type": "code",
   "execution_count": null,
   "metadata": {},
   "outputs": [],
   "source": [
    "# divmod(dividendo, divisor). Devuelve tanto la división entera como el resto\n",
    "x = divmod(10, 3)\n",
    "print(x)  # Imprime la división entera y el módulo de 10 sobre 3: (3, 1)\n",
    "\n",
    "# Existe un operador que permite obtener únicamente el módulo\n",
    "# de forma más cómoda usando el símbolo %:\n",
    "x = 10 % 3\n",
    "print(x)  # Imprime el resto únicamente (1)"
   ]
  },
  {
   "cell_type": "markdown",
   "metadata": {},
   "source": [
    "#### <font color=\"#00586D\" size=3> input </font>"
   ]
  },
  {
   "cell_type": "code",
   "execution_count": null,
   "metadata": {
    "scrolled": true
   },
   "outputs": [],
   "source": [
    "# input() solicita un valor por teclado. En jupyter notebook aparece\n",
    "# un campo de texto en la sección de salida: se introduce el valor y se\n",
    "# confirma pulsando intro\n",
    "x = input()\n",
    "print(\"Has introducido el valor: \")\n",
    "print(x)\n",
    "\n",
    "# Se puede introducir un texto informativo en el input:\n",
    "x = input(\"Introduce un número entero\")\n",
    "print(x)"
   ]
  },
  {
   "cell_type": "markdown",
   "metadata": {},
   "source": [
    "#### <font color=\"#00586D\" size=3> max / min </font>"
   ]
  },
  {
   "cell_type": "code",
   "execution_count": null,
   "metadata": {},
   "outputs": [],
   "source": [
    "# max y min\n",
    "a = 3\n",
    "b = 7\n",
    "c = 6\n",
    "\n",
    "print( max(a, b, c) )  # Imprime el valor máximo de a, b y c\n",
    "print( min(b, a, c) )  # Imprime el valor mínimo de a, b y c"
   ]
  },
  {
   "cell_type": "markdown",
   "metadata": {},
   "source": [
    "#### <font color=\"#00586D\" size=3> pow </font>"
   ]
  },
  {
   "cell_type": "code",
   "execution_count": null,
   "metadata": {},
   "outputs": [],
   "source": [
    "# Función pow. Computa la potencia del primer argumento (base)\n",
    "# con el segundo argumento (exponente)\n",
    "\n",
    "print( pow(3, 4) ) # Imprime 3^4\n",
    "\n",
    "# Existe un operador equivalente más intuitivo: el doble asterisco\n",
    "print( 3**4 )      # Imprime 3^4"
   ]
  },
  {
   "cell_type": "markdown",
   "metadata": {},
   "source": [
    "#### <font color=\"#00586D\" size=3> print() </font>"
   ]
  },
  {
   "cell_type": "code",
   "execution_count": null,
   "metadata": {},
   "outputs": [],
   "source": [
    "# print. Como hemos estado utilizando, imprime lo que se le pasa como argumento\n",
    "print(\"Hola mundo\")\n",
    "\n",
    "# Se le puede pasar más de un argumento, y los concatena usando un espacio\n",
    "print(\"Hola\", \"mundo\")\n",
    "\n",
    "# Los argumentos pueden ser de diferentes tipos (los que no son String los convierte)\n",
    "print(2, \"más\", 2, \"son\", 4)"
   ]
  },
  {
   "cell_type": "markdown",
   "metadata": {},
   "source": [
    "#### <font color=\"#00586D\" size=3> range </font>\n",
    "\n",
    "<div class=\"alert alert-block alert-info\"><i class=\"fa fa-info-circle\" aria-hidden=\"true\"></i> Más adelante veremos los <strong>generadores</strong>. Por ahora, nos basta con saber que es necesario combinar la función range con la función list (que veremos en la sección)\n",
    "\n",
    "</div>"
   ]
  },
  {
   "cell_type": "code",
   "execution_count": null,
   "metadata": {},
   "outputs": [],
   "source": [
    "# Range permite especificar una secuencia de enteros. Tiene 3 argumentos:\n",
    "# range(valor inicial inclusive, valor final exclusive, incremento)\n",
    "\n",
    "# Nota: utilizaremos la función list() para poder visualizar la secuencia\n",
    "# de valores devuelta por range. \n",
    "\n",
    "print( list(range(5, 10, 2)) )  # 5, 7 y 9\n",
    "\n",
    "print( list(range(10, 6, -1)) )  # 10, 9 y 8 y 7\n",
    "\n",
    "# Algunos argumentos se pueden omitir. Si solo se especifican 2, corresponden\n",
    "# con el valor inicial y final, y se supone el incremento = +1\n",
    "print( list(range(1, 3)) )  # 1 y 2\n",
    "\n",
    "# Por ello, si se empieza en 3 y se termina en 1 con incrementos de +1, la secuencia es vacía\n",
    "print( list(range(3, 1)) )  # Secuencia vacía\n",
    "\n",
    "# Si solo se especifica un argumento, éste es el valor final, siendo el valor\n",
    "# inicial 0, y el incremento +1\n",
    "print( list(range(5)) )  # 0, 1, 2, 3 y 4"
   ]
  },
  {
   "cell_type": "markdown",
   "metadata": {},
   "source": [
    "#### <font color=\"#00586D\" size=3> round </font>"
   ]
  },
  {
   "cell_type": "code",
   "execution_count": null,
   "metadata": {},
   "outputs": [],
   "source": [
    "# Función round. Redondea al entero siguiendo el método del banquero:\n",
    "# Se trata de un redondeo más justo. Es un redondeo típoco si la parte\n",
    "# decimal es >.5 o <.5. Sin embargo, si es exactamente .5: si la parte\n",
    "# entera es par, se redondea como si fuese <.5, y si es impar como si fuese > .5\n",
    "\n",
    "# Si la parte entera es par\n",
    "print( round(10.4) )  # 10.4 se redondea a 10\n",
    "print( round(10.6) )  # 10.6 se redondea a 11\n",
    "# Si la parte entera es impar\n",
    "print( round(11.4) )  # 11.4 se redondea a 11\n",
    "print( round(11.6) )  # 11.6 se redondea a 12\n",
    "\n",
    "print(\"====\")\n",
    "# En cambio, si la parte decimal es .5 exactamente\n",
    "# Si la parte entera es par\n",
    "print( round(10.5) )  # 10.5 se redondea a 10\n",
    "print( round(-10.5) ) # -10.5 se redondea a 10\n",
    "# Si la parte entera es impar\n",
    "print( round(11.5) )  # 11.5 se redondea a 12\n",
    "print( round(-11.5) ) # -11.5 se redondea a -12"
   ]
  },
  {
   "cell_type": "markdown",
   "metadata": {},
   "source": [
    "#### <font color=\"#00586D\" size=3> type </font>"
   ]
  },
  {
   "cell_type": "code",
   "execution_count": null,
   "metadata": {},
   "outputs": [],
   "source": [
    "# Por último, la función type devuelve el tipo de la variable\n",
    "print( type(True) )         # Es un booleano\n",
    "print( type(2) )            # Es un entero\n",
    "print( type(1.0) )          # Es un flotante\n",
    "print( type(\"Hola mundo\") ) # Es un string"
   ]
  },
  {
   "cell_type": "markdown",
   "metadata": {},
   "source": [
    "<h3><font color=\"#00586D\" size=4> <i class=\"fa fa-pencil-square-o\" aria-hidden=\"true\" style=\"color:#00586D\"></i> Ejercicio</font></h3>\n",
    "\n",
    "Implementar una celda que pida dos números por teclado y devuelva el mayor de ellos."
   ]
  },
  {
   "cell_type": "code",
   "execution_count": null,
   "metadata": {},
   "outputs": [],
   "source": [
    "# Completar"
   ]
  },
  {
   "cell_type": "markdown",
   "metadata": {},
   "source": [
    "<h3><font color=\"#00586D\" size=4> <i class=\"fa fa-pencil-square-o\" aria-hidden=\"true\" style=\"color:#00586D\"></i> Ejercicio</font></h3>\n",
    "\n",
    "~Solicitar un valor por teclado~ Utilizar una variable con un valor asignado e imprima:\n",
    "- Si el valor es un string: \"Soy un string!\"\n",
    "- Si el valor es un booleano: \"Soy un booleano!\"\n",
    "- Si el valor es un flotante: \"Soy un float!\"\n",
    "- En cualquier otro caso: \"Soy un int!\"\n",
    "\n",
    "Nota: para saber el tipo se puede usar `type`, o también `isinstance` como se muestra en la celda a continuación"
   ]
  },
  {
   "cell_type": "code",
   "execution_count": null,
   "metadata": {},
   "outputs": [],
   "source": [
    "type(5) == int  # True\n",
    "type(\"Hola\") == str  # True\n",
    "type(2.0) == int  # False\n",
    "type(2.0) == float  # True\n",
    "type(5) == float  # False"
   ]
  },
  {
   "cell_type": "code",
   "execution_count": null,
   "metadata": {},
   "outputs": [],
   "source": [
    "isinstance(5, int)  # True\n",
    "isinstance(\"Hola\", str)  # True\n",
    "isinstance(2.0, int)  # False\n",
    "isinstance(2.0, float)  # True\n",
    "isinstance(5, float)  # False"
   ]
  },
  {
   "cell_type": "code",
   "execution_count": null,
   "metadata": {},
   "outputs": [],
   "source": [
    "# Completar"
   ]
  },
  {
   "cell_type": "markdown",
   "metadata": {},
   "source": [
    "<h3><font color=\"#00586D\" size=4> <i class=\"fa fa-pencil-square-o\" aria-hidden=\"true\" style=\"color:#00586D\"></i> Ejercicio</font></h3>\n",
    "\n",
    "Obtener los divisores de un número entero introducido por teclado."
   ]
  },
  {
   "cell_type": "code",
   "execution_count": null,
   "metadata": {},
   "outputs": [],
   "source": [
    "# Completar"
   ]
  },
  {
   "cell_type": "markdown",
   "metadata": {},
   "source": [
    "\n",
    "<h1><font color=\"#00586D\" size=5>3. Funciones </font></h1>\n"
   ]
  },
  {
   "cell_type": "markdown",
   "metadata": {},
   "source": [
    "Las funciones permiten nombrar a bloques de código para ser reutilizados en múltiples partes de nuestro programa.\n",
    "\n",
    "Como vimos en las funciones built-in, éstas se caracterizan por un número de entradas (**argumentos**) y una **salida**.\n",
    "\n",
    "Se crean usando la palabra reserada **def** seguido del **nombre** de la función (para que sea un nombre válido, debe cumplir las mismas condiciones que el nombrado de variables), y **entre paréntesis el nombre de los argumentos separados por comas** (si no tiene argumentos, tan solo los paréntesis). Si la función tiene una salida (ésta es opcional) se usa **return** para especificar qué devuelve."
   ]
  },
  {
   "cell_type": "code",
   "execution_count": null,
   "metadata": {},
   "outputs": [],
   "source": [
    "def sumar(x, y):\n",
    "    return x + y"
   ]
  },
  {
   "cell_type": "code",
   "execution_count": null,
   "metadata": {},
   "outputs": [],
   "source": [
    "# Para usarla, igual que con las fucniones built-in\n",
    "sumar(2, 6)"
   ]
  },
  {
   "cell_type": "code",
   "execution_count": null,
   "metadata": {},
   "outputs": [],
   "source": [
    "def mi_funcion():\n",
    "    \"\"\"\n",
    "    Esto es un docstring.\n",
    "    Esta funcion no tiene argumentos ni salida.\n",
    "    \"\"\"\n",
    "    print(\"Mi primera función\")\n",
    "\n",
    "?mi_funcion"
   ]
  },
  {
   "cell_type": "code",
   "execution_count": null,
   "metadata": {},
   "outputs": [],
   "source": [
    "def sumar(x, y):\n",
    "    \"\"\"\n",
    "    Esta función devuelve la suma de dos entradas. En este ejemplo usamos el estilo de Google\n",
    "    https://sphinxcontrib-napoleon.readthedocs.io/en/latest/example_google.html\n",
    "    \n",
    "    Args:\n",
    "      x: Primer número a sumar\n",
    "      y: Segundo número a sumar\n",
    "    \n",
    "    Returns:\n",
    "      La suma de x e y\n",
    "    \"\"\"\n",
    "    return x + y\n",
    "\n",
    "?sumar"
   ]
  },
  {
   "cell_type": "code",
   "execution_count": null,
   "metadata": {},
   "outputs": [],
   "source": [
    "x = 5.3\n",
    "y = 7.9\n",
    "suma = sumar(x, y)\n",
    "print(\"La suma de {:f} y {:f} es {:f}\".format(x, y, suma))"
   ]
  },
  {
   "cell_type": "code",
   "execution_count": null,
   "metadata": {},
   "outputs": [],
   "source": [
    "# Definición de una función más compleja (haciendo uso de la definida anteriormente)\n",
    "def mi_funcion_multiplica_enteros(x, y):\n",
    "    \"\"\"\n",
    "    Esta función devuelve la multiplicación de dos números enteros\n",
    "    Args:\n",
    "        x: Primer número a multiplicar (número entero)\n",
    "        y: Segundo número a multiplicar (número entero)\n",
    "    Returns\n",
    "        La multiplicación de x e y (número entero)\n",
    "    \"\"\"\n",
    "    # Aseguramos que x e y son números enteros\n",
    "    x = int(x)\n",
    "    y = int(y)\n",
    "    # Hacemos uso de la función mi_funcion_suma para multiplicar\n",
    "    suma = 0\n",
    "    for _ in range(y):  # Itera sin tener en cuenta la variable\n",
    "        suma = sumar(suma, x)  # Acumula x y veces en la variable suma\n",
    "    return suma"
   ]
  },
  {
   "cell_type": "code",
   "execution_count": null,
   "metadata": {},
   "outputs": [],
   "source": [
    "x = 5\n",
    "y = 7\n",
    "multiplicacion = mi_funcion_multiplica_enteros(x, y)\n",
    "print(\"La multiplicación de {:d} por {:d} es {:d}\".format(x, y, multiplicacion))"
   ]
  },
  {
   "cell_type": "markdown",
   "metadata": {},
   "source": [
    "<div class=\"alert alert-block alert-info\">\n",
    "<i class=\"fa fa-info-circle\" aria-hidden=\"true\"></i>\n",
    "En el ejemplo anterior, el bucle for declara la variable de iteración usando _. Ésta es una forma de declarar variables anónimas: de esta manera permite que la variable no se cree ni consuma espacio en memoria (útil cuando no vayamos a hacer uso de la variable)\n",
    "</div>"
   ]
  },
  {
   "cell_type": "markdown",
   "metadata": {},
   "source": [
    "Cuando se llama a una función, los argumentos pueden ser proporcionados en **orden** o por **nombre**."
   ]
  },
  {
   "cell_type": "code",
   "execution_count": null,
   "metadata": {},
   "outputs": [],
   "source": [
    "def suma(x, y):\n",
    "    return x + y\n",
    "\n",
    "print(suma(1,2))      # En orden\n",
    "print(suma(x=1, y=2)) # Por nombre\n",
    "print(suma(y=2, x=1)) # ¡Por nombre y cambiando el orden!"
   ]
  },
  {
   "cell_type": "code",
   "execution_count": null,
   "metadata": {},
   "outputs": [],
   "source": [
    "def suma2(y):\n",
    "    return suma(2, y)"
   ]
  },
  {
   "cell_type": "code",
   "execution_count": null,
   "metadata": {},
   "outputs": [],
   "source": [
    "suma2(7)"
   ]
  },
  {
   "cell_type": "markdown",
   "metadata": {},
   "source": [
    "Las funciones se pueden declarar con valores por defecto para ciertos parámetros. Sin embargo, los parámetros tienen que estar ordenados en este caso:\n",
    "\n",
    "* Primero los parámetros obligatorios (sin valores por defecto)\n",
    "* Después los parámetros opcionales (con valores por defecto)"
   ]
  },
  {
   "cell_type": "code",
   "execution_count": null,
   "metadata": {},
   "outputs": [],
   "source": [
    "def mi_funcion(req1, req2, opt1=\"Opcional\", opt2=5):\n",
    "    print(\"Estos son los parametros introducidos: {}, {}, {} y {}\".format(req1, req2, opt1, opt2))\n",
    "\n",
    "mi_funcion('a', 'b')\n",
    "mi_funcion('a', 'b', \"Otra cosa\")\n",
    "mi_funcion('a', 'b', opt2=100)"
   ]
  },
  {
   "cell_type": "markdown",
   "metadata": {},
   "source": [
    "---"
   ]
  },
  {
   "cell_type": "markdown",
   "metadata": {},
   "source": [
    "\n",
    "# <font color=\"#00586D\" size=5> 4. Ejercicios</font>\n",
    "\n",
    "<br>"
   ]
  },
  {
   "cell_type": "markdown",
   "metadata": {},
   "source": [
    "<h3><font color=\"#00586D\" size=4> <i class=\"fa fa-pencil-square-o\" aria-hidden=\"true\" style=\"color:#00586D\"></i> Ejercicio 1</font></h3>\n",
    "\n",
    "Escribir una función que reciba un argumento flotante que sean grados Farenheit y devuelva el equivalente en grados Celsius. La fórmula es: $C = \\frac{(F - 32) * 5}{9}$"
   ]
  },
  {
   "cell_type": "code",
   "execution_count": null,
   "metadata": {},
   "outputs": [],
   "source": [
    "# Completar"
   ]
  },
  {
   "cell_type": "markdown",
   "metadata": {},
   "source": [
    "<h3><font color=\"#00586D\" size=4> <i class=\"fa fa-pencil-square-o\" aria-hidden=\"true\" style=\"color:#00586D\"></i> Ejercicio 2</font></h3>\n",
    "\n",
    "\n",
    "Vamos a crear una función que calcule el factorial de un número solicitado. Usar esta función con un argumento obtenido por el teclado (usando la función `input`).\n",
    "\n",
    "<font size=4> <i class=\"fa fa-book\" aria-hidden=\"true\" style=\"color:#00586D\"></i> </font> El factorial de un número $n$ ($n!$) se calcula como $\\prod_{k=1}^n k$, es decir, $n! = 1 \\cdot 2 \\cdot 3 \\cdot \\ldots \\cdot (n-1) \\cdot  n$"
   ]
  },
  {
   "cell_type": "code",
   "execution_count": null,
   "metadata": {},
   "outputs": [],
   "source": [
    "# Completar"
   ]
  },
  {
   "cell_type": "markdown",
   "metadata": {},
   "source": [
    "<h3><font color=\"#00586D\" size=4> <i class=\"fa fa-pencil-square-o\" aria-hidden=\"true\" style=\"color:#00586D\"></i> Ejercicio 3</font></h3>\n",
    "\n",
    "Crear una función que resuelva ecuaciones de segundo grado. Los argumentos de la función serán `a`, `b` y `c`, los coeficientes del polinomio.\n",
    "\n",
    "Por ejemplo, dada la ecuación $4x^2 -7x + 3 = 0$, `a=4`, `b=-7` y `c=3`.\n",
    "\n",
    "<font size=4> <i class=\"fa fa-book\" aria-hidden=\"true\" style=\"color:#00586D\"></i> </font> Dada la ecuación $ax^2 + bx + c = 0$, la fórmula para despejar la variable `x` es: $x = \\frac{-b \\pm \\sqrt{b^2 - 4ac}}{2a}$"
   ]
  },
  {
   "cell_type": "markdown",
   "metadata": {},
   "source": [
    "---\n",
    "\n",
    "<h1><font color=\"#00586D\" size=5>Advertencia</font></h1>\n",
    "\n",
    "<div class=\"alert alert-block alert-warning\">\n",
    "<i class=\"fa fa-exclamation-circle\" aria-hidden=\"true\"></i>\n",
    "¡Cuidado con el nombrado de las variables en Python, y en especial al usar jupyter notebooks!\n",
    "\n",
    "<ul>\n",
    "    <li> La asignación se encarga de crear la variable si no existe</li>\n",
    "    <li> La asignación modifica el valor de la variable si existe ¡y puede asignar un valor de un tipo diferente! (dinámicamente se cambia el tipo)</li>\n",
    "</ul>\n",
    "\n",
    "¡Esto significa que podemos machacar variables, funciones y paquetes por error!\n",
    "\n",
    "</div>"
   ]
  },
  {
   "cell_type": "code",
   "execution_count": null,
   "metadata": {},
   "outputs": [],
   "source": [
    "def suma(x, y):\n",
    "    return x + y"
   ]
  },
  {
   "cell_type": "code",
   "execution_count": null,
   "metadata": {},
   "outputs": [],
   "source": [
    "resultado = suma(1, 2)\n",
    "resultado"
   ]
  },
  {
   "cell_type": "code",
   "execution_count": null,
   "metadata": {},
   "outputs": [],
   "source": [
    "suma = 2 + 3"
   ]
  },
  {
   "cell_type": "code",
   "execution_count": null,
   "metadata": {},
   "outputs": [],
   "source": [
    "suma(1, 2)"
   ]
  },
  {
   "cell_type": "code",
   "execution_count": null,
   "metadata": {},
   "outputs": [],
   "source": [
    "# O peor aun..."
   ]
  },
  {
   "cell_type": "code",
   "execution_count": null,
   "metadata": {},
   "outputs": [],
   "source": [
    "_print = print"
   ]
  },
  {
   "cell_type": "code",
   "execution_count": null,
   "metadata": {},
   "outputs": [],
   "source": [
    "_print(\"Hola\")"
   ]
  },
  {
   "cell_type": "code",
   "execution_count": null,
   "metadata": {},
   "outputs": [],
   "source": [
    "print = 1"
   ]
  },
  {
   "cell_type": "code",
   "execution_count": null,
   "metadata": {},
   "outputs": [],
   "source": [
    "print(\"Hola\")"
   ]
  }
 ],
 "metadata": {
  "kernelspec": {
   "display_name": "Python 3",
   "language": "python",
   "name": "python3"
  },
  "language_info": {
   "codemirror_mode": {
    "name": "ipython",
    "version": 3
   },
   "file_extension": ".py",
   "mimetype": "text/x-python",
   "name": "python",
   "nbconvert_exporter": "python",
   "pygments_lexer": "ipython3",
   "version": "3.7.7"
  }
 },
 "nbformat": 4,
 "nbformat_minor": 4
}
