{
 "cells": [
  {
   "cell_type": "markdown",
   "metadata": {},
   "source": [
    "<img src=\"CIDaeNNB.png\" alt=\"Logo CiDAEN\" align=\"right\">\n",
    "\n",
    "\n",
    "<br><br><br>\n",
    "<h1><font color=\"#00586D\" size=5>Módulo 1</font></h1>\n",
    "\n",
    "\n",
    "\n",
    "<h1><font color=\"#00586D\" size=6>Python - Tutorial II</font></h1>\n",
    "\n",
    "<br>\n",
    "<div style=\"text-align: right\">\n",
    "<font color=\"#00586D\" size=3>Javier Cózar</font><br>\n",
    "<font color=\"#00586D\" size=3>Máster en Ciencia de Datos y Desarrollo de Aplicaciones en la Nube</font><br>\n",
    "<font color=\"#00586D\" size=3>Universidad de Castilla-La Mancha</font>\n",
    "\n",
    "</div>"
   ]
  },
  {
   "cell_type": "markdown",
   "metadata": {},
   "source": [
    "<h2><font color=\"#00586D\" size=5>Índice</font></h2>\n",
    "\n",
    "---\n",
    "\n",
    "El objetivo de este tutorial es conocer las estructuras de datos principales del lenguaje.\n",
    "\n",
    "\n",
    "A modo de **índice**, en este tutorial se verán:\n",
    "\n",
    "\n",
    "*  1. Estructuras de datos básicas\n",
    "  *  1.1 Listas\n",
    "  *  1.2 Conjuntos\n",
    "  *  1.3 Tuplas\n",
    "  *  1.4 Diccionarios"
   ]
  },
  {
   "cell_type": "markdown",
   "metadata": {},
   "source": [
    "---\n",
    "\n",
    "<font color=\"#00586D\" size=5> 1. Estructuras de datos </font>\n",
    "\n",
    "<font color=\"#00586D\" size=4> 1.1 Listas </font>"
   ]
  },
  {
   "cell_type": "markdown",
   "metadata": {},
   "source": [
    "Las listas son **secuencias de elementos** (análogo a los arrays en otros lenguajes). **No es necesario especificar el tamaño máximo** (crece según sea necesario) **ni el tipo de datos que albergará** (puede ser cualquier combinación).\n",
    "\n",
    "Las funciones que utlizaremos para gestionar las listas son:\n",
    "* **Creacón de listas**: `list` o `[]`\n",
    "* **Indexación**: acceso a los elementos de la lista usando los corchetes `[]`\n",
    "* **Insertar elementos al final**: `append`\n",
    "* **Concatenar**: Operador `+`\n",
    "* **Insertar un elemento en cualquier posición**: `insert`\n",
    "* **Borrar un elemento**: `del`\n",
    "* **Número de elementos en la lista**: `len`\n",
    "* Operaciones sobre **iterables**: all, any, max, min y sum"
   ]
  },
  {
   "cell_type": "markdown",
   "metadata": {},
   "source": [
    "#### <font color=\"#00586D\" size=3> Creación de listas </font>"
   ]
  },
  {
   "cell_type": "code",
   "execution_count": null,
   "metadata": {},
   "outputs": [],
   "source": [
    "# Se crean de dos formas distintas:\n",
    "\n",
    "# Usando la función built-in list\n",
    "lista = list()\n",
    "# O usando los corchetes\n",
    "lista = []\n",
    "\n",
    "# La ventaja de usar los corchetes es que la podemos inicializar con una secuencia de valores:\n",
    "lista = [1, 2, 3, \"a\", \"b\", 4]\n",
    "print(lista)"
   ]
  },
  {
   "cell_type": "markdown",
   "metadata": {},
   "source": [
    "#### <font color=\"#00586D\" size=3> Indexación: acceso a los elementos de una lista </font>"
   ]
  },
  {
   "cell_type": "code",
   "execution_count": null,
   "metadata": {},
   "outputs": [],
   "source": [
    "lista = [1, 2, 3]\n",
    "\n",
    "# El acceso es mediante el índice (posición dentro de la lista). El primer elemento tiene el índice 0, y el último\n",
    "# el número de elementos menos 1\n",
    "x = lista[0]\n",
    "print(\"Imprimo el primer elemento {}\".format(x))\n",
    "\n",
    "x = lista[2]\n",
    "print(\"Imprimo el último elemento {}\".format(x))\n",
    "\n",
    "# Los índices pueden ser negativos. Esto indica que se empieza a contar en orden inverso (desde la última posición)\n",
    "# En este caso, -1 indica el último elemento, y el número de elementos negativo es el primer elemento.\n",
    "x = lista[-1]\n",
    "print(\"Imprimo el último elemento {}\".format(x))\n",
    "\n",
    "x = lista[-3]\n",
    "print(\"Imprimo el primer elemento {}\".format(x))\n",
    "\n",
    "print(\"====\")\n",
    "\n",
    "# Se puede acceder a una secuencia de elementos utilizando los denominados slice indices\n",
    "print(lista[1:2])    # Obtiene los elementos desde el índice 1 (inclusive) hasta el índice 2 (exclusive)\n",
    "\n",
    "# Se puede obviar tanto el índice a la izquierda como el de la derecha de los :\n",
    "# Si obviamos el de la izquierda, se supone el primer índice como 0\n",
    "print(lista[:2])     # Obtiene los elementos desde 0 (inclusive) hasta 2 (exclusive)\n",
    "\n",
    "# Si obviamos el de la derecha, se supone el último índice como el número de elementos (es decir, todos los elementos hasta el final)\n",
    "print(lista[1:])     # Obtiene los elementos desde 1 (inclusive) hasta 3 (exclusive)\n",
    "\n",
    "# Un tercer campo se utiliza para especificar el incremento, por defecto de +1 en +1\n",
    "print(lista[0:3:2])  # Obtiene los elementos 1 y 3"
   ]
  },
  {
   "cell_type": "markdown",
   "metadata": {},
   "source": [
    "#### <font color=\"#00586D\" size=3> Adición de elementos </font>"
   ]
  },
  {
   "cell_type": "code",
   "execution_count": null,
   "metadata": {},
   "outputs": [],
   "source": [
    "# Podemos extender la lista añadiendole nuevos elementos por el final\n",
    "lista = [1, 2, 3]\n",
    "lista.append('c')\n",
    "print(lista)"
   ]
  },
  {
   "cell_type": "markdown",
   "metadata": {},
   "source": [
    "<div class=\"alert alert-block alert-warning\">\n",
    "<i class=\"fa fa-exclamation-circle\" aria-hidden=\"true\"></i>\n",
    "Como una lista puede albergar cualquier elemento, puede albergar una lista también. Si ejecutamos `lista.append([1, 2, 3])` no introduce los elementos 1, 2 y 3, sino que introduce un elemento (lista) que contiene los elementos 1, 2 y 3.\n",
    "</div>"
   ]
  },
  {
   "cell_type": "code",
   "execution_count": null,
   "metadata": {},
   "outputs": [],
   "source": [
    "lista = [1, 2, 3]\n",
    "lista.append([1, 2, 3])\n",
    "print(lista)"
   ]
  },
  {
   "cell_type": "markdown",
   "metadata": {},
   "source": [
    "#### <font color=\"#00586D\" size=3> Concatenación de elementos </font>"
   ]
  },
  {
   "cell_type": "code",
   "execution_count": null,
   "metadata": {},
   "outputs": [],
   "source": [
    "# Al igual que con los strings, las listas se pueden concatenar usando el operador +\n",
    "l1 = [1, 2, 3]\n",
    "l2 = ['a', 'b', 'c']\n",
    "print(l1 + l2)\n",
    "\n",
    "# Las listas l1 y l2 no han sido modificadas\n",
    "print(l1)\n",
    "print(l2)"
   ]
  },
  {
   "cell_type": "markdown",
   "metadata": {},
   "source": [
    "#### <font color=\"#00586D\" size=3> Inserción de elementos </font>"
   ]
  },
  {
   "cell_type": "code",
   "execution_count": null,
   "metadata": {},
   "outputs": [],
   "source": [
    "# Existe la función insert para insertar un elemento en una posición determinada\n",
    "\n",
    "l = [1, 2, 3]\n",
    "l.insert(1, 'a')                 # Inserta el elemento 'a' (segundo argumento) en la posición 1 (primer argumento)\n",
    "                                 # Los índices van desde el 0 (primera posición) hasta la última (número de elementos menos 1)\n",
    "print(l)\n",
    "\n",
    "l.insert(0, 'primer elemento')   # Insertamos un elemento en la primera posición\n",
    "print(l)\n",
    "\n",
    "l.insert(5, 'último elemento')   # Insertamos un elemento en la última posición (la lista tiene 6 elementos)\n",
    "print(l)"
   ]
  },
  {
   "cell_type": "markdown",
   "metadata": {},
   "source": [
    "#### <font color=\"#00586D\" size=3> Borrado de elementos </font>"
   ]
  },
  {
   "cell_type": "code",
   "execution_count": null,
   "metadata": {},
   "outputs": [],
   "source": [
    "# Permite borrar elementos de la lista. Para ello se indexa los elementos que queremos borrar, y se precede la palabra \"del\"\n",
    "l = [1, 2, 3, 4, 5]\n",
    "print( l[2] ) # Indexamos un elemento (el 3)\n",
    "\n",
    "del l[2]      # Lo borramos\n",
    "print(l)\n",
    "\n",
    "# Borramos una secuencia de elementos utilizando slice indices\n",
    "del l[1:3]\n",
    "print(l)"
   ]
  },
  {
   "cell_type": "code",
   "execution_count": null,
   "metadata": {},
   "outputs": [],
   "source": [
    "l = [1, 2, 3, 4, 5]\n",
    "len(l)"
   ]
  },
  {
   "cell_type": "markdown",
   "metadata": {},
   "source": [
    "#### <font color=\"#00586D\" size=3> Tamaño de la lista</font>"
   ]
  },
  {
   "cell_type": "code",
   "execution_count": null,
   "metadata": {},
   "outputs": [],
   "source": [
    "# Función que devuelve el número de elementos que tiene una lista\n",
    "l = ['a', 'b', 'c']\n",
    "print( len(l) )   # Imprimie el número de elementos: 'c'\n",
    "\n",
    "# Es útil para acceder al último elemento\n",
    "print(l[len(l)-1])\n",
    "\n",
    "# Aunque es mucho más simple utilizar los índices negativos\n",
    "print(l[-1])"
   ]
  },
  {
   "cell_type": "markdown",
   "metadata": {},
   "source": [
    "#### <font color=\"#00586D\" size=3> Operaciones sobre secuencias de elementos (_iterables_) </font>\n",
    "\n",
    "Un elemento **iterable** representa una secuencia de elementos: ejemplo de elementos iterables son las listas, los conjuntos, las tuplas y los diccionarios (tanto las claves como los valores). Las operaciones sobre iterables son operaciones que se pueden ejecutar recibiendo como argumento un elemento iterable."
   ]
  },
  {
   "cell_type": "markdown",
   "metadata": {},
   "source": [
    "#### <font color=\"#00586D\" size=3> all </font>"
   ]
  },
  {
   "cell_type": "code",
   "execution_count": null,
   "metadata": {},
   "outputs": [],
   "source": [
    "# Si la lista es una lista de booleanos, devuelve True si todos los elementos son True, y False en caso contrario\n",
    "l = [True, False, True]\n",
    "print(all(l))   # Imprime False\n",
    "\n",
    "l = [True, True, True]\n",
    "print(all(l))   # Imprime True"
   ]
  },
  {
   "cell_type": "markdown",
   "metadata": {},
   "source": [
    "#### <font color=\"#00586D\" size=3> any </font>"
   ]
  },
  {
   "cell_type": "code",
   "execution_count": null,
   "metadata": {},
   "outputs": [],
   "source": [
    "# Si la lista es una lista de booleanos, devuelve True si alguno de los elementos es True, y False en caso contrario\n",
    "l = [True, False, True]\n",
    "print(any(l))   # Imprime True\n",
    "\n",
    "l = [False, False, False]\n",
    "print(any(l))   # Imprime True"
   ]
  },
  {
   "cell_type": "markdown",
   "metadata": {},
   "source": [
    "#### <font color=\"#00586D\" size=3> all </font>"
   ]
  },
  {
   "cell_type": "code",
   "execution_count": null,
   "metadata": {},
   "outputs": [],
   "source": [
    "# Max también puede ser utilizado pasando una lista como único argumento, analizando todos los elementos de la lista para computar el máximo\n",
    "max([1,2,3,9,8,7,6]) # Computa 9"
   ]
  },
  {
   "cell_type": "markdown",
   "metadata": {},
   "source": [
    "#### <font color=\"#00586D\" size=3> min </font>"
   ]
  },
  {
   "cell_type": "code",
   "execution_count": null,
   "metadata": {},
   "outputs": [],
   "source": [
    "# Min también puede ser utilizado pasando una lista como único argumento, analizando todos los elementos de la lista para computar el mínimo\n",
    "min([1,2,3,9,8,7,6]) # Computa 1"
   ]
  },
  {
   "cell_type": "markdown",
   "metadata": {},
   "source": [
    "#### <font color=\"#00586D\" size=3> sum </font>"
   ]
  },
  {
   "cell_type": "code",
   "execution_count": null,
   "metadata": {},
   "outputs": [],
   "source": [
    "# Computa la suma de todos los elementos de una lista, pasada como argumento\n",
    "sum([1, 2, 3, 4, 5]) # Devuelve 15"
   ]
  },
  {
   "cell_type": "markdown",
   "metadata": {},
   "source": [
    "<h3><font color=\"#00586D\" size=4> <i class=\"fa fa-pencil-square-o\" aria-hidden=\"true\" style=\"color:#00586D\"></i> Ejercicio</font></h3>\n",
    "\n",
    "A partir de una lista, crea otra lista que sea el orden inverso de la primera."
   ]
  },
  {
   "cell_type": "code",
   "execution_count": null,
   "metadata": {},
   "outputs": [],
   "source": [
    "l = [2, 4, 5, 7, 1]\n",
    "# Completar"
   ]
  },
  {
   "cell_type": "markdown",
   "metadata": {},
   "source": [
    "<h3><font color=\"#00586D\" size=4> <i class=\"fa fa-pencil-square-o\" aria-hidden=\"true\" style=\"color:#00586D\"></i> Ejercicio</font></h3>\n",
    "\n",
    "Calcula la media de una lista de números."
   ]
  },
  {
   "cell_type": "code",
   "execution_count": null,
   "metadata": {},
   "outputs": [],
   "source": [
    "l = [3, 2, 4, 5, 7, 1, 10, 9, 2, 3]\n",
    "# Completar"
   ]
  },
  {
   "cell_type": "markdown",
   "metadata": {},
   "source": [
    "<h3><font color=\"#00586D\" size=4> <i class=\"fa fa-pencil-square-o\" aria-hidden=\"true\" style=\"color:#00586D\"></i> Ejercicio</font></h3>\n",
    "\n",
    "Obten una lista que contenta los elementos en posiciones que sean múltiplos de 3."
   ]
  },
  {
   "cell_type": "code",
   "execution_count": null,
   "metadata": {},
   "outputs": [],
   "source": [
    "l = [3, 2, 4, 5, 7, 1, 10, 9, 2, 3]\n",
    "# Completar"
   ]
  },
  {
   "cell_type": "markdown",
   "metadata": {},
   "source": [
    "<h3><font color=\"#00586D\" size=4> <i class=\"fa fa-pencil-square-o\" aria-hidden=\"true\" style=\"color:#00586D\"></i> Ejercicio</font></h3>\n",
    "\n",
    "Dada una lista, permuta las posiciones pares por las impares. Si la lista tiene un número impar de elementos, elimina la última posición. Por ejemplo, la lista `[0,1,2,3,4]` se transformará `[1,0,3,2]`."
   ]
  },
  {
   "cell_type": "code",
   "execution_count": null,
   "metadata": {},
   "outputs": [],
   "source": [
    "l = [0,1,2,3,4]\n",
    "# Completar"
   ]
  },
  {
   "cell_type": "markdown",
   "metadata": {},
   "source": [
    "--- \n",
    "<font color=\"#00586D\" size=4> 1.2 Conjuntos </font>"
   ]
  },
  {
   "cell_type": "markdown",
   "metadata": {},
   "source": [
    "Los conjuntos son **conjuntos de elementos no repetidos**. En este caso la indexación no tiene sentido, únicamente la comprobación de pertenencia de un elemento al conjunto. Para ello haremos uso de la palabra reservada `in`.\n",
    "\n",
    "Las funciones utilizadas para gestionar un conjunto son:\n",
    "* **Creación de conjuntos**: `set`\n",
    "* **Insertar elementos**: `add`\n",
    "* **Eliminar elementos**: `remove`\n",
    "* **Pertenencia de elementos al conjunto**: operador infijo `in`\n",
    "* **Operaciones básicas de conjuntos**: unión, intersección y diferencia\n",
    "* **Número de elementos en el conjunto**: `len`\n",
    "* Operaciones sobre **iterables**: all, any, max, min y sum **(igual que para listas)**"
   ]
  },
  {
   "cell_type": "markdown",
   "metadata": {},
   "source": [
    "<div class=\"alert alert-block alert-info\">\n",
    "<i class=\"fa fa-info-circle\" aria-hidden=\"true\"></i>\n",
    "Se puede almacenar cualquier elemento hasheable, que son elementos que tienen implementada una función hash. Para nosotros, serán hasheables los tipos básicos (int, float, bool y str, así como las tuplas, que veremos a continuación.\n",
    "</div>"
   ]
  },
  {
   "cell_type": "markdown",
   "metadata": {},
   "source": [
    "#### <font color=\"#00586D\" size=3> Creación de conjuntos</font>"
   ]
  },
  {
   "cell_type": "code",
   "execution_count": null,
   "metadata": {},
   "outputs": [],
   "source": [
    "# Se crean usando la función built-in set\n",
    "print(set())\n",
    "\n",
    "# También se puede crear un conjunto con una lista de elementos incial\n",
    "print(set([1,2,3,4]))"
   ]
  },
  {
   "cell_type": "markdown",
   "metadata": {},
   "source": [
    "#### <font color=\"#00586D\" size=3> Inserción de elementos</font>"
   ]
  },
  {
   "cell_type": "code",
   "execution_count": null,
   "metadata": {},
   "outputs": [],
   "source": [
    "# Se utiliza la función add\n",
    "s = set()      # Creamos el conjunto\n",
    "s.add(1)       # Añadimos el 1\n",
    "s.add(\"Hola\")  # Añadimos el string \"Hola\"\n",
    "s.add(2.3)     # Añadimos el flotante 2.3\n",
    "print(s)\n",
    "\n",
    "# Ahora si añadimos un elemento repetido no hace nada (el conjunto sigue siendo el mismo)\n",
    "s.add(1)       # Añadimos el 1\n",
    "s.add(\"Hola\")  # Añadimos el string \"Hola\"\n",
    "s.add(2.3)     # Añadimos el flotante 2.3\n",
    "print(s)"
   ]
  },
  {
   "cell_type": "markdown",
   "metadata": {},
   "source": [
    "#### <font color=\"#00586D\" size=3> Eliminación de elementos</font>"
   ]
  },
  {
   "cell_type": "code",
   "execution_count": null,
   "metadata": {},
   "outputs": [],
   "source": [
    "s = set(['a','b','c'])\n",
    "print(s)\n",
    "\n",
    "s.remove('b')  # Extraemos el elemento 'b'\n",
    "print(s)"
   ]
  },
  {
   "cell_type": "markdown",
   "metadata": {},
   "source": [
    "#### <font color=\"#00586D\" size=3>Pertenencia de elementos</font>"
   ]
  },
  {
   "cell_type": "code",
   "execution_count": null,
   "metadata": {},
   "outputs": [],
   "source": [
    "# Con el operador infijo \"in\" se puede comprobar la petenencia de elementos en un set\n",
    "# Comprueba si el elemento a la izquierda existe en el elemento de la derecha\n",
    "\n",
    "s = set([1,2,3])\n",
    "print(2 in s) # Devuelve True\n",
    "print(5 in s) # Devuelve False"
   ]
  },
  {
   "cell_type": "markdown",
   "metadata": {},
   "source": [
    "<div class=\"alert alert-block alert-info\">\n",
    "<i class=\"fa fa-info-circle\" aria-hidden=\"true\"></i>\n",
    "En realidad el operador infijo <i>in</i> se puede utilizar sobre cualquier elemento que sea iterable (como listas, tuplas o diccionarios).\n",
    "    \n",
    "Por ejemplo: `'b' in ['a', 'b', 'c']` devolvería `True`\n",
    "</div>"
   ]
  },
  {
   "cell_type": "markdown",
   "metadata": {},
   "source": [
    "#### <font color=\"#00586D\" size=3> Operaciones básicas sobre conjuntos</font>\n",
    "* <font color=\"#00586D\" size=3> <strong>unión</strong> </font>: union\n",
    "* <font color=\"#00586D\" size=3> <strong>intersección</strong> </font>: intersection\n",
    "* <font color=\"#00586D\" size=3> <strong>diferencia</strong> </font>: difference (-)"
   ]
  },
  {
   "cell_type": "code",
   "execution_count": null,
   "metadata": {},
   "outputs": [],
   "source": [
    "s1 = set([1,2,3,4,5])\n",
    "s2 = set([4,5,6,7,8])\n",
    "\n",
    "print(\"Unión de conjuntos: {}\".format(s1.union(s2)))\n",
    "print(\"Intersección de conjuntos: {}\".format(s1.intersection(s2)))\n",
    "print(\"Diferencia entre conjuntos: {}, igual que {}\".format(s1.difference(s2), s1 - s2))"
   ]
  },
  {
   "cell_type": "markdown",
   "metadata": {},
   "source": [
    "<h3><font color=\"#00586D\" size=4> <i class=\"fa fa-pencil-square-o\" aria-hidden=\"true\" style=\"color:#00586D\"></i> Ejercicio</font></h3>\n",
    "\n",
    "Utiliza un bucle para introducir 10 caracteres por teclado. Asigna cada uno de ellos a un conjunto, inicialmente vacío. Imprime el número de caracteres diferentes que has introducido."
   ]
  },
  {
   "cell_type": "code",
   "execution_count": null,
   "metadata": {},
   "outputs": [],
   "source": [
    "# Completar"
   ]
  },
  {
   "cell_type": "markdown",
   "metadata": {},
   "source": [
    "<h3><font color=\"#00586D\" size=4> <i class=\"fa fa-pencil-square-o\" aria-hidden=\"true\" style=\"color:#00586D\"></i> Ejercicio</font></h3>\n",
    "\n",
    "Genera dos listas con números menores que 100, una con todos los números múltiplos de 3, y otra con los múltiplos de 7\n",
    "\n",
    "Posterirmente indica cuántos de ellos están presentes en ambas listas.\n",
    "\n",
    "**Pista**: Puede ser de gran ayuda transformar estas dos listas a conjuntos."
   ]
  },
  {
   "cell_type": "code",
   "execution_count": null,
   "metadata": {},
   "outputs": [],
   "source": [
    "# Completar"
   ]
  },
  {
   "cell_type": "markdown",
   "metadata": {},
   "source": [
    "---\n",
    "<font color=\"#00586D\" size=4> 1.3 Tuplas </font>"
   ]
  },
  {
   "cell_type": "markdown",
   "metadata": {},
   "source": [
    "Las tuplas son secuencias de elementos, de forma similar a las listas, pero que son **inmutables**. Esto significa que una tupla no se puede modificar una vez ésta ha sido creada.\n",
    "\n",
    "Una de las ventajas de las tuplas, más allá de la definición conceptual, es que permiten que exista implementada una función hash por defecto: **permite que estos elementos puedan ser insertados en conjuntos y en diccionarios como claves**\n",
    "\n",
    "\n",
    "Al ser una especialización de las listas, tanto la **indexación** como las funciones descritas anteriormente para las listas sirven para las tuplas. La **excepción** son las funciones que modifican la lista (¡ya que las tuplas son inmutables!). Éstas son las funciones `append`, `insert` y `del`, además de las que trabajan con **iterables**: all, any, max, min y sum.\n",
    "\n",
    "Por lo tanto, a modo de índice, éstas son las funciones que usaremos para gestionar las tuplas:\n",
    "* **Creacón de tuplas**: `tuple` o `()`\n",
    "* **Indexación**: acceso a los elementos de la tupla usando los corchetes `[]` **(igual que para listas)**.\n",
    "* **Concatenar**: Operador `+` **(igual que para listas)**\n",
    "* **Número de elementos en la tupla**: `len` **(igual que para listas)**\n",
    "* Operaciones sobre **iterables**: all, any, max, min y sum **(igual que para listas)**\n"
   ]
  },
  {
   "cell_type": "code",
   "execution_count": null,
   "metadata": {},
   "outputs": [],
   "source": [
    "t = (1,2)"
   ]
  },
  {
   "cell_type": "code",
   "execution_count": null,
   "metadata": {},
   "outputs": [],
   "source": [
    "t[0] = 3  # TypeError: 'tuple' object does not support item assignment"
   ]
  },
  {
   "cell_type": "markdown",
   "metadata": {},
   "source": [
    "#### <font color=\"#00586D\" size=3> Creación de tuplas</font>"
   ]
  },
  {
   "cell_type": "code",
   "execution_count": null,
   "metadata": {},
   "outputs": [],
   "source": [
    "# Mediante la función built-in tuple, a la que se le pasa una lista (si no se indican argumentos, construye una tupla vacía)\n",
    "t = tuple([1, 2, 3])   # Tupla con los elementos 1, 2, 3\n",
    "print(t)\n",
    "\n",
    "# También se puede crear mediante el uso de paréntesis:\n",
    "t = (1, 2, 3)\n",
    "print(t)\n",
    "\n",
    "# Creación de tuplas vacías:\n",
    "print(tuple())         # Función tuple sin argumentos\n",
    "print(())              # Paréntesis sin elementos."
   ]
  },
  {
   "cell_type": "code",
   "execution_count": null,
   "metadata": {},
   "outputs": [],
   "source": [
    "# Como son objetos hasheables, se pueden insertar en conjuntos:\n",
    "s = set()\n",
    "s.add((1,2))       # Añadimos la tupla (1, 2) al conjunto\n",
    "print(s)\n",
    "\n",
    "print((1,2) in s)  # Comprobamos si la tupla pertenece o no al conjunto"
   ]
  },
  {
   "cell_type": "markdown",
   "metadata": {},
   "source": [
    "<div class=\"alert alert-block alert-warning\">\n",
    "<i class=\"fa fa-exclamation-circle\" aria-hidden=\"true\"></i>\n",
    "Cuando se crea una tupla con un solo elemento tenemos dos opciones:\n",
    "\n",
    "- Usar `tuple('a')`</li>\n",
    "- Usar `('a',)`. ¡En este caso es necesaria la coma para diferenciar el uso de los paréntesis como agrupación de operaciones!\n",
    "\n",
    "</div>"
   ]
  },
  {
   "cell_type": "markdown",
   "metadata": {},
   "source": [
    "### <font color=\"#00586D\" size=4>Asignación múltiple</font>\n",
    "\n",
    "En Python se permite asignación múltiple: `x, y, z = 1, 2, 3`\n",
    "\n",
    "En realidad, el código al que se traduce es el siguiente: `(x, y, z) = (1, 2, 3)`.\n",
    "\n",
    "Puede ser muy útil, por ejemplo, en la descomposición de strings:"
   ]
  },
  {
   "cell_type": "code",
   "execution_count": null,
   "metadata": {},
   "outputs": [],
   "source": [
    "nombre, apellido1, apellido2 = \"Pedro López Santos\".split(\" \")\n",
    "print(nombre)\n",
    "print(apellido1)\n",
    "print(apellido2)"
   ]
  },
  {
   "cell_type": "markdown",
   "metadata": {},
   "source": [
    "<h3><font color=\"#00586D\" size=4> <i class=\"fa fa-pencil-square-o\" aria-hidden=\"true\" style=\"color:#00586D\"></i> Ejercicio</font></h3>\n",
    "\n",
    "Dada una fecha con el formato `yyyy-mm-dd`, descomponla en 3 variables: `year, `month` y `day`."
   ]
  },
  {
   "cell_type": "code",
   "execution_count": null,
   "metadata": {},
   "outputs": [],
   "source": [
    "fecha = \"2020-10-07\"\n",
    "# Completar"
   ]
  },
  {
   "cell_type": "markdown",
   "metadata": {},
   "source": [
    "<h3><font color=\"#00586D\" size=4> <i class=\"fa fa-pencil-square-o\" aria-hidden=\"true\" style=\"color:#00586D\"></i> Ejercicio</font></h3>\n",
    "\n",
    "Crea un conjunto de tuplas, con al menos 3 tuplas, en las que cada una de ellas contenga dos nombres, representando una pareja de personas conocidas. Por ejemplo, Melania y Donald.\n",
    "\n",
    "Posteriormente consultar si una pareja existe en el conjunto o no. Probar con una tupla que sí esté y otra que no."
   ]
  },
  {
   "cell_type": "code",
   "execution_count": null,
   "metadata": {},
   "outputs": [],
   "source": [
    "# Completar"
   ]
  },
  {
   "cell_type": "markdown",
   "metadata": {},
   "source": [
    "\n",
    "---\n",
    "\n",
    "<font color=\"#00586D\" size=4> 1.4 Diccionarios </font>"
   ]
  },
  {
   "cell_type": "markdown",
   "metadata": {},
   "source": [
    "Los diccionarios son elementos que relacionan una **clave** con un **valor**. La clave tiene que ser hasheable (al igual que pasaba con los elementos de un **set**). El valor puede ser cualquier elemento.\n",
    "\n",
    "Las siguientes funciones son las utilizadas para gestionar diccionarios:\n",
    "\n",
    "* **Creacón de diccionarios**: `dict` o `{}`\n",
    "* **Indexación**: acceso a los elementos de la tupla usando los corchetes `[]`, donde dentro de los corchetes se especifica una clave\n",
    "* **Borrar un elementos**: `del` **(igual que para listas)**\n",
    "* **Número de elementos en el diccionario**: `len` **(igual que para listas)**\n",
    "* Operaciones sobre **iterables**: all, any, max, min y sum **(igual que para listas. Opera sobre la lista de claves)**\n",
    "* Operaciones **iterables**: all, any, max, min y sum (**se opera sobre la lista de claves**)"
   ]
  },
  {
   "cell_type": "markdown",
   "metadata": {},
   "source": [
    "#### <font color=\"#00586D\" size=3> Creación de diccionarios</font>"
   ]
  },
  {
   "cell_type": "code",
   "execution_count": null,
   "metadata": {},
   "outputs": [],
   "source": [
    "# Se crean usando la función built-in dict, y como argumentos asignaciones \"clave=valor\"\n",
    "print(dict(a=1, b=2))\n",
    "\n",
    "# También se puede crear utilizando las llaves, y elemenos \"clave:valor\" separados por comas\n",
    "print({'a':1, 'b':2})"
   ]
  },
  {
   "cell_type": "markdown",
   "metadata": {},
   "source": [
    "<div class=\"alert alert-block alert-info\">\n",
    "<i class=\"fa fa-info-circle\" aria-hidden=\"true\"></i>\n",
    "La ventaja de crear los diccionarios con la palabra reservada `dict` es que puede resultar más cómodo de recordar, al seguir el formato de agumentos en funciones.\n",
    "\n",
    "<br>\n",
    "<i class=\"fa fa-info-circle\" aria-hidden=\"true\"></i>\n",
    "La desventaja es que las claves en este formato siempre se toman como caracteres. Si queremos utilizar enteros o flotantes como clave, hay que hacerlo usando el constructor basado en llaves `{}`\n",
    "</div>"
   ]
  },
  {
   "cell_type": "code",
   "execution_count": null,
   "metadata": {},
   "outputs": [],
   "source": [
    "# Ejemplo de creación de un diccionario con claves numéricas:\n",
    "print({1:\"entero\", 2.65:\"flotante\"})"
   ]
  },
  {
   "cell_type": "markdown",
   "metadata": {},
   "source": [
    "#### <font color=\"#00586D\" size=3> Acceso a pares clave-valor</font>"
   ]
  },
  {
   "cell_type": "code",
   "execution_count": null,
   "metadata": {},
   "outputs": [],
   "source": [
    "# El acceso se realiza mediante el uso de corchetes\n",
    "d = {1:\"entero\", 2.5: \"flotante\", \"hola\": \"string\"}\n",
    "\n",
    "print(d[1])       # \"entero\"\n",
    "print(d[2.5])     # \"flotante\"\n",
    "print(d[\"hola\"])  # \"string\""
   ]
  },
  {
   "cell_type": "code",
   "execution_count": null,
   "metadata": {},
   "outputs": [],
   "source": [
    "d = {}\n",
    "d['hola'] = 'mundo'"
   ]
  },
  {
   "cell_type": "code",
   "execution_count": null,
   "metadata": {},
   "outputs": [],
   "source": [
    "d[(1,2,3)] = 1"
   ]
  },
  {
   "cell_type": "code",
   "execution_count": null,
   "metadata": {},
   "outputs": [],
   "source": [
    "d"
   ]
  },
  {
   "cell_type": "markdown",
   "metadata": {},
   "source": [
    "Se puede acceder a la lista de claves, la lista de valores, y la lista de tuplas (clave, valor). Para ello, existen las funciones `keys`, `values` e `items`."
   ]
  },
  {
   "cell_type": "markdown",
   "metadata": {},
   "source": [
    "<div class=\"alert alert-block alert-info\">\n",
    "<i class=\"fa fa-info-circle\" aria-hidden=\"true\"></i>\n",
    "Estas funciones devuelven un generador, que explicaremos más adelante. Por ahora solo necesitamos saber que para generar la lista a parir del generador, es necesario usar la función list().\n",
    "</div>"
   ]
  },
  {
   "cell_type": "code",
   "execution_count": null,
   "metadata": {},
   "outputs": [],
   "source": [
    "d = {1:\"entero\", 2.5: \"flotante\", \"hola\": \"string\"}\n",
    "\n",
    "print( list(d.keys()) )    # Imprime la lista de claves\n",
    "print( list(d.values()) )  # Imprime la lista de valores\n",
    "print( list(d.items()) )   # Imprime la lista de tuplas (clave, valor)"
   ]
  },
  {
   "cell_type": "markdown",
   "metadata": {},
   "source": [
    "#### <font color=\"#00586D\" size=3> Diccionarios con un valor por defecto </font>"
   ]
  },
  {
   "cell_type": "markdown",
   "metadata": {},
   "source": [
    "En ocasiones es muy útil disponer de diccionarios con un valor por defecto. Existen los `defaultdict`, diccionarios que al asignar"
   ]
  },
  {
   "cell_type": "code",
   "execution_count": null,
   "metadata": {},
   "outputs": [],
   "source": [
    "cuentapalabras = dict()\n",
    "texto = \"En un día como hoy, estamos viendo el uso de diccionarios en Python con un valor por defecto\".split(\" \")\n",
    "for p in texto:\n",
    "    # hacemos la palabra lowercase\n",
    "    palabra = p.lower()\n",
    "    if palabra in cuentapalabras:\n",
    "        cuentapalabras[palabra] += 1\n",
    "    else:\n",
    "        cuentapalabras[palabra] = 1\n",
    "cuentapalabras"
   ]
  },
  {
   "cell_type": "code",
   "execution_count": null,
   "metadata": {},
   "outputs": [],
   "source": [
    "from collections import defaultdict\n",
    "\n",
    "cuentapalabras = defaultdict(int)\n",
    "texto = \"En un día como hoy, estamos viendo el uso de diccionarios en Python con un valor por defecto\".split(\" \")\n",
    "for p in texto:\n",
    "    palabra = p.lower()\n",
    "    # hacemos la palabra lowercase\n",
    "    cuentapalabras[palabra] += 1\n",
    "cuentapalabras"
   ]
  },
  {
   "cell_type": "code",
   "execution_count": null,
   "metadata": {},
   "outputs": [],
   "source": [
    "# También es muy útil cuando manejamos listas...\n",
    "tipo_palabras = [('estamos', 'verbo'), ('en', 'preposición'), ('clase', 'nombre'), ('escuchando', 'verbo')]\n",
    "\n",
    "grupos_palabras = defaultdict(list)\n",
    "for valor, clave in tipo_palabras:\n",
    "    grupos_palabras[clave].append(valor)\n",
    "grupos_palabras"
   ]
  },
  {
   "cell_type": "markdown",
   "metadata": {},
   "source": [
    "\n",
    "# <font color=\"#00586D\" size=5> 2. Ejercicios</font>\n",
    "\n",
    "<br>"
   ]
  },
  {
   "cell_type": "markdown",
   "metadata": {},
   "source": [
    "<h3><font color=\"#00586D\" size=4> <i class=\"fa fa-pencil-square-o\" aria-hidden=\"true\" style=\"color:#00586D\"></i> Ejercicio 1</font></h3>\n",
    "\n",
    "Dado el siguiente diccionario, accede al valor \"solución\" usando la indexación."
   ]
  },
  {
   "cell_type": "code",
   "execution_count": null,
   "metadata": {},
   "outputs": [],
   "source": [
    "d = {1: ['a', ['b', 'c'], 1], \"2\": [{(2, 3): \"solucion\", \"hola\": \"mundo\"}], 3: [1, 2, 3]}\n",
    "# Completar"
   ]
  },
  {
   "cell_type": "markdown",
   "metadata": {},
   "source": [
    "<h3><font color=\"#00586D\" size=4> <i class=\"fa fa-pencil-square-o\" aria-hidden=\"true\" style=\"color:#00586D\"></i> Ejercicio 2</font></h3>\n",
    "\n",
    "Crear un diccionario donde las claves son tuplas representando una fecha (el primer campo de la tupla es el año, el segundo el mes, y el tercero el día), y los valores son listas que contienen listas de sucesos, i.e.: noticias. Introducir al menos 3 claves diferentes."
   ]
  },
  {
   "cell_type": "code",
   "execution_count": null,
   "metadata": {},
   "outputs": [],
   "source": [
    "# Completar"
   ]
  },
  {
   "cell_type": "markdown",
   "metadata": {},
   "source": [
    "<h3><font color=\"#00586D\" size=4> <i class=\"fa fa-pencil-square-o\" aria-hidden=\"true\" style=\"color:#00586D\"></i> Ejercicio 3</font></h3>\n",
    "\n",
    "Dado un texto (del famoso lorem ipsum) crear un diccionario que cuente cada una de las palabras diferentes en el texto."
   ]
  },
  {
   "cell_type": "code",
   "execution_count": null,
   "metadata": {},
   "outputs": [],
   "source": [
    "lorem_ipsum = \"Lorem ipsum dolor sit amet, consectetur adipiscing elit. Cras sit amet augue efficitur, vehicula purus a, feugiat nisi. Mauris elementum urna justo, et porttitor odio tristique sit amet. Integer cursus tristique dolor, ac tempor lorem semper eu. Quisque non tristique odio. In cursus ultrices arcu, eu luctus enim tempus sed. Mauris in malesuada lectus. Nullam arcu leo, lobortis ut laoreet aliquam, auctor nec diam. Ut lacinia ante ipsum, id porttitor nibh aliquam sed. In hac habitasse platea dictumst. Praesent mollis nunc bibendum venenatis efficitur. Morbi id diam efficitur, consectetur risus ut, convallis urna. Mauris placerat scelerisque leo, eu luctus risus faucibus feugiat. Sed iaculis ipsum a augue vehicula pellentesque. Ut eget convallis libero.\"\n",
    "# Completar"
   ]
  }
 ],
 "metadata": {
  "kernelspec": {
   "display_name": "Python 3",
   "language": "python",
   "name": "python3"
  },
  "language_info": {
   "codemirror_mode": {
    "name": "ipython",
    "version": 3
   },
   "file_extension": ".py",
   "mimetype": "text/x-python",
   "name": "python",
   "nbconvert_exporter": "python",
   "pygments_lexer": "ipython3",
   "version": "3.7.7"
  }
 },
 "nbformat": 4,
 "nbformat_minor": 4
}
