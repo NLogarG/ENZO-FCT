{
 "cells": [
  {
   "cell_type": "markdown",
   "metadata": {},
   "source": [
    "<img src=\"CIDaeNNB.png\" alt=\"Logo CiDAEN\" align=\"right\">\n",
    "\n",
    "\n",
    "<br><br><br>\n",
    "<h1><font color=\"#00586D\" size=5>Módulo 1</font></h1>\n",
    "\n",
    "\n",
    "\n",
    "<h1><font color=\"#00586D\" size=6>Python - Tutorial I</font></h1>\n",
    "\n",
    "<br>\n",
    "<div style=\"text-align: right\">\n",
    "<font color=\"#00586D\" size=3>Javier Cózar</font><br>\n",
    "<font color=\"#00586D\" size=3>Máster en Ciencia de Datos y Desarrollo de Aplicaciones en la Nube</font><br>\n",
    "<font color=\"#00586D\" size=3>Universidad de Castilla-La Mancha</font>\n",
    "\n",
    "</div>"
   ]
  },
  {
   "cell_type": "markdown",
   "metadata": {},
   "source": [
    "<h2><font color=\"#00586D\" size=5>Índice</font></h2>\n",
    "\n",
    "---\n",
    "\n",
    "El objetivo de este tutorial es conocer los elementos básico del lenguaje python, haciendo especial hincapié en lo que será ampliamente utilizado durante el curso.\n",
    "\n",
    "\n",
    "A modo de **índice**, en este tutorial se verán:\n",
    "\n",
    "\n",
    "* 1. Declaración de variables: tipado dinámico\n",
    "*  2. Expresiones\n",
    "  *  2.1 Operadores aritméticos\n",
    "  *  2.2 Funciones y operaciones sobre Strings\n",
    "  *  2.3 Operaciones con valores booleanos"
   ]
  },
  {
   "cell_type": "markdown",
   "metadata": {},
   "source": [
    "---\n",
    "\n",
    "<a id=\"section1\"></a>\n",
    "# <font color=\"#00586D\" size=5> 1. Declaración de variables: nombre de variables permitido</font>\n",
    "\n",
    "<br>\n",
    "\n",
    "Un identificador **válido** debe cumplir una serie de **condiciones**:\n",
    "\n",
    "* Tiene que **empezar por una letra o el símbolo _**\n",
    "* No puede contener espacios\n",
    "* Aunque puede contener caractéres especiales, como la ñ, se recomienda no hacerlo (estándar en programación)\n",
    "\n",
    "\n",
    "<div class=\"alert alert-block alert-info\">\n",
    "<i class=\"fa fa-info-circle\" aria-hidden=\"true\"></i>\n",
    "<strong>Nota</strong>: Para mostrar el valor de las variables harémos uso de las funciones built-in print y type, que serán explicadas más adelante."
   ]
  },
  {
   "cell_type": "code",
   "execution_count": null,
   "metadata": {},
   "outputs": [],
   "source": [
    "mivariable = 1       # Tiene que empezar por una letra\n",
    "_mivariable = 0.123  # O empezar por el símbolo _\n",
    "\n",
    "# Tras el primer caracter, se permiten letras, números y _ (pero no espacios)\n",
    "_123 = \"Hola\"  \n",
    "var2_3_4_final = \"Mundo\""
   ]
  },
  {
   "cell_type": "code",
   "execution_count": null,
   "metadata": {},
   "outputs": [],
   "source": [
    "fecha = \"2020-10-06\"\n",
    "print(fecha)"
   ]
  },
  {
   "cell_type": "markdown",
   "metadata": {},
   "source": [
    "## <font color=\"#00586D\" size=5> Tipado dinámico </font>\n",
    "\n",
    "\n",
    "En Python los **tipos se infieren dinámicamente**, es decir, no es necesario declarar de qué tipo es una variable pero ésta tiene un tipo asociado (el intérprete determina el tipo). Para declarar una variable basta con escribir un **identificador o nombre y asignarle un valor usando el símbolo `=`**. "
   ]
  },
  {
   "cell_type": "code",
   "execution_count": null,
   "metadata": {},
   "outputs": [],
   "source": [
    "# Declara una variable numérica\n",
    "un_numero = 5\n",
    "print(un_numero)        # Mostramos su valor\n",
    "print(type(un_numero))  # Mostramos su tipo inferido"
   ]
  },
  {
   "cell_type": "code",
   "execution_count": null,
   "metadata": {},
   "outputs": [],
   "source": [
    "# Existen los tipos de datos básicos habituales: int, float, str y bool\n",
    "print(type(1))      # Tipo int (entero)\n",
    "print(type(1.0))    # Tipo float (número flotante)\n",
    "print(type(\"Hola\")) # Tipo str (secuencia de caracteres)\n",
    "print(type(True))   # Tipo bool (Booleano, True o False)\n",
    "\n",
    "# Existe un tipo especial, llamado NoneType, que sirve para indicar que es una variable vacía. Es muy útil \n",
    "# para representar ausencia de información, un resultado especial para una función, etc.\n",
    "print(type(None))   # None es una palabra reservada, al igual que True y False. Se usa igual... 'variable = None'"
   ]
  },
  {
   "cell_type": "markdown",
   "metadata": {},
   "source": [
    "<div class=\"alert alert-block alert-warning\">\n",
    "<i class=\"fa fa-exclamation-circle\" aria-hidden=\"true\"></i>\n",
    "Esta flexibilidad, la no necesidad de declarar tipos, es muy potente, pero hay que manejarla con cautela. No existe una declaración de variables al uso, es decir:\n",
    "<ul>\n",
    "    <li> La asignación se encarga de crear la variable si no existe</li>\n",
    "    <li> La asignación modifica el valor de la variable si existe ¡y puede asignar un valor de un tipo diferente! (dinámicamente se cambia el tipo)</li>\n",
    "</ul>\n",
    "</div>"
   ]
  },
  {
   "cell_type": "markdown",
   "metadata": {},
   "source": [
    "\n",
    "<a id=\"section2\"></a> </font></h1>\n",
    "<h1><font color=\"#00586D\" size=5>2. Expresiones</font>\n",
    "<a id=\"section2A\"></a> \n",
    "    \n",
    "## <font color=\"#00586D\" size=4> 2.1 Operadores aritméticos </font>\n",
    "\n",
    "Las operaciones aritméticas básicas son accesibles por defecto."
   ]
  },
  {
   "cell_type": "code",
   "execution_count": null,
   "metadata": {},
   "outputs": [],
   "source": [
    "print(2 + 3)     # Suma: 5\n",
    "print(2 - 3)     # Resta: -1\n",
    "print(-6)        # Un número negativo: -6\n",
    "\n",
    "print(\"====\")\n",
    "\n",
    "print(2 * 3)     # Multiplicación: 6\n",
    "print(5 / 2)     # División flotante: 2.5\n",
    "print(4 / 2)     # Aunque los números sean enteros y la división sea exacta\n",
    "                 # el resultado es un número flotante\n",
    "print(5 // 2)    # División entera: 2 (se trunca; equivalente a int(5/2))\n",
    "print(4 // 2)    # El resultado es un entero: 2\n",
    "\n",
    "print(\"====\")\n",
    "\n",
    "print(5 % 2)     # El módulo es 1 (resto de 5 / 2)\n",
    "print(2**3)      # 2 elevado a 3: 8"
   ]
  },
  {
   "cell_type": "markdown",
   "metadata": {},
   "source": [
    "## <font color=\"#00586D\" size=4> El paquete `math` </font>\n",
    "\n",
    "Éste incluye funcionalidad de **operadores matemáticos**. En el Tutorial II veremos más detalles sobre paquetes y el uso de `import`."
   ]
  },
  {
   "cell_type": "code",
   "execution_count": null,
   "metadata": {},
   "outputs": [],
   "source": [
    "import math"
   ]
  },
  {
   "cell_type": "code",
   "execution_count": null,
   "metadata": {},
   "outputs": [],
   "source": [
    "?math.cos"
   ]
  },
  {
   "cell_type": "markdown",
   "metadata": {},
   "source": [
    "Sin embargo, si se quieren usar operaciones más complejas, es necesatio importar una librería llamada `math` (hablaremos en mayor detalle en el Tutorial Python II). Esto se realiza con el código `import math`, y se acceden a las funciones con un punto, por ejemplo `math.sqrt` para la raíz cuadrada.\n",
    "\n",
    "Nos centraremos en las operaciones matemáticas:\n",
    "\n",
    "* **Raíz cuadrada de n:** math.sqrt(n)\n",
    "* **Redondear n por lo alto:** math.ceil(n)\n",
    "* **Redondear n por lo bajo:** math.floor(n)\n",
    "* **Factorial de n:** math.factorial(n)\n",
    "* **Exponencial de n:** math.exp(n)\n",
    "* **Logaritmo natural de n:** math.log(n)\n",
    "* **Logaritmo base b de n:** math.log(n, b)\n",
    "\n",
    "Así como estas constantes: \n",
    "\n",
    "* **Número pi:** math.pi\n",
    "* **Número e:** math.e\n",
    "\n",
    "Y operaciones trigonométricas:\n",
    "\n",
    "* **Seno:** math.sin\n",
    "* **Coseno:** math.cos\n",
    "* **Tangente:** math.tam\n",
    "* **Arco seno:** math.asin\n",
    "* **Arco coseno** math.acos\n",
    "* **Arco tangente** math.atan"
   ]
  },
  {
   "cell_type": "code",
   "execution_count": null,
   "metadata": {},
   "outputs": [],
   "source": [
    "# importamos la librería (módulo) math\n",
    "import math\n",
    "\n",
    "print( math.sqrt(9) )           # Raíz cuadrada de 9: 3\n",
    "print( math.ceil(3.1) )         # El número redondeado a la alta: 4\n",
    "print( math.floor(3.9) )        # El número redondeado a la baja: 3\n",
    "print( math.factorial(3) )      # Factorial de 3: 6\n",
    "print( math.exp(3) )            # Exponencial de 3: 20.085536923187668\n",
    "print( math.log(2) )            # Logaritmo base e de 2: 0.6931471805599453\n",
    "print( math.log(100, 10) )      # Logaritmo base 10 de 100: 2"
   ]
  },
  {
   "cell_type": "code",
   "execution_count": null,
   "metadata": {},
   "outputs": [],
   "source": [
    "# Operacoones con ángulos\n",
    "print(math.pi)            # Número pi\n",
    "print(math.e)             # Número e\n",
    "print(math.sin(math.pi))  # Seno de pi (en radianes): 0\n",
    "print(math.cos(math.pi))  # Coseno de pi (en radianes): -1.0\n",
    "print(math.tan(math.pi))  # Tangente de pi (en radianes): 0\n",
    "print(\"===\")\n",
    "\n",
    "# También se dispone de las inversas\n",
    "print(math.asin(0))       # Arco seno de 0: 0 (en radianes)\n",
    "print(math.acos(-1))      # Arco coseno de -1: pi (en radianes)\n",
    "print(math.atan(0))       # Arco tangente de 0: 0 (en radianes)"
   ]
  },
  {
   "cell_type": "markdown",
   "metadata": {},
   "source": [
    "<div class=\"alert alert-block alert-info\">\n",
    "<i class=\"fa fa-info-circle\" aria-hidden=\"true\"></i>\n",
    "Los números flotantes tienen dos valores especiales:\n",
    "    \n",
    "- infinito (`math.inf`, o `float('inf')`)\n",
    "- not a number o nan (`math.nan` o `float('nan')`)\n",
    "\n",
    "</div>"
   ]
  },
  {
   "cell_type": "markdown",
   "metadata": {},
   "source": [
    "### <font color=\"#00586D\" size=3> Jerarquía de operaciones </font>\n"
   ]
  },
  {
   "cell_type": "markdown",
   "metadata": {},
   "source": [
    "La jerarquía natural de las operaciones es la habitual: primero potencias, luego multiplicación y división, y por último sumas y restas. Se puede utilizar los paréntesis para cambiar el orden natural:"
   ]
  },
  {
   "cell_type": "code",
   "execution_count": null,
   "metadata": {},
   "outputs": [],
   "source": [
    "x = 3 * 2**3 + 5  # = 3 * 8 + 5 = 24 + 5 = 29\n",
    "print(x)\n",
    "\n",
    "x = (3 * 2)**(3 + 5)  # = 6 ** 8 = 1679616\n",
    "print(x)\n",
    "\n",
    "x = (5 + 2 ** math.sqrt(9) - 3) / 2 # = (5 + 2 ** 3 - 3) / 2 = (5 + 8 - 3) / 2 = 10 / 2 = 5\n",
    "print(x)"
   ]
  },
  {
   "cell_type": "markdown",
   "metadata": {},
   "source": [
    "\n",
    "<a id=\"section2B\"></a> \n",
    "## <font color=\"#00586D\" size=4> 2.2 Funciones y operaciones sobre Strings </font>"
   ]
  },
  {
   "cell_type": "markdown",
   "metadata": {},
   "source": [
    "Los Strings son cadenas de caracteres encerradas entre comillas simples `'Hola mundo!'` o dobles `\"Hola mundo!\"`. El carácter especial `\\` sirve para escapar o representar otros caracteres. Principalmente, las combinaciones más comunes son `\\\\`, `\\n` y `\\t`:"
   ]
  },
  {
   "cell_type": "code",
   "execution_count": null,
   "metadata": {},
   "outputs": [],
   "source": [
    "print(\"Esto es un backslash: \\\\\")      # El primer backslash sirve para escapar al segundo. Como resultado se imprime uno.\n",
    "print(\"Esto es un salto de línea: \\nMás texto...\") #\n",
    "print(\"Esto es un tabulador\\tMás texto...\") #"
   ]
  },
  {
   "cell_type": "code",
   "execution_count": null,
   "metadata": {},
   "outputs": [],
   "source": [
    "print(\"Ho\\\"''la\")"
   ]
  },
  {
   "cell_type": "markdown",
   "metadata": {},
   "source": [
    "\n",
    "Hasta ahora la función `print`ha sido utilizada con strings simples (o con otros tipos de datos que se castean automáticamente a strings). A veces es necesario formar strings más complejos, por ejemplo para ser imprimidos con la función `print`.\n",
    "\n",
    "Disponemos de dos operaciones básicas: **concatenación** y **formateo**."
   ]
  },
  {
   "cell_type": "markdown",
   "metadata": {},
   "source": [
    "### <font color=\"#00586D\" size=3> Concatenación de Strings </font>"
   ]
  },
  {
   "cell_type": "markdown",
   "metadata": {},
   "source": [
    "Si tenemos dos strings, concatenarlos significa formar un solo string, resultado de _\"pegar\"_ uno tras otro:"
   ]
  },
  {
   "cell_type": "code",
   "execution_count": null,
   "metadata": {},
   "outputs": [],
   "source": [
    "s1 = \"Hola \"\n",
    "s2 =\"Mundo!\"\n",
    "s_concatenado = s1 + s2\n",
    "print(s_concatenado) # Los dos strings se han concatenado, formando la cadena \"Hola Mundo!\"\n",
    "\n",
    "# Se puede concatenar un número indefinido de strings.\n",
    "print(\"Hola\" + \" \" + \"Mundo\" + \"!\")\n",
    "\n",
    "# Si queremos utilizar otras variables o expresiones de tipo distinto a string hay que castear\n",
    "# print(\"Éste es el módulo \" + 1) # Esto fallaría\n",
    "print(\"Éste es el módulo \" + str(1)) # Esto funciona, e imprime \"Éste es el módulo 1\""
   ]
  },
  {
   "cell_type": "markdown",
   "metadata": {},
   "source": [
    "### <font color=\"#00586D\" size=3> Multiplicación de Strings </font>"
   ]
  },
  {
   "cell_type": "markdown",
   "metadata": {},
   "source": [
    "Multiplicar un string por un número **entero** significa replicarlo varias veces:"
   ]
  },
  {
   "cell_type": "code",
   "execution_count": null,
   "metadata": {},
   "outputs": [],
   "source": [
    "print( \"=-=\" * 300 )  # Genera un string que contiene \"=-=\" 30 veces seguidas"
   ]
  },
  {
   "cell_type": "markdown",
   "metadata": {},
   "source": [
    "### <font color=\"#00586D\" size=3> División de Strings </font>"
   ]
  },
  {
   "cell_type": "markdown",
   "metadata": {},
   "source": [
    "La función `split` sirve para dividir un string usando un carácter como **separador** (genera una _lista_ de strings):"
   ]
  },
  {
   "cell_type": "code",
   "execution_count": null,
   "metadata": {},
   "outputs": [],
   "source": [
    "\"Rojo,Verde,Azul,Amarillo\".split(',')"
   ]
  },
  {
   "cell_type": "markdown",
   "metadata": {},
   "source": [
    "### <font color=\"#00586D\" size=3> Unión de Strings </font>"
   ]
  },
  {
   "cell_type": "markdown",
   "metadata": {},
   "source": [
    "La función `join` sirve para volver a unir una lista de strings en uno solo, usando un carácter como **separador**:"
   ]
  },
  {
   "cell_type": "code",
   "execution_count": null,
   "metadata": {},
   "outputs": [],
   "source": [
    "lista_strings = \"Rojo,Verde,Azul,Amarillo\".split(',')\n",
    "','.join(lista_strings)"
   ]
  },
  {
   "cell_type": "markdown",
   "metadata": {},
   "source": [
    "### <font color=\"#00586D\" size=3> Limpiar Strings </font>"
   ]
  },
  {
   "cell_type": "markdown",
   "metadata": {},
   "source": [
    "La función `strip` sirve para eliminar un carácter o múltiples consecutivos al principio y al final de un string. Es muy útil, por ejemplo, para limpiar espacios en blanco:"
   ]
  },
  {
   "cell_type": "code",
   "execution_count": null,
   "metadata": {},
   "outputs": [],
   "source": [
    "rojo, verde, azul, amarillo = \"            Rojo, Verde, Azul, Amarillo  \".split(',')\n",
    "print(rojo.strip()+\".\")\n",
    "print(verde.strip()+\".\")\n",
    "print(azul.strip()+\".\")\n",
    "print(amarillo.strip()+\".\")"
   ]
  },
  {
   "cell_type": "markdown",
   "metadata": {},
   "source": [
    "#### <font color=\"#00586D\" size=3> Formateo de Strings </font>"
   ]
  },
  {
   "cell_type": "markdown",
   "metadata": {},
   "source": [
    "En el caso anterior hemos introducido un número para concatenar con el string. Tener que hacer el cast a str es incómodo.\n",
    "\n",
    "Por ello, existe el **formateo** de strings, que consiste en definir _huecos_ en el string que serán rellenados con las variables indicadas. Se realiza con la función `str.format`."
   ]
  },
  {
   "cell_type": "code",
   "execution_count": null,
   "metadata": {},
   "outputs": [],
   "source": [
    "s = \"Éste es el módulo {}\"\n",
    "print(s)                # Imprime la cadena tal cual, con las llaves\n",
    "print(str.format(s, 1)) # Format busca en el string las llaves, y las sustituye en orden por los argumentos de format\n",
    "\n",
    "# La función format la heredan todos los strings (hablaremos de qué significa esto en el Tutorial python II).\n",
    "# Esto permite llamar a la función str.format de una forma más cómoda a través del string\n",
    "print(s.format(1))      # Siendo s una variable tipo str, podemos llamar a la función format como s.format\n",
    "\n",
    "# Un ejemplo con más variables que sustituir\n",
    "s = \"Formateando esta {} por {} vez.\"\n",
    "print(s.format(\"cadena\", 2))\n",
    "\n",
    "# Se puede especificar el órden en el que se usarán los argumentos para sustituir en las llaves.\n",
    "# Para ello, se indica un número entre ellas, donde el primer elemento es el 0.\n",
    "s = \"Formateando esta {1} en orden, según especificado por {0}.\"\n",
    "print(s.format(\"usuario\", \"cadena\"))\n",
    "\n",
    "# También se puede dar un formato custom a las variables formateadas, por ejemplo imprimir un entero como flotante:\n",
    "print(\"Éste es un entero, impreso como entero: {:d}\".format(1))\n",
    "print(\"Éste es un entero, impreso como flotante: {:f}\".format(1))\n",
    "print(\"Éste es un entero, impreso como string (opción por defecto): {}\".format(1))"
   ]
  },
  {
   "cell_type": "markdown",
   "metadata": {},
   "source": [
    "<div class=\"alert alert-block alert-info\">\n",
    "<i class=\"fa fa-info-circle\" aria-hidden=\"true\"></i>\n",
    "    \n",
    "Existe información completa sobre formateo de strings en Python  (<a href=\"https://pyformat.info/\">enlace</a>).\n",
    "\n",
    "Existen básicamente dos tipos de formateos: usando el símbolo % y la función `format` (la usada anteriormente). `format` es la opción recomendada por ser más nueva y dar más posibilidades.\n",
    "</div>"
   ]
  },
  {
   "cell_type": "markdown",
   "metadata": {},
   "source": [
    "<div class=\"alert alert-block alert-warning\">\n",
    "<i class=\"fa fa-exclamation-circle\" aria-hidden=\"true\"></i>\n",
    "El format es capaz de realizar un casting automáticamente si no pierde información. Es decir, si imprimimos un entero como flotante.\n",
    "\n",
    "Sin embargo, si perdemos información, es decir, imprimimos un flotante como entero, el código fallará (sería necesario hacer el casting manualmente). A continuación vemos un ejemplo:\n",
    "</div>"
   ]
  },
  {
   "cell_type": "code",
   "execution_count": null,
   "metadata": {},
   "outputs": [],
   "source": [
    "print(\"Casteo sin pérdida de información: de int {:d} a float {:f}\".format(1, 1))"
   ]
  },
  {
   "cell_type": "code",
   "execution_count": null,
   "metadata": {
    "scrolled": true
   },
   "outputs": [],
   "source": [
    "# Devuelve error\n",
    "#print(\"Casteo con pérdida de información: de float {:f} a int {:d}\".format(1.0, 1.0))  # ¡Falla la ejecución!"
   ]
  },
  {
   "cell_type": "markdown",
   "metadata": {},
   "source": [
    "<div class=\"alert alert-block alert-info\">\n",
    "<i class=\"fa fa-info-circle\" aria-hidden=\"true\"></i>\n",
    "    \n",
    "En el [PEP-498](https://www.python.org/dev/peps/pep-0498/) (viene de Python Enhancement Proposals), se incluye a partir de python 3.6 un formateo de string mucho menos \"verbose\":\n",
    "`f'El valor de la variable mi_variable es: {mi_variable}'`.\n",
    "\n",
    "Es decir, permite formatear los strings antepondiendo el caracter 'f' al string, e incluyendo los nombres de las variables (¡e incluso expresiones!) dentro de los corchetes. La conversion de formatos (castings) se puede realizar de la misma manera, incluyendo los ':' después de la expresión:\n",
    "`f'El valor de la variable mi_numero es: {mi_numero:f}'`\n",
    "</div>"
   ]
  },
  {
   "cell_type": "code",
   "execution_count": null,
   "metadata": {},
   "outputs": [],
   "source": [
    "mi_variable = \"Un texto\"\n",
    "print(f'El valor de la variable mi_variable es: {mi_variable}')\n",
    "mi_numero = 123.5\n",
    "print(f'El valor de la variable mi_numero es: {mi_numero:f}, y multiplicado por 2: {mi_numero*2:f}')"
   ]
  },
  {
   "cell_type": "code",
   "execution_count": null,
   "metadata": {},
   "outputs": [],
   "source": [
    "\"{} - {} = {}\".format(7, 5, 7 - 5)"
   ]
  },
  {
   "cell_type": "markdown",
   "metadata": {},
   "source": [
    "\n",
    "<a id=\"section2C\"></a> \n",
    "## <font color=\"#00586D\" size=4> 2.3 Operaciones con valores booleanos </font>"
   ]
  },
  {
   "cell_type": "markdown",
   "metadata": {},
   "source": [
    "Existen operaciones para operar con booleanos y formar expresiones booleanas más complejas. Éstas son de gran utilidad para formar condiciones, por ejemplo para bucles while y sentencias if-else (se verán más adelante).\n",
    "\n",
    "Los operadores básicos que veremos en este tutorial son:\n",
    "\n",
    "* **not**: niega el valor booleano\n",
    "* **and**: conjunción\n",
    "* **or**: disyunción\n",
    "\n",
    "_**Nota:** Todos estos operadores son infijos, (al igual que las operaciones de suma, multiplicación, ...)._"
   ]
  },
  {
   "cell_type": "code",
   "execution_count": null,
   "metadata": {},
   "outputs": [],
   "source": [
    "# not\n",
    "b = True\n",
    "print(\"El valor real es: {}. El valor negado es: {}\".format(b, not b))\n",
    "\n",
    "# and\n",
    "b1 = True\n",
    "b2 = False\n",
    "print(\"{} and {} es {}\".format(b1, b2, b1 and b2))\n",
    "\n",
    "# or\n",
    "b1 = True\n",
    "b2 = False\n",
    "print(\"{} or {} es {}\".format(b1, b2, b1 or b2))"
   ]
  },
  {
   "cell_type": "code",
   "execution_count": null,
   "metadata": {},
   "outputs": [],
   "source": [
    "# El orden de precedencia es similar a los operadores aritméticos, donde la negación es como la potencia, la \n",
    "# conjunción es como la multiplicación, la disyunción es como la suma\n",
    "\n",
    "print(True or False and False)   # Esto es igual que (True or (False and False)): True\n",
    "\n",
    "print((True or False) and False) # Esto es igual que ((True or False) and False): False\n",
    "\n",
    "print(not True or True)          # Esto es igual que ((not True) or True): True\n",
    "\n",
    "print(not (True or True))        # Esto es igual que (not (True or True)): False"
   ]
  },
  {
   "cell_type": "markdown",
   "metadata": {},
   "source": [
    "\n",
    "# <font color=\"#00586D\" size=5> 3. Ejercicios</font>\n",
    "\n",
    "<br>"
   ]
  },
  {
   "cell_type": "markdown",
   "metadata": {},
   "source": [
    "<h3><font color=\"#00586D\" size=4> <i class=\"fa fa-pencil-square-o\" aria-hidden=\"true\" style=\"color:#00586D\"></i> Ejercicio 1</font></h3>\n",
    "\n",
    "Vamos a calcular cuántos kilometros recorre un vehículo sabiendo su consumo por kilómetro y los litros de combustible que tiene en el depósito.\n",
    "\n",
    "- Implementar en una celda la definición de dos variables, `kilometros` y `litros`\n",
    "- Implementar en otra celda el cálculo de cuántos kilometros es capaz de recorrer el vehículo, e imprimir un mensaje formateado correctamente."
   ]
  },
  {
   "cell_type": "code",
   "execution_count": null,
   "metadata": {},
   "outputs": [],
   "source": [
    "# Completar"
   ]
  },
  {
   "cell_type": "markdown",
   "metadata": {},
   "source": [
    "<h3><font color=\"#00586D\" size=4> <i class=\"fa fa-pencil-square-o\" aria-hidden=\"true\" style=\"color:#00586D\"></i> Ejercicio 2</font></h3>\n",
    "\n",
    "Usar la función `print` para mostrar un mensaje formateado (con `.format` o `f\"\"`, preferiblemente lo segundo) indicando la fecha en formato `año-mes-dia`."
   ]
  },
  {
   "cell_type": "code",
   "execution_count": null,
   "metadata": {},
   "outputs": [],
   "source": [
    "# definicion de variables (con tipos incorrectos a propósito)\n",
    "dia = 6.0\n",
    "mes = 10\n",
    "año = 2020.1"
   ]
  },
  {
   "cell_type": "code",
   "execution_count": null,
   "metadata": {},
   "outputs": [],
   "source": [
    "# Completar"
   ]
  },
  {
   "cell_type": "markdown",
   "metadata": {},
   "source": [
    "<h3><font color=\"#00586D\" size=4> <i class=\"fa fa-pencil-square-o\" aria-hidden=\"true\" style=\"color:#00586D\"></i> Ejercicio 3</font></h3>\n",
    "\n",
    "Implementar en una celda el código necesario para:\n",
    "\n",
    "* Asignar un número con decimal a una variable.\n",
    "* Castear esa entrada a entero (función `int`).\n",
    "* Almacenar en diferentes variables:\n",
    "  * El número al cuadrado (usando el operador infijo \\*\\*)\n",
    "  * La raíz cuadrada del número (math.sqrt)\n",
    "  * Su factorial (math.factorial)\n",
    "  * Un booleano indicando si el número es par (True) o impar (False): Hay que usar el operador infijo % para determinar el módulo de la división (ej: `5 % 3` devuelve 2, que es el resto)\n",
    "* Con esto generaremos un string, formateando los campos, respectivamente, a:\n",
    "  * int\n",
    "  * float\n",
    "  * int\n",
    "  * str (tipo por defecto)"
   ]
  },
  {
   "cell_type": "code",
   "execution_count": null,
   "metadata": {},
   "outputs": [],
   "source": [
    "import math\n",
    "\n",
    "# Completar"
   ]
  }
 ],
 "metadata": {
  "kernelspec": {
   "display_name": "Python 3",
   "language": "python",
   "name": "python3"
  },
  "language_info": {
   "codemirror_mode": {
    "name": "ipython",
    "version": 3
   },
   "file_extension": ".py",
   "mimetype": "text/x-python",
   "name": "python",
   "nbconvert_exporter": "python",
   "pygments_lexer": "ipython3",
   "version": "3.7.7"
  }
 },
 "nbformat": 4,
 "nbformat_minor": 4
}
