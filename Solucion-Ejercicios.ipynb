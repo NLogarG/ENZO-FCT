{
 "cells": [
  {
   "cell_type": "markdown",
   "metadata": {},
   "source": [
    "<img src=\"CIDaeNNB.png\" alt=\"Logo CiDAEN\" align=\"right\">\n",
    "\n",
    "\n",
    "<br><br><br>\n",
    "<h1><font color=\"#00586D\" size=5>Módulo 1</font></h1>\n",
    "\n",
    "\n",
    "\n",
    "<h1><font color=\"#00586D\" size=6>Python - Ejercicios</font></h1>\n",
    "\n",
    "<br>\n",
    "<div style=\"text-align: right\">\n",
    "<font color=\"#00586D\" size=3>Javier Cózar</font><br>\n",
    "<font color=\"#00586D\" size=3>Máster en Ciencia de Datos y Desarrollo de Aplicaciones en la Nube</font><br>\n",
    "<font color=\"#00586D\" size=3>Universidad de Castilla-La Mancha</font>\n",
    "\n",
    "</div>"
   ]
  },
  {
   "cell_type": "markdown",
   "metadata": {},
   "source": [
    "# <font color=\"#00586D\" size=6> Ejercicios Python I</font>"
   ]
  },
  {
   "cell_type": "markdown",
   "metadata": {},
   "source": [
    "<h3><font color=\"#00586D\" size=4> <i class=\"fa fa-pencil-square-o\" aria-hidden=\"true\" style=\"color:#00586D\"></i> Ejercicio 1</font></h3>\n",
    "\n",
    "Vamos a implementar en una celda un juego que consiste en adivinar una secuencia de números generada aleatoriamente por el intérprete. Se seguirá la siguiente secuencia de pasos:\n",
    "\n",
    "1. Nos debe preguntar por teclado la longitud de la secuencia de números que generará, variable que llamaremos `N` (por ejemplo, 4 generará secuencias con los números 1, 2, 3 y 4).\n",
    "2. Se generará una secuencia aleatoria que contendrá los números de 1 a `N`. Para ello se os proporciona en la siguiente celda el código que la genera.\n",
    "3. Usar un bucle en el que pregunte al usuario la cadena por teclado. Si el usuario acierta, el bucle termina e imprime un mensaje de enhorabuena. En caso contrario, se volverá a solicitar al usuario que introduzca una nueva cadena. Se debe llevar la cuenta del número de intentos y mostrar este valor al terminar.\n",
    "4. Opcionalmente se puede indicar, cuando se falla, cuántos números ha errado."
   ]
  },
  {
   "cell_type": "code",
   "execution_count": 13,
   "metadata": {},
   "outputs": [
    {
     "name": "stdout",
     "output_type": "stream",
     "text": [
      "3412\n"
     ]
    }
   ],
   "source": [
    "import random  # necesario para generar la secuencia de números aleatoriamente\n",
    "\n",
    "# Como ejemplo declaramos N igual a un valor\n",
    "N = 4\n",
    "\n",
    "# Generamos una lista con N números, del 1 al N\n",
    "l = list(range(1, N + 1))\n",
    "# Con esta función reordenamos la lista\n",
    "random.shuffle(l)\n",
    "# Y finalmente generamos un string con esa combinación\n",
    "secuencia = ''.join([str(x) for x in l])\n",
    "print(secuencia)"
   ]
  },
  {
   "cell_type": "code",
   "execution_count": 18,
   "metadata": {},
   "outputs": [
    {
     "name": "stdin",
     "output_type": "stream",
     "text": [
      "Introduce la longitud de la secuencia 4\n",
      "Introduce una secuencia 123\n"
     ]
    },
    {
     "ename": "IndexError",
     "evalue": "string index out of range",
     "output_type": "error",
     "traceback": [
      "\u001b[0;31m---------------------------------------------------------------------------\u001b[0m",
      "\u001b[0;31mIndexError\u001b[0m                                Traceback (most recent call last)",
      "\u001b[0;32m<ipython-input-18-e9a998699204>\u001b[0m in \u001b[0;36m<module>\u001b[0;34m\u001b[0m\n\u001b[1;32m     23\u001b[0m         \u001b[0mn_hits\u001b[0m \u001b[0;34m=\u001b[0m \u001b[0;36m0\u001b[0m\u001b[0;34m\u001b[0m\u001b[0;34m\u001b[0m\u001b[0m\n\u001b[1;32m     24\u001b[0m         \u001b[0;32mfor\u001b[0m \u001b[0mi\u001b[0m \u001b[0;32min\u001b[0m \u001b[0mrange\u001b[0m\u001b[0;34m(\u001b[0m\u001b[0mn\u001b[0m\u001b[0;34m)\u001b[0m\u001b[0;34m:\u001b[0m\u001b[0;34m\u001b[0m\u001b[0;34m\u001b[0m\u001b[0m\n\u001b[0;32m---> 25\u001b[0;31m             \u001b[0;32mif\u001b[0m \u001b[0msequence\u001b[0m\u001b[0;34m[\u001b[0m\u001b[0mi\u001b[0m\u001b[0;34m]\u001b[0m \u001b[0;34m==\u001b[0m \u001b[0muser_sequence\u001b[0m\u001b[0;34m[\u001b[0m\u001b[0mi\u001b[0m\u001b[0;34m]\u001b[0m\u001b[0;34m:\u001b[0m\u001b[0;34m\u001b[0m\u001b[0;34m\u001b[0m\u001b[0m\n\u001b[0m\u001b[1;32m     26\u001b[0m                 \u001b[0mshown_sequence\u001b[0m \u001b[0;34m+=\u001b[0m \u001b[0msequence\u001b[0m\u001b[0;34m[\u001b[0m\u001b[0mi\u001b[0m\u001b[0;34m]\u001b[0m\u001b[0;34m\u001b[0m\u001b[0;34m\u001b[0m\u001b[0m\n\u001b[1;32m     27\u001b[0m                 \u001b[0mn_hits\u001b[0m \u001b[0;34m+=\u001b[0m \u001b[0;36m1\u001b[0m\u001b[0;34m\u001b[0m\u001b[0;34m\u001b[0m\u001b[0m\n",
      "\u001b[0;31mIndexError\u001b[0m: string index out of range"
     ]
    }
   ],
   "source": [
    "def random_sequence(n):\n",
    "    # Generamos una lista con N números, del 1 al N\n",
    "    l = list(range(1, n + 1))\n",
    "    # Con esta función reordenamos la lista\n",
    "    random.shuffle(l)\n",
    "    # Y finalmente generamos un string con esa combinación\n",
    "    secuencia = ''.join([str(x) for x in l])\n",
    "    return secuencia\n",
    "\n",
    "n = int(input(\"Introduce la longitud de la secuencia\"))\n",
    "\n",
    "sequence = random_sequence(n)\n",
    "\n",
    "is_finished = False\n",
    "n_try = 0\n",
    "\n",
    "while not is_finished:\n",
    "    user_sequence = input(\"Introduce una secuencia\")\n",
    "    if sequence == user_sequence:\n",
    "        is_finished = True\n",
    "    else:\n",
    "        shown_sequence = \"\"\n",
    "        n_hits = 0\n",
    "        for i in range(n):\n",
    "            if sequence[i] == user_sequence[i]:\n",
    "                shown_sequence += sequence[i]\n",
    "                n_hits += 1\n",
    "            else:\n",
    "                shown_sequence += \"*\"\n",
    "        print(f\"Respuesta incorrecta. Has acertado {n_hits} caracteres: {shown_sequence}\")\n",
    "    n_try += 1\n",
    "\n",
    "print(f\"Bravo! Lo has adivinado en {n_try} intentos\")"
   ]
  },
  {
   "cell_type": "markdown",
   "metadata": {},
   "source": [
    "<h3><font color=\"#00586D\" size=4> <i class=\"fa fa-pencil-square-o\" aria-hidden=\"true\" style=\"color:#00586D\"></i> Ejercicio 2</font></h3>\n",
    "\n",
    "\n",
    "Crear una función que reciba un número entero, $N$, y calcule el número $N$ de la secuencia de _fibonacci_.\n",
    "\n",
    "La sucesión de _fibonacci_ comienza con los números 0 y 1. A partir de éstos, **cada término es la suma de los dos anteriores**. Por ejemplo, el número $3$ de la secuencia se calcula como:\n",
    "\n",
    "$$\n",
    "fibonacci(3) = fibonacci(1) + fibonacci(2) = 1 + (fibonacci(0) + fibonacci(1)) = 1 + 1 + 1 = 3\n",
    "$$"
   ]
  },
  {
   "cell_type": "code",
   "execution_count": 19,
   "metadata": {},
   "outputs": [],
   "source": [
    "def fibbonacci(n):\n",
    "    if n <= 1:\n",
    "        return 1\n",
    "    else:\n",
    "        return fibbonacci(n-2) + fibbonacci(n-1)"
   ]
  },
  {
   "cell_type": "code",
   "execution_count": 23,
   "metadata": {},
   "outputs": [
    {
     "data": {
      "text/plain": [
       "13"
      ]
     },
     "execution_count": 23,
     "metadata": {},
     "output_type": "execute_result"
    }
   ],
   "source": [
    "fibbonacci(6)"
   ]
  },
  {
   "cell_type": "markdown",
   "metadata": {},
   "source": [
    "<h3><font color=\"#00586D\" size=4> <i class=\"fa fa-pencil-square-o\" aria-hidden=\"true\" style=\"color:#00586D\"></i> Ejercicio 3</font></h3>\n",
    "\n",
    "\n",
    "Una matriz se puede representar como una lista de listas.** Por ejemplo, `[[1, 2], [3, 4]]` representa la matriz:\n",
    "\n",
    "$$\n",
    "   M=\n",
    "  \\left[ {\\begin{array}{cc}\n",
    "   1 & 2 \\\\\n",
    "   3 & 4 \\\\\n",
    "  \\end{array} } \\right]\n",
    "$$\n",
    "\n",
    "Dada la matriz `m` de tamaño 3x3, obten la diagonal principal."
   ]
  },
  {
   "cell_type": "code",
   "execution_count": 27,
   "metadata": {},
   "outputs": [],
   "source": [
    "m = [[1, 2],\n",
    "     [4, 5],\n",
    "     [7, 8]]\n",
    "\n",
    "# Completar"
   ]
  },
  {
   "cell_type": "code",
   "execution_count": 28,
   "metadata": {},
   "outputs": [
    {
     "name": "stdout",
     "output_type": "stream",
     "text": [
      "[1, 5]\n"
     ]
    }
   ],
   "source": [
    "diagonal = []\n",
    "n_filas = len(m)\n",
    "n_cols = len(m[0])\n",
    "for i in range(min(n_filas, n_cols)):\n",
    "    diagonal.append(m[i][i])\n",
    "print(diagonal)"
   ]
  },
  {
   "cell_type": "markdown",
   "metadata": {},
   "source": [
    "<h3><font color=\"#00586D\" size=4> <i class=\"fa fa-pencil-square-o\" aria-hidden=\"true\" style=\"color:#00586D\"></i> Ejercicio 4</font></h3>\n",
    "\n",
    "\n",
    "Usando la representación de matrices anterior (como lista de listas) crear  una función que tenga como argumentos dos matrices y devuelva una nueva matriz que sea la multiplicación de ambas. La función debe comprobar la dimensión de ambas matrices y devolver un mensaje de error si la multiplicación no se puede realizar.\n",
    "\n",
    "**Nota**: Podéis consultar este [enlace](https://es.wikipedia.org/wiki/Multiplicaci%C3%B3n_de_matrices) para refrescar cómo se realizaba esta operación matricial.\n",
    "\n",
    "![multiplicacion_matrices1](https://wikimedia.org/api/rest_v1/media/math/render/svg/eaf31815f2a4eaaa947c8e4d186168b4303b6162)![multiplicacion_matrices2](https://wikimedia.org/api/rest_v1/media/math/render/svg/5d2bc2fecb59425505000359acbf8a860d37f775) ![multiplicacion_matrices2](https://wikimedia.org/api/rest_v1/media/math/render/svg/0edaf7474ad77d59d2f8edbab5d65d553dad2a9c) ![multiplicacion_matrices2](https://wikimedia.org/api/rest_v1/media/math/render/svg/4b1a770135ae22b430619f7963f27c13661a0137)\n"
   ]
  },
  {
   "cell_type": "code",
   "execution_count": null,
   "metadata": {},
   "outputs": [],
   "source": [
    "# Completar"
   ]
  },
  {
   "cell_type": "code",
   "execution_count": 29,
   "metadata": {},
   "outputs": [],
   "source": [
    "def matmul(A, B):\n",
    "    # check every rows has the same column length\n",
    "    for row in A[1:]:\n",
    "        assert len(row) == len(A[0])\n",
    "    for row in B[1:]:\n",
    "        assert len(row) == len(B[0])\n",
    "    # check that number of columns in A equals to the number of rows in B\n",
    "    assert len(A[0]) == len(B)\n",
    "    \n",
    "    C = []\n",
    "    \n",
    "    for i in range(len(A)):\n",
    "        # append new row\n",
    "        C.append([])\n",
    "        for j in range(len(B[0])):\n",
    "            mult = 0\n",
    "            # append new col\n",
    "            C[-1].append([])\n",
    "            for k in range(len(B)):\n",
    "                mult += A[i][k] * B[k][j]\n",
    "            C[-1][-1] = mult\n",
    "    return C"
   ]
  },
  {
   "cell_type": "code",
   "execution_count": 30,
   "metadata": {},
   "outputs": [
    {
     "data": {
      "text/plain": [
       "[[9, 12, 15], [24, 33, 42], [39, 54, 69]]"
      ]
     },
     "execution_count": 30,
     "metadata": {},
     "output_type": "execute_result"
    }
   ],
   "source": [
    "A = [[1, 2],\n",
    "     [4, 5],\n",
    "     [7, 8]]\n",
    "B = [[1, 2, 3],\n",
    "     [4, 5, 6]]\n",
    "matmul(A, B)"
   ]
  },
  {
   "cell_type": "code",
   "execution_count": 31,
   "metadata": {},
   "outputs": [
    {
     "data": {
      "text/plain": [
       "array([[ 9, 12, 15],\n",
       "       [24, 33, 42],\n",
       "       [39, 54, 69]])"
      ]
     },
     "execution_count": 31,
     "metadata": {},
     "output_type": "execute_result"
    }
   ],
   "source": [
    "import numpy as np\n",
    "\n",
    "np.array(A) @ np.array(B)"
   ]
  },
  {
   "cell_type": "markdown",
   "metadata": {},
   "source": [
    "\n",
    "<h3><font color=\"#00586D\" size=4> <i class=\"fa fa-pencil-square-o\" aria-hidden=\"true\" style=\"color:#00586D\"></i> Ejercicio 5</font></h3>\n",
    "\n",
    "\n",
    "<h3><font color=\"#00586D\" size=3>Lista de números primos</font></h3>\n",
    "\n",
    "En este ejercicio utilizaremos la estrategia _\"divide y vencerás\"_ para resolver un problema _\"algo complejo\"_. En concreto, se **implementará una función que devuelve una lista con los números primeros desde el 1 hasta otro pasado por parámetro, inclusive**. La elección de este problema tan típico nos permititirá centrarnos en las herramientas que nos proporciona el lenguaje _Python_ en lugar de atascarnos con el problema en sí.\n",
    "\n",
    "Para resolver este problema, lo **subdividiremos** en otros más pequeños que sean más fáciles de abordar. Por ello, en las siguientes celdas se pedirá la resolución de pequeños problemas, y al final será la combinación de todas estas soluciones la que nos resolverá el problema inicial.\n"
   ]
  },
  {
   "cell_type": "markdown",
   "metadata": {},
   "source": [
    "**1.** En primer lugar implementaremos una función, llamada `es_divisible`, que recibe dos argumentos:\n",
    "\n",
    "- El primero, $n$, es el dividendo.\n",
    "- El segundo, $d$, es el divisor .\n",
    "\n",
    "Debe devolver un valor booleano: `True` si $n$ es divisible por $d$ (con resto 0); y `False` en caso contrario."
   ]
  },
  {
   "cell_type": "code",
   "execution_count": 32,
   "metadata": {},
   "outputs": [],
   "source": [
    "# Completar\n",
    "def es_divisible(n, d):\n",
    "    return n % d == 0"
   ]
  },
  {
   "cell_type": "code",
   "execution_count": 34,
   "metadata": {},
   "outputs": [
    {
     "data": {
      "text/plain": [
       "True"
      ]
     },
     "execution_count": 34,
     "metadata": {},
     "output_type": "execute_result"
    }
   ],
   "source": [
    "es_divisible(10, 5)"
   ]
  },
  {
   "cell_type": "markdown",
   "metadata": {},
   "source": [
    "**2.**  A continuación, implementaremos una función llamada `es_primo` para comprobar si un número $n$ es primo o no.\n",
    "Para ello, utilizaremos la función `es_divisible` implementada anteriormente."
   ]
  },
  {
   "cell_type": "code",
   "execution_count": 36,
   "metadata": {},
   "outputs": [],
   "source": [
    "# Completar\n",
    "def es_primo(n):\n",
    "    for i in range(2, n):\n",
    "        if es_divisible(n, i):\n",
    "            return False\n",
    "    return True"
   ]
  },
  {
   "cell_type": "code",
   "execution_count": 38,
   "metadata": {},
   "outputs": [
    {
     "data": {
      "text/plain": [
       "False"
      ]
     },
     "execution_count": 38,
     "metadata": {},
     "output_type": "execute_result"
    }
   ],
   "source": [
    "es_primo(15)"
   ]
  },
  {
   "cell_type": "markdown",
   "metadata": {},
   "source": [
    "**3.** En este punto deberíamos ser capaces de detectar si un número cualquiera es primo o no.\n",
    "\n",
    "En este apartado hay que pedir por terminal (función built-in `input`) un número entero y mostrar el siguiente mensaje si es primo:\n",
    "```\n",
    "\"¿El número X es primo? Sí\"\n",
    "```\n",
    "ó si no es primo:\n",
    "```\n",
    "\"¿El número X es primo? No\", donde X es el número introducido por pantalla.\n",
    "```"
   ]
  },
  {
   "cell_type": "code",
   "execution_count": 41,
   "metadata": {},
   "outputs": [
    {
     "name": "stdin",
     "output_type": "stream",
     "text": [
      "Introduce un numero entero para comprobar si es primo o no 10\n"
     ]
    },
    {
     "name": "stdout",
     "output_type": "stream",
     "text": [
      "¿El número 10 es primo? No\n"
     ]
    }
   ],
   "source": [
    "# Completar\n",
    "x = int(input(\"Introduce un numero entero para comprobar si es primo o no\"))\n",
    "\n",
    "print(f\"¿El número {x} es primo? {'Si' if es_primo(x) else 'No'}\")"
   ]
  },
  {
   "cell_type": "markdown",
   "metadata": {},
   "source": [
    "**4.** Ahora vamos a implementar la función objetivo, que consiste en devolver la lista con los números primos menor o igual que $n$. Implementaremos una función, llamada `lista_primos`, que recibe el parámetro $n$,\n",
    "y devuelve una lista con los números primos iguales o más pequeños que $n$, $1$ incluido.\n",
    "\n",
    "<font size=4> <i class=\"fa fa-book\" aria-hidden=\"true\" style=\"color:#00586D\"></i> </font> _Nota_: puede ser de utilidad la función de listas `append`."
   ]
  },
  {
   "cell_type": "code",
   "execution_count": 42,
   "metadata": {},
   "outputs": [],
   "source": [
    "# Completar\n",
    "def lista_primos(n):\n",
    "    l = []\n",
    "    for i in range(n):\n",
    "        if es_primo(i+1):\n",
    "            l.append(i+1)\n",
    "    return l"
   ]
  },
  {
   "cell_type": "code",
   "execution_count": 43,
   "metadata": {},
   "outputs": [
    {
     "data": {
      "text/plain": [
       "[1,\n",
       " 2,\n",
       " 3,\n",
       " 5,\n",
       " 7,\n",
       " 11,\n",
       " 13,\n",
       " 17,\n",
       " 19,\n",
       " 23,\n",
       " 29,\n",
       " 31,\n",
       " 37,\n",
       " 41,\n",
       " 43,\n",
       " 47,\n",
       " 53,\n",
       " 59,\n",
       " 61,\n",
       " 67,\n",
       " 71,\n",
       " 73,\n",
       " 79,\n",
       " 83,\n",
       " 89,\n",
       " 97]"
      ]
     },
     "execution_count": 43,
     "metadata": {},
     "output_type": "execute_result"
    }
   ],
   "source": [
    "lista_primos(100)"
   ]
  },
  {
   "cell_type": "markdown",
   "metadata": {},
   "source": [
    "La celda a continuación puede ser utilizada para comprobar su vuestro código funciona correctamente o no. En esta celda disponemos de unas entradas y sus correspondientes soluciones, y se comprueba para cada entrada el resultado de la función `lista_primos` con la solución esperada, imprimiendo por pantalla el mensaje correspondiente."
   ]
  },
  {
   "cell_type": "code",
   "execution_count": 44,
   "metadata": {},
   "outputs": [
    {
     "name": "stdout",
     "output_type": "stream",
     "text": [
      "Los números primos menores que 3 son: [1, 2, 3] (Solución correcta).\n",
      "Los números primos menores que 7 son: [1, 2, 3, 5, 7] (Solución correcta).\n",
      "Los números primos menores que 15 son: [1, 2, 3, 5, 7, 11, 13] (Solución correcta).\n",
      "Los números primos menores que 25 son: [1, 2, 3, 5, 7, 11, 13, 17, 19, 23] (Solución correcta).\n"
     ]
    }
   ],
   "source": [
    "# Código de test: \n",
    "# Se probará la función con estos cuatro valores de n\n",
    "entradas = [3, 7, 15, 25]\n",
    "# Y esta es la solución que debe dar con cada uno de ellos. \n",
    "soluciones = [[1, 2, 3],\n",
    "              [1, 2, 3, 5, 7],\n",
    "              [1, 2, 3, 5, 7, 11, 13],\n",
    "              [1, 2, 3, 5, 7, 11, 13, 17, 19, 23]]\n",
    "\n",
    "# Prueba con cada solución. \n",
    "for i in range(len(entradas)):\n",
    "    n = entradas[i]\n",
    "    resultado = lista_primos(n)\n",
    "    # Compara el resultado con la solución conocida y almacena el resultado.\n",
    "    if resultado == soluciones[i]:\n",
    "        es_correcto = \"correcta\"\n",
    "    else:\n",
    "        es_correcto = \"incorrecta\"\n",
    "    # Imprime el resultado del test, utilizando formato    \n",
    "    print(f\"Los números primos menores que {n} son: {resultado} (Solución {es_correcto}).\")"
   ]
  },
  {
   "cell_type": "markdown",
   "metadata": {},
   "source": [
    "<h3><font color=\"#00586D\" size=4> <i class=\"fa fa-pencil-square-o\" aria-hidden=\"true\" style=\"color:#00586D\"></i> Ejercicio 6</font></h3>\n",
    "\n",
    "\n",
    "En este ejercicio usaremos diccionarios, y nos centraremos en recorrerlos para obtener la información que necesitemos. Se proporciona el código de una función (`now`) que cuando se llama devuelve un número entero, que indica la fecha actual _(indica el número de segundos transcurridos desde el 1 de enero de 1970)_.\n",
    "\n",
    "Se pide:\n",
    "\n",
    "* Crear un bucle que solicite por teclado una letra un total de 10 veces (_¡cuando lo pruebes repite alguna!_)\n",
    "* Almacenar en un diccionario esta información, siendo la clave la letra introducida, y el valor una lista con los instantes de tiempo en las que han sido introducidas (enteros devueltos por la función `now`)\n",
    "\n",
    "Utilizando esta estructura de datos, responder a las siguientes preguntas:\n",
    "* ¿Cuál es la letra introducida más repetida?\n",
    "* ¿Cuál fué la primera letra en ser introducida? ¿Y la última?\n",
    "* ¿Cuánto tiempo has empleado en introducir las 10 letras?\n",
    "* ¿Cuál es el menor tiempo que ha transcurrido entre dos letras introducidas consecutivamente? ¿Y el mayor?"
   ]
  },
  {
   "cell_type": "code",
   "execution_count": 45,
   "metadata": {},
   "outputs": [],
   "source": [
    "import time\n",
    "\n",
    "def now():\n",
    "    return int(time.time())"
   ]
  },
  {
   "cell_type": "code",
   "execution_count": 67,
   "metadata": {},
   "outputs": [
    {
     "name": "stdin",
     "output_type": "stream",
     "text": [
      "Introduce una letra a\n",
      "Introduce una letra b\n",
      "Introduce una letra f\n",
      "Introduce una letra a\n",
      "Introduce una letra b\n",
      "Introduce una letra b\n",
      "Introduce una letra a\n",
      "Introduce una letra c\n",
      "Introduce una letra a\n",
      "Introduce una letra r\n"
     ]
    }
   ],
   "source": [
    "# Completar\n",
    "from collections import defaultdict\n",
    "\n",
    "chars = defaultdict(list)\n",
    "for i in range(10):\n",
    "    x = input(\"Introduce una letra\")\n",
    "    chars[x].append(now())"
   ]
  },
  {
   "cell_type": "code",
   "execution_count": 70,
   "metadata": {},
   "outputs": [
    {
     "name": "stdout",
     "output_type": "stream",
     "text": [
      "La letra mas repetida es 'a'\n"
     ]
    }
   ],
   "source": [
    "#1.\n",
    "max_times = 0\n",
    "repeated_letter = None\n",
    "for k, v in chars.items():\n",
    "    if len(v) > max_times:\n",
    "        max_times = len(v)\n",
    "        repeated_letter = k\n",
    "print(f\"La letra mas repetida es '{repeated_letter}'\")"
   ]
  },
  {
   "cell_type": "code",
   "execution_count": 75,
   "metadata": {},
   "outputs": [],
   "source": [
    "#2.\n",
    "first_key = min(chars.items(), key=lambda x: min(x[1]))\n",
    "last_key = max(chars.items(), key=lambda x: max(x[1]))"
   ]
  },
  {
   "cell_type": "code",
   "execution_count": 79,
   "metadata": {},
   "outputs": [],
   "source": [
    "#3.\n",
    "total_seconds = max(last_key[1]) - min(first_key[1])"
   ]
  },
  {
   "cell_type": "code",
   "execution_count": 85,
   "metadata": {},
   "outputs": [
    {
     "name": "stdout",
     "output_type": "stream",
     "text": [
      "El menor tiempo entre dos letras es de 0 y el mayor de 1\n"
     ]
    }
   ],
   "source": [
    "#4.\n",
    "min_time = total_seconds\n",
    "max_time = -1\n",
    "times = []\n",
    "\n",
    "for v in chars.values():\n",
    "    times += v\n",
    "sorted_times = sorted(times)\n",
    "\n",
    "for i in range(len(sorted_times)-1):\n",
    "    if sorted_times[i+1] - sorted_times[i] < min_time:\n",
    "        min_time = sorted_times[i+1] - sorted_times[i]\n",
    "    if sorted_times[i+1] - sorted_times[i] > max_time:\n",
    "        max_time = sorted_times[i+1] - sorted_times[i]\n",
    "print(f\"El menor tiempo entre dos letras es de {min_time} y el mayor de {max_time}\")"
   ]
  },
  {
   "cell_type": "markdown",
   "metadata": {},
   "source": [
    "# <font color=\"#00586D\" size=6> Ejercicios Python II</font>"
   ]
  },
  {
   "cell_type": "markdown",
   "metadata": {},
   "source": [
    "<h3><font color=\"#00586D\" size=4> <i class=\"fa fa-pencil-square-o\" aria-hidden=\"true\" style=\"color:#00586D\"></i> Ejercicio 7</font></h3>\n",
    "\n",
    "<h3><font color=\"#00586D\" size=4> Personajes de Juego de Tronos </font></h3>\n",
    "\n",
    "\n",
    "El archivo `book1.csv` contiene información sobre los personajes del primer libro de la saga _\"Canción de hielo y fuego\"_, llevado a la ficción televisiva en la famosa serie _\"Juego de tronos\"_. En concreto, cada línea contiene información sobre un par de personajes, e indica si, en el libro, aparecen a una distancia de menos de 15 palabras el uno del otro.\n",
    "\n",
    "Este archvo corresponde en realidad a una tabla cuyas **columnas** son _Source_, _Target_, _Type_, _weight_ y _book_. _Source_ y _Target_ son los personajes relacionados. _Type_ siempre tiene el valor _undirected_, y _weight_ es el numero de veces que esa relación se da en el libro. Por último, _book_ tiene siempre el valor 1."
   ]
  },
  {
   "cell_type": "markdown",
   "metadata": {},
   "source": [
    "El texto consiste en un string, en el que:\n",
    "- Cada línea está separada por el carácter `'\\n'` (salto de línea).\n",
    "- Cada línea está formada por una serie de campos separados por el carácter `','`. \n",
    "- La primera linea es el header del csv (contiene los nombres de las columnas), mientras que el resto de líneas son los datos."
   ]
  },
  {
   "cell_type": "markdown",
   "metadata": {},
   "source": [
    "En este ejercicio se pide:\n",
    "\n",
    "**1.** Leer el fichero de texto y crear un diccionario en el que la clave sea el nombre de un personaje $p_1$, y el valor sea una lista de tuplas [(personaje $p_2$, $w$), ...], donde los personajes de cada tupla $p_2$ están relacionados con $p_1$ un total de $w$ veces."
   ]
  },
  {
   "cell_type": "markdown",
   "metadata": {},
   "source": [
    "<div class=\"alert alert-block alert-info\">\n",
    "<i class=\"fa fa-info-circle\" aria-hidden=\"true\"></i>\n",
    "Puede ser de utilidad descomponer el problema en pequeñas partes. Por ejemplo:\n",
    "</div>\n",
    "\n",
    "1. Obtener por un lado la lista de nombres de columnas, y por otro los datos, como una lista de listas\n",
    "2. Puede ser de utilidad el diccionario defaultdict\n",
    "3. **OJO**: Si un personaje (campo _Source_) está relacionado con otro (campo _Target_), ¡el otro está relacionado también con el uno!"
   ]
  },
  {
   "cell_type": "code",
   "execution_count": 1,
   "metadata": {},
   "outputs": [
    {
     "name": "stdout",
     "output_type": "stream",
     "text": [
      "Source,Target,Type,weight,book\n",
      "Addam-Marbrand,Jaime-Lannister,Undirected,3,1\n",
      "Addam-Marbrand,Tywin-Lannister,Undirected,6,1\n",
      "Aegon-I-Targaryen,Daenerys-Targaryen,Undirected,5,1\n",
      "Aegon-I-Targaryen,Eddard-Stark,Undirected,4,1\n",
      "Aemon-Targaryen-(Maester-Aemon),Alliser-Thorne,Undirected,4,1\n",
      "Aemon-Targaryen-(Maester-Aemon),Bowen-Marsh,Undirected,4,1\n",
      "Aemon-Targaryen-(Maester-Aemon),Chett,Undirected,9,1\n",
      "Aemon-Targaryen-(Maester-Aemon),Clydas,Undirected,5,1\n",
      "Aemon-Targaryen-(Maester-Aemon),Jeor-Mormont,Undirected,13,1\n"
     ]
    }
   ],
   "source": [
    "!head book1.csv"
   ]
  },
  {
   "cell_type": "code",
   "execution_count": 11,
   "metadata": {},
   "outputs": [],
   "source": [
    "def to_dict(row, relaciones):\n",
    "    Source, Target, _, weight, _ = row\n",
    "    relaciones[Source].append( (Target, int(weight)) )\n",
    "    relaciones[Target].append( (Source, int(weight)) )"
   ]
  },
  {
   "cell_type": "code",
   "execution_count": 12,
   "metadata": {},
   "outputs": [],
   "source": [
    "# Completar\n",
    "from collections import defaultdict\n",
    "\n",
    "with open(\"book1.csv\") as f:\n",
    "    raw_text = f.read()\n",
    "\n",
    "raw_data = [line.split(',') for line in raw_text.split('\\n')]\n",
    "\n",
    "header = raw_data[0]\n",
    "data = raw_data[1:]\n",
    "\n",
    "relaciones = defaultdict(list)\n",
    "\n",
    "for row in data:\n",
    "    to_dict(row, relaciones)"
   ]
  },
  {
   "cell_type": "code",
   "execution_count": 15,
   "metadata": {},
   "outputs": [
    {
     "data": {
      "text/plain": [
       "[('Brynden-Tully', 3),\n",
       " ('Catelyn-Stark', 7),\n",
       " ('Eddard-Stark', 3),\n",
       " ('Hoster-Tully', 7),\n",
       " ('Jaime-Lannister', 4),\n",
       " ('Karyl-Vance', 4),\n",
       " ('Lysa-Arryn', 5),\n",
       " ('Marq-Piper', 3),\n",
       " ('Petyr-Baelish', 4),\n",
       " ('Robb-Stark', 5),\n",
       " ('Tytos-Blackwood', 3)]"
      ]
     },
     "execution_count": 15,
     "metadata": {},
     "output_type": "execute_result"
    }
   ],
   "source": [
    "relaciones[\"Edmure-Tully\"]"
   ]
  },
  {
   "cell_type": "markdown",
   "metadata": {},
   "source": [
    "Para comprobar que funciona, relaciones['Edmure-Tully'] deve devolver:\n",
    "```python\n",
    " [('Brynden-Tully', 3),\n",
    " ('Catelyn-Stark', 7),\n",
    " ('Eddard-Stark', 3),\n",
    " ('Hoster-Tully', 7),\n",
    " ('Jaime-Lannister', 4),\n",
    " ('Karyl-Vance', 4),\n",
    " ('Lysa-Arryn', 5),\n",
    " ('Marq-Piper', 3),\n",
    " ('Petyr-Baelish', 4),\n",
    " ('Robb-Stark', 5),\n",
    " ('Tytos-Blackwood', 3)]\n",
    "```"
   ]
  },
  {
   "cell_type": "markdown",
   "metadata": {},
   "source": [
    "**2.** Obtener todos los personajes (sin repeticiones) que aparecen en el libro."
   ]
  },
  {
   "cell_type": "code",
   "execution_count": 19,
   "metadata": {},
   "outputs": [
    {
     "data": {
      "text/plain": [
       "187"
      ]
     },
     "execution_count": 19,
     "metadata": {},
     "output_type": "execute_result"
    }
   ],
   "source": [
    "# Completar\n",
    "n_personajes = len(relaciones.keys())\n",
    "n_personajes\n",
    "# Para comprobar que funciona, el número de personajes distintos debe ser 187"
   ]
  },
  {
   "cell_type": "markdown",
   "metadata": {},
   "source": [
    "**3.** Hacer una función `mas_relacionado_personajes()` que devuelva el personaje con mayor numero de personajes distintos relacionados (notad que el campo $weight$ no tiene que ser usado en este momento)."
   ]
  },
  {
   "cell_type": "code",
   "execution_count": 20,
   "metadata": {},
   "outputs": [
    {
     "data": {
      "text/plain": [
       "('Eddard-Stark', 66)"
      ]
     },
     "execution_count": 20,
     "metadata": {},
     "output_type": "execute_result"
    }
   ],
   "source": [
    "# Completar\n",
    "def mas_relacionado_personajes():\n",
    "    return max([(personaje, len(rel)) for personaje, rel in relaciones.items()], key=lambda x: x[1])\n",
    "\n",
    "mas_relacionado_personajes()\n",
    "# Para comprobar que funciona, mas_relacionado_personajes() deve devolver ('Eddard-Stark', 66)"
   ]
  },
  {
   "cell_type": "markdown",
   "metadata": {},
   "source": [
    "**4.** Hacer una función `mas_relacionado_ocurrencias()` que devuelva el personaje con mayor numero de relaciones, siendo éste la suma de los valores `weight` de cada personaje relacionado."
   ]
  },
  {
   "cell_type": "code",
   "execution_count": 21,
   "metadata": {},
   "outputs": [
    {
     "data": {
      "text/plain": [
       "('Eddard-Stark', 1284)"
      ]
     },
     "execution_count": 21,
     "metadata": {},
     "output_type": "execute_result"
    }
   ],
   "source": [
    "# Completar\n",
    "def mas_relacionado_ocurrencias():\n",
    "    return max([(personaje, sum([w for _, w in rel]) ) for personaje, rel in relaciones.items()], key=lambda x: x[1])\n",
    "\n",
    "mas_relacionado_ocurrencias()\n",
    "# Para comprobar que funciona, mas_relacionado_ocurrencias() deve devolver ('Eddard-Stark', 1284)"
   ]
  },
  {
   "cell_type": "markdown",
   "metadata": {},
   "source": [
    "**5.** Hacer una función `no_relacionados(nombre)` que devuelva la lista de personajes que no están relacionados directamente con el nombre del personaje proporcionado."
   ]
  },
  {
   "cell_type": "code",
   "execution_count": 23,
   "metadata": {},
   "outputs": [],
   "source": [
    "personajes = list(relaciones)"
   ]
  },
  {
   "cell_type": "code",
   "execution_count": 24,
   "metadata": {
    "collapsed": true,
    "jupyter": {
     "outputs_hidden": true
    }
   },
   "outputs": [
    {
     "data": {
      "text/plain": [
       "['Addam-Marbrand',\n",
       " 'Jaime-Lannister',\n",
       " 'Tywin-Lannister',\n",
       " 'Aegon-I-Targaryen',\n",
       " 'Daenerys-Targaryen',\n",
       " 'Eddard-Stark',\n",
       " 'Aemon-Targaryen-(Maester-Aemon)',\n",
       " 'Alliser-Thorne',\n",
       " 'Bowen-Marsh',\n",
       " 'Chett',\n",
       " 'Clydas',\n",
       " 'Jeor-Mormont',\n",
       " 'Jon-Snow',\n",
       " 'Samwell-Tarly',\n",
       " 'Aerys-II-Targaryen',\n",
       " 'Brandon-Stark',\n",
       " 'Gerold-Hightower',\n",
       " 'Jon-Arryn',\n",
       " 'Robert-Baratheon',\n",
       " 'Aggo',\n",
       " 'Drogo',\n",
       " 'Jhogo',\n",
       " 'Jorah-Mormont',\n",
       " 'Quaro',\n",
       " 'Rakharo',\n",
       " 'Albett',\n",
       " 'Halder',\n",
       " 'Rast',\n",
       " 'Grenn',\n",
       " 'Pypar',\n",
       " 'Tyrion-Lannister',\n",
       " 'Alyn',\n",
       " 'Harwin',\n",
       " 'Jory-Cassel',\n",
       " 'Tomard',\n",
       " 'Arthur-Dayne',\n",
       " 'Arya-Stark',\n",
       " 'Benjen-Stark',\n",
       " 'Bran-Stark',\n",
       " 'Catelyn-Stark',\n",
       " 'Cersei-Lannister',\n",
       " 'Desmond',\n",
       " 'Ilyn-Payne',\n",
       " 'Jeyne-Poole',\n",
       " 'Joffrey-Baratheon',\n",
       " 'Meryn-Trant',\n",
       " 'Mordane',\n",
       " 'Mycah',\n",
       " 'Myrcella-Baratheon',\n",
       " 'Petyr-Baelish',\n",
       " 'Rickon-Stark',\n",
       " 'Robb-Stark',\n",
       " 'Rodrik-Cassel',\n",
       " 'Sandor-Clegane',\n",
       " 'Sansa-Stark',\n",
       " 'Syrio-Forel',\n",
       " 'Tommen-Baratheon',\n",
       " 'Vayon-Poole',\n",
       " 'Yoren',\n",
       " 'Arys-Oakheart',\n",
       " 'Balon-Greyjoy',\n",
       " 'Balon-Swann',\n",
       " 'Renly-Baratheon',\n",
       " 'Barristan-Selmy',\n",
       " 'Boros-Blount',\n",
       " 'Pycelle',\n",
       " 'Varys',\n",
       " 'Jaremy-Rykker',\n",
       " 'Luwin',\n",
       " 'Mance-Rayder',\n",
       " 'Theon-Greyjoy',\n",
       " 'Waymar-Royce',\n",
       " 'Beric-Dondarrion',\n",
       " 'Gregor-Clegane',\n",
       " 'Loras-Tyrell',\n",
       " 'Thoros-of-Myr',\n",
       " 'Hali',\n",
       " 'Hallis-Mollen',\n",
       " 'Hodor',\n",
       " 'Hullen',\n",
       " 'Joseth',\n",
       " 'Nan',\n",
       " 'Osha',\n",
       " 'Rickard-Karstark',\n",
       " 'Rickard-Stark',\n",
       " 'Stiv',\n",
       " 'Lyanna-Stark',\n",
       " 'Bronn',\n",
       " 'Chiggen',\n",
       " 'Marillion',\n",
       " 'Shae',\n",
       " 'Shagga',\n",
       " 'Vardis-Egen',\n",
       " 'Willis-Wode',\n",
       " 'Brynden-Tully',\n",
       " 'Edmure-Tully',\n",
       " 'Hoster-Tully',\n",
       " 'Lysa-Arryn',\n",
       " 'Nestor-Royce',\n",
       " 'Walder-Frey',\n",
       " 'Colemon',\n",
       " 'Donnel-Waynwood',\n",
       " 'Eon-Hunter',\n",
       " 'Jon-Umber-(Greatjon)',\n",
       " 'Masha-Heddle',\n",
       " 'Moreo-Tumitis',\n",
       " 'Mya-Stone',\n",
       " 'Mychel-Redfort',\n",
       " 'Robert-Arryn',\n",
       " 'Stevron-Frey',\n",
       " 'Tytos-Blackwood',\n",
       " 'Wendel-Manderly',\n",
       " 'Cayn',\n",
       " 'Janos-Slynt',\n",
       " 'Stannis-Baratheon',\n",
       " 'Chella',\n",
       " 'Clement-Piper',\n",
       " 'Karyl-Vance',\n",
       " 'Cohollo',\n",
       " 'Haggo',\n",
       " 'Qotho',\n",
       " 'Conn',\n",
       " 'Coratt',\n",
       " 'Doreah',\n",
       " 'Eroeh',\n",
       " 'Illyrio-Mopatis',\n",
       " 'Irri',\n",
       " 'Jhiqui',\n",
       " 'Mirri-Maz-Duur',\n",
       " 'Rhaegar-Targaryen',\n",
       " 'Viserys-Targaryen',\n",
       " 'Danwell-Frey',\n",
       " 'Hosteen-Frey',\n",
       " 'Jared-Frey',\n",
       " 'Dareon',\n",
       " 'Daryn-Hornwood',\n",
       " 'Torrhen-Karstark',\n",
       " 'Dolf',\n",
       " 'Donal-Noye',\n",
       " 'Jommo',\n",
       " 'Ogo',\n",
       " 'Rhaego',\n",
       " 'Dywen',\n",
       " 'Galbart-Glover',\n",
       " 'Gendry',\n",
       " 'High-Septon-(fat_one)',\n",
       " 'Howland-Reed',\n",
       " 'Jacks',\n",
       " 'Joss',\n",
       " 'Marq-Piper',\n",
       " 'Porther',\n",
       " 'Raymun-Darry',\n",
       " 'Tobho-Mott',\n",
       " 'Tregar',\n",
       " 'Varly',\n",
       " 'Wyl-(guard)',\n",
       " 'Wylla',\n",
       " 'Fogo',\n",
       " 'Roose-Bolton',\n",
       " 'Gared',\n",
       " 'Will-(prologue)',\n",
       " 'Oswell-Whent',\n",
       " 'Todder',\n",
       " 'Gunthor-son-of-Gurn',\n",
       " 'Harys-Swyft',\n",
       " 'Heward',\n",
       " 'Hobb',\n",
       " 'Hugh',\n",
       " 'Jafer-Flowers',\n",
       " 'Kevan-Lannister',\n",
       " 'Matthar',\n",
       " 'Othor',\n",
       " 'Maege-Mormont',\n",
       " 'Jonos-Bracken',\n",
       " 'Jyck',\n",
       " 'Morrec',\n",
       " 'Kurleket',\n",
       " 'Lancel-Lannister',\n",
       " 'Leo-Lefford',\n",
       " 'Mace-Tyrell',\n",
       " 'Lyn-Corbray',\n",
       " 'Paxter-Redwyne',\n",
       " 'Maegor-I-Targaryen',\n",
       " 'Mord',\n",
       " 'Randyll-Tarly',\n",
       " 'Timett',\n",
       " 'Ulf-son-of-Umar']"
      ]
     },
     "execution_count": 24,
     "metadata": {},
     "output_type": "execute_result"
    }
   ],
   "source": [
    "personajes"
   ]
  },
  {
   "cell_type": "code",
   "execution_count": 28,
   "metadata": {},
   "outputs": [
    {
     "data": {
      "text/plain": [
       "['Addam-Marbrand',\n",
       " 'Aemon-Targaryen-(Maester-Aemon)',\n",
       " 'Aggo',\n",
       " 'Albett',\n",
       " 'Alliser-Thorne']"
      ]
     },
     "execution_count": 28,
     "metadata": {},
     "output_type": "execute_result"
    }
   ],
   "source": [
    "# Completar\n",
    "def no_relacionados(nombre):\n",
    "    return [p for p in personajes if p not in [personaje for personaje, _ in relaciones[nombre]]]\n",
    "    \n",
    "sorted(no_relacionados(\"Eddard-Stark\"))[:5]\n",
    "# Para comprobar que funciona, sorted(no_relacionado('Eddard-Stark'))[:5] es:\n",
    "# ['Addam-Marbrand', 'Aemon-Targaryen-(Maester-Aemon)', 'Aggo', 'Albett', 'Alliser-Thorne']"
   ]
  },
  {
   "cell_type": "markdown",
   "metadata": {},
   "source": [
    "**6.** Los nombres se componen generalmente de **_nombre-apellido_**, con algunas excepciones como **_Aemon-Targaryen-(Maester-Aemon)_**, o personajes secundarios como **_Harwin_**. Obtener una lista de personajes compuesta únicamente de nombres que cumplan el patrón `nombre-apellido`."
   ]
  },
  {
   "cell_type": "markdown",
   "metadata": {},
   "source": [
    "<div class=\"alert alert-block alert-info\">\n",
    "<i class=\"fa fa-info-circle\" aria-hidden=\"true\"></i>\n",
    "Puede ser de utilidad la siguiente función de los <i>Strings</i>:\n",
    "</div>\n",
    "\n",
    "La función `str.count(c)` devuelve un entero, indicando las veces que el carácter `c` aparece en el string. Por ejemplo:\n",
    "\n",
    "```\n",
    "s = \"Javier-Cózar\".count('-')  # Devuelve 1\n",
    "s = \"Javier-Cózar-del-Olmo\".count('-')  # Devuelve 3\n",
    "```"
   ]
  },
  {
   "cell_type": "code",
   "execution_count": 29,
   "metadata": {},
   "outputs": [
    {
     "data": {
      "text/plain": [
       "105"
      ]
     },
     "execution_count": 29,
     "metadata": {},
     "output_type": "execute_result"
    }
   ],
   "source": [
    "# Completar\n",
    "nombre_apellidos = [p.split('-') for p in personajes if p.count('-') == 1]\n",
    "len(nombre_apellidos)\n",
    "# Para comprobar que funciona, la lista obtenida, nombre_apellidos, debe tener una longitud de 105 personajes."
   ]
  },
  {
   "cell_type": "markdown",
   "metadata": {},
   "source": [
    "**7.** Hacer un diccionario (recomendamos `defaultdict`), con cada uno de los diferentes apellidos, siendo el valor la lista de personajes (puede ser un string `Nombre Apellido`) pertenecientes a esta familia (apellido). ¿Cuál es la familia con mayor numero de miembos? ¿Cuantas familias tienen un solo miembro?"
   ]
  },
  {
   "cell_type": "code",
   "execution_count": 30,
   "metadata": {},
   "outputs": [],
   "source": [
    "# Completar\n",
    "familias = defaultdict(list)\n",
    "\n",
    "for nombre, apellido in nombre_apellidos:\n",
    "    familias[apellido].append(f\"{nombre}-{apellido}\")\n",
    "# Para evitar spoilers, no se dará la solución de este último apartado ;-)"
   ]
  },
  {
   "cell_type": "code",
   "execution_count": 32,
   "metadata": {},
   "outputs": [
    {
     "data": {
      "text/plain": [
       "(11, 'Stark')"
      ]
     },
     "execution_count": 32,
     "metadata": {},
     "output_type": "execute_result"
    }
   ],
   "source": [
    "# familia con mas miembros\n",
    "max([(len(miembros), familia) for familia, miembros in familias.items()])"
   ]
  },
  {
   "cell_type": "code",
   "execution_count": 33,
   "metadata": {},
   "outputs": [
    {
     "data": {
      "text/plain": [
       "['Marbrand',\n",
       " 'Thorne',\n",
       " 'Marsh',\n",
       " 'Snow',\n",
       " 'Hightower',\n",
       " 'Dayne',\n",
       " 'Payne',\n",
       " 'Trant',\n",
       " 'Baelish',\n",
       " 'Forel',\n",
       " 'Oakheart',\n",
       " 'Swann',\n",
       " 'Selmy',\n",
       " 'Blount',\n",
       " 'Rykker',\n",
       " 'Rayder',\n",
       " 'Dondarrion',\n",
       " 'Mollen',\n",
       " 'Egen',\n",
       " 'Wode',\n",
       " 'Waynwood',\n",
       " 'Hunter',\n",
       " 'Heddle',\n",
       " 'Tumitis',\n",
       " 'Stone',\n",
       " 'Redfort',\n",
       " 'Blackwood',\n",
       " 'Manderly',\n",
       " 'Slynt',\n",
       " 'Vance',\n",
       " 'Mopatis',\n",
       " 'Hornwood',\n",
       " 'Noye',\n",
       " 'Glover',\n",
       " 'Reed',\n",
       " 'Darry',\n",
       " 'Mott',\n",
       " '(guard)',\n",
       " 'Bolton',\n",
       " '(prologue)',\n",
       " 'Whent',\n",
       " 'Swyft',\n",
       " 'Flowers',\n",
       " 'Bracken',\n",
       " 'Lefford',\n",
       " 'Corbray',\n",
       " 'Redwyne']"
      ]
     },
     "execution_count": 33,
     "metadata": {},
     "output_type": "execute_result"
    }
   ],
   "source": [
    "# familias con un solo miembro\n",
    "[familia for familia, miembros in familias.items() if len(miembros) == 1]"
   ]
  },
  {
   "cell_type": "markdown",
   "metadata": {},
   "source": [
    "<h3><font color=\"#00586D\" size=4> <i class=\"fa fa-pencil-square-o\" aria-hidden=\"true\" style=\"color:#00586D\"></i> Ejercicio 8</font></h3>\n",
    "\n",
    "<h3><font color=\"#00586D\" size=4> Canciones de Spotify </font></h3>\n",
    "\n",
    "\n",
    "El archivo `tracks.tsv` (ficheor como el csv pero usando tabulaciones en lugar de comas como separador) contiene un total de 45128 canciones de spotify, cada una de ellas con la información:\n",
    "- track: nombre de la canción\n",
    "- album: nombre del album al que pertenece\n",
    "- artist: nombre del artista\n",
    "- duration: duración en milisegundos\n",
    "- genres: lista de generos del artista (con el formato de python ['genero1', 'genero2', ...]\n",
    "\n",
    "Almacenaremos esta información en una estructura de clases. Para ello, vamos a crear una clase `Album`, otra `Artist` y otra `Track`. A continuación describimos la información que debe contener cada una de las clases:\n",
    "\n",
    "### Album\n",
    "\n",
    "Contiene los atributos `name` (nombre del album), `tracks` (lista de objetos `Track`, correspondientes a las canciones del album) y `artists` (un conjunto que contiene objetos `Artist`, correspondientes a los artistas incluidos en el album).\n",
    "\n",
    "Se deben implementar:\n",
    "\n",
    "- El constructor, que se le pase el nombre del album y lo almacene. Además debe inicializar las estructuras de datos necesarias (`trackas` y `artists`).\n",
    "- Una función llamada `add_track`, que se le pase un objeto `Track` y registre una canción en el álbum. Debe actualizar también el conjunto de `artists`.\n",
    "\n",
    "### Artist\n",
    "\n",
    "Contiene los atributos `name` (nombre del artista), `genres` (lista de géneros del artista) y `tracks` (lista de objetos `Track` de las canciones compuestas por el artista o grupo de artistas).\n",
    "\n",
    "Se deben implementar:\n",
    "\n",
    "- El constructor, que se le pase el nombre del artista y la lista de generos.  Además debe inicializar las estructuras de datos necesarias (`trackas`).\n",
    "\n",
    "- Una función llamada `add_track`, que se le pase un objeto `Track` y registre una canción en el álbum.\n",
    "\n",
    "### Track\n",
    "\n",
    "Contiene los atributos `name` (nombre de la canción), `duration` (duración de la canción en milisegundos) y `artist` (objeto `Artist` correspondiente con el artista de la canción).\n",
    "\n",
    "Se deben implementar:\n",
    "\n",
    "- El constructor, que se le pase el nombre de la canción, la duración, y el objeto `Artist`.\n",
    "\n",
    "\n",
    "Se deben realizar los siguientes ejercicios:\n",
    "\n",
    "1. Leer el fichero `tracks.tsv`\n",
    "2. Procesar cada una de las lineas, creando los objetos de las clases correspondientes en cada caso. Ten en cuenta que cada linea es un string, que debe ser procesado (dividir por tabuladores). Además, el campo correspondiente a los géneros es una lista en formato python transformada en string. Para facilitar su transformación a lista (desde string) se proporciona una función `parse_genres`, que se le pasa el string y devuelve la lista.\n",
    "3. En el proceso de construcción (parseo de cada linea de tracks) se deben rellenar iterativamente las variables `albums`, `artists`, `all_genres` y `total_duration`.\n",
    "\n",
    "`albums`: Un diccionario cuya clave es el nombre del álbum, y el valor es el objeto `Album`\n",
    "`artists`: Un diccionario cuya clave es el nombre del artista, y el valor es el objeto `Artist`\n",
    "`all_genres`: Un conjunto que contiene los nombres de todos los géneros (diferentes) de los artistas procesados\n",
    "`total_duration`: Un número entero que representa la duración total de todas las canciones procesadas (contiene la suma de todas las canciones procesadas)."
   ]
  },
  {
   "cell_type": "code",
   "execution_count": 36,
   "metadata": {},
   "outputs": [],
   "source": [
    "def parse_genres(genres_str):\n",
    "    return [g.strip() for g in genres_str.replace('[', '').replace(']', '').replace('\"', '').replace(\"'\", '').split(',')]"
   ]
  },
  {
   "cell_type": "code",
   "execution_count": 39,
   "metadata": {},
   "outputs": [],
   "source": [
    "# Completar\n",
    "#1.\n",
    "albums = {}\n",
    "artists = {}\n",
    "all_genres = set()\n",
    "total_duration = 0\n",
    "\n",
    "with open(\"tracks.tsv\") as f:\n",
    "    track_info = f.readlines()\n",
    "    \n",
    "class Album:\n",
    "    def __init__(self, name):\n",
    "        self.name = name\n",
    "        self.tracks = []\n",
    "        self.artists = set()\n",
    "    def add_track(self, track):\n",
    "        self.tracks.append(track)\n",
    "        self.artists.add(track.artist)\n",
    "    def contains_genres(self, genres):\n",
    "        return all(any(genre in artist.genres for artist in self.artists) for genre in genres)\n",
    "    def __repr__(self):\n",
    "        return f\"{self.name} includes {len(self.tracks)} tracks and {len(self.artists)} different artists\"\n",
    "\n",
    "    \n",
    "class Track:\n",
    "    def __init__(self, name, duration, artist):\n",
    "        global total_duration\n",
    "        self.name = name\n",
    "        self.duration = duration\n",
    "        self.artist = artist\n",
    "        total_duration += duration\n",
    "    def __repr__(self):\n",
    "        return f\"{self.name} ({self.duration}) composed by {artist}\"\n",
    "\n",
    "        \n",
    "class Artist:\n",
    "    def __init__(self, name, genres):\n",
    "        self.name = name\n",
    "        self.genres = genres\n",
    "        all_genres.update(genres)\n",
    "        self.tracks = []\n",
    "    def add_track(self, track):\n",
    "        self.tracks.append(track)\n",
    "    def __repr__(self):\n",
    "        return f\"{self.name} ({self.genres}). Composed {len(self.tracks)} tracks.\"\n",
    "    \n",
    "for track in track_info[1:]:\n",
    "    name, album, artist, duration, genres = track.split('\\t')\n",
    "    duration = int(duration)\n",
    "    genres = parse_genres(genres)\n",
    "    \n",
    "    # create objects\n",
    "    if artist not in artists:\n",
    "        artists[artist] = Artist(artist, genres)\n",
    "\n",
    "    tr = Track(track, duration, artists[artist])\n",
    "    artists[artist].add_track(tr)\n",
    "    \n",
    "    if album not in albums:\n",
    "        albums[album] = Album(album)\n",
    "    albums[album].add_track(tr)"
   ]
  },
  {
   "cell_type": "markdown",
   "metadata": {},
   "source": [
    "Una vez creada la estructura de clases (los objetos), se debe responder a las siguientes preguntas:\n",
    "\n",
    "- ¿Cuántos segundos de duración suman todas las canciones?\n",
    "- ¿Qué artista ha compuesto mas canciones?\n",
    "- ¿Qué álbum contiene más canciones? ¿Y más artistas diferenes?\n",
    "- ¿Qué álbum tiene mayor duración?\n",
    "- ¿Qué artista compone, en media, las canciones mas largas? ¿Y más cortas?\n",
    "- ¿Cuántas canciones hay de artistas que componen género 'spanish pop'?\n",
    "- Lista los albumes que contienen canciones de artistas con género 'blues' y artistas con género 'country'. Implementar para ello una función `contains_genres` en la clase `Album`, que se le pase una lista de nombres de géneros y devuelva `True` si para todos ellos existe al menos un artista de dicho género, y `False` en caso contrario."
   ]
  },
  {
   "cell_type": "code",
   "execution_count": null,
   "metadata": {},
   "outputs": [],
   "source": [
    "# Completar"
   ]
  },
  {
   "cell_type": "code",
   "execution_count": 41,
   "metadata": {},
   "outputs": [
    {
     "data": {
      "text/plain": [
       "10892558.25"
      ]
     },
     "execution_count": 41,
     "metadata": {},
     "output_type": "execute_result"
    }
   ],
   "source": [
    "# a.\n",
    "total_duration / 1000"
   ]
  },
  {
   "cell_type": "code",
   "execution_count": 42,
   "metadata": {},
   "outputs": [
    {
     "data": {
      "text/plain": [
       "(179, 'George Strait')"
      ]
     },
     "execution_count": 42,
     "metadata": {},
     "output_type": "execute_result"
    }
   ],
   "source": [
    "# b.\n",
    "max([(len(artist.tracks), artist.name) for artist in artists.values()])"
   ]
  },
  {
   "cell_type": "code",
   "execution_count": 43,
   "metadata": {},
   "outputs": [
    {
     "data": {
      "text/plain": [
       "(115, 'Greatest Hits')"
      ]
     },
     "execution_count": 43,
     "metadata": {},
     "output_type": "execute_result"
    }
   ],
   "source": [
    "# c.1\n",
    "max([(len(album.tracks), album.name) for album in albums.values()])"
   ]
  },
  {
   "cell_type": "code",
   "execution_count": 44,
   "metadata": {},
   "outputs": [
    {
     "data": {
      "text/plain": [
       "(44, 'Greatest Hits')"
      ]
     },
     "execution_count": 44,
     "metadata": {},
     "output_type": "execute_result"
    }
   ],
   "source": [
    "# c.2\n",
    "max([(len(album.artists), album.name) for album in albums.values()])"
   ]
  },
  {
   "cell_type": "code",
   "execution_count": 45,
   "metadata": {},
   "outputs": [
    {
     "data": {
      "text/plain": [
       "(26656.22, 'Greatest Hits')"
      ]
     },
     "execution_count": 45,
     "metadata": {},
     "output_type": "execute_result"
    }
   ],
   "source": [
    "# d\n",
    "max([(sum([t.duration for t in album.tracks]) / 1000, album.name) for album in albums.values()])"
   ]
  },
  {
   "cell_type": "code",
   "execution_count": 48,
   "metadata": {},
   "outputs": [
    {
     "data": {
      "text/plain": [
       "(1156.227, 'Blind Faith')"
      ]
     },
     "execution_count": 48,
     "metadata": {},
     "output_type": "execute_result"
    }
   ],
   "source": [
    "# e.1\n",
    "max([(sum([t.duration for t in artist.tracks]) / (1000 * len(artist.tracks)), artist.name) for artist in artists.values()])"
   ]
  },
  {
   "cell_type": "code",
   "execution_count": 49,
   "metadata": {},
   "outputs": [
    {
     "data": {
      "text/plain": [
       "(13.25, 'Halloween AAA')"
      ]
     },
     "execution_count": 49,
     "metadata": {},
     "output_type": "execute_result"
    }
   ],
   "source": [
    "# e.2\n",
    "min([(sum([t.duration for t in artist.tracks]) / (1000 * len(artist.tracks)), artist.name) for artist in artists.values()])"
   ]
  },
  {
   "cell_type": "code",
   "execution_count": 50,
   "metadata": {},
   "outputs": [
    {
     "data": {
      "text/plain": [
       "[Ni Rosas, Ni Juguetes (Dúo Con Pitbull - Mr 305 Remix) includes 1 tracks and 1 different artists,\n",
       " Grease. El Musical De Tu Vida (Por Edurne) includes 6 tracks and 4 different artists]"
      ]
     },
     "execution_count": 50,
     "metadata": {},
     "output_type": "execute_result"
    }
   ],
   "source": [
    "# f\n",
    "[album for album in albums.values() if album.contains_genres(['spanish pop'])]"
   ]
  },
  {
   "cell_type": "code",
   "execution_count": 51,
   "metadata": {},
   "outputs": [
    {
     "data": {
      "text/plain": [
       "[Love Songs includes 74 tracks and 23 different artists,\n",
       " The Definitive Collection includes 37 tracks and 8 different artists,\n",
       " Gold includes 21 tracks and 8 different artists,\n",
       " The Best Of includes 18 tracks and 10 different artists]"
      ]
     },
     "execution_count": 51,
     "metadata": {},
     "output_type": "execute_result"
    }
   ],
   "source": [
    "# g\n",
    "[album for album in albums.values() if album.contains_genres(['blues', 'country'])]"
   ]
  }
 ],
 "metadata": {
  "kernelspec": {
   "display_name": "Python 3",
   "language": "python",
   "name": "python3"
  },
  "language_info": {
   "codemirror_mode": {
    "name": "ipython",
    "version": 3
   },
   "file_extension": ".py",
   "mimetype": "text/x-python",
   "name": "python",
   "nbconvert_exporter": "python",
   "pygments_lexer": "ipython3",
   "version": "3.7.7"
  }
 },
 "nbformat": 4,
 "nbformat_minor": 4
}
