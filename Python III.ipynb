{
 "cells": [
  {
   "cell_type": "markdown",
   "metadata": {},
   "source": [
    "<img src=\"CIDaeNNB.png\" alt=\"Logo CiDAEN\" align=\"right\">\n",
    "\n",
    "\n",
    "<br><br><br>\n",
    "<h1><font color=\"#00586D\" size=5>Módulo 1</font></h1>\n",
    "\n",
    "\n",
    "\n",
    "<h1><font color=\"#00586D\" size=6>Python - Tutorial III</font></h1>\n",
    "\n",
    "<br>\n",
    "<div style=\"text-align: right\">\n",
    "<font color=\"#00586D\" size=3>Javier Cózar</font><br>\n",
    "<font color=\"#00586D\" size=3>Máster en Ciencia de Datos y Desarrollo de Aplicaciones en la Nube</font><br>\n",
    "<font color=\"#00586D\" size=3>Universidad de Castilla-La Mancha</font>\n",
    "\n",
    "</div>"
   ]
  },
  {
   "cell_type": "markdown",
   "metadata": {},
   "source": [
    "<h2><font color=\"#00586D\" size=5>Índice</font></h2>\n",
    "\n",
    "---\n",
    "\n",
    "El objetivo de este tutorial es aspectos más específicos de python como los ámbitos, así como funcionalidades habituales en cualquier lenguaje de programación (paquetes, ficheros y clases).\n",
    "\n",
    "\n",
    "A modo de **índice**, en este tutorial se verán:\n",
    "\n",
    "\n",
    "* 1. Paquetes y módulos: importar\n",
    "* 2. Ámbitos de declaración (global y local)\n",
    "  * 2.1 Global y local\n",
    "  * 2.2 Palabra reservada global\n",
    "* 3. Ficheros\n",
    "* 4. Contextos\n",
    "* 5. Pickle: Serialización de objetos\n",
    "* 6. Clases y objetos\n",
    "  * 6.1 Herencia"
   ]
  },
  {
   "cell_type": "markdown",
   "metadata": {},
   "source": [
    "---\n",
    "\n",
    "<h1><font color=\"#00586D\" size=5>1. Paquetes y módulos: importar </font></h1>"
   ]
  },
  {
   "cell_type": "markdown",
   "metadata": {},
   "source": [
    "En el _Tutorial python I_ ya introdujimos cómo importar módulos (`import math`).\n",
    "\n",
    "Los módulos son ficheros en python. Los módulos pueden ser importados, haciendo su código accesible: por ejemplo `modulo.atributo`.\n",
    "\n",
    "Para cargar un módulo se usa la sentencia `import` seguido del nombre del paquete. Se creará una variable cuyo nombre es el nombre del paquete, y podremos acceder a su contenido con el punto: por ejemplo `math.pi`.\n",
    "\n",
    "Si queremos que la variable para acceder al paquete tenga otro nombre, se puede elegir añadiendo `as nuevo_nombre` después del import: `import math as mt`"
   ]
  },
  {
   "cell_type": "code",
   "execution_count": null,
   "metadata": {},
   "outputs": [],
   "source": [
    "import math"
   ]
  },
  {
   "cell_type": "code",
   "execution_count": null,
   "metadata": {},
   "outputs": [],
   "source": [
    "math.pi"
   ]
  },
  {
   "cell_type": "markdown",
   "metadata": {},
   "source": [
    "<div class=\"alert alert-block alert-info\">\n",
    "<i class=\"fa fa-info-circle\" aria-hidden=\"true\"></i>\n",
    "Los paquetes son directorios que contienen uno o más módulos (u otros paquetes). Además, cada paquete debe contener un módulo con un nombre especial: <i>__init__.py</i>. Este fichero especial contiene el código que será ejecutado cuando el paquete se importe por primera vez en el intérprete.\n",
    "</div>"
   ]
  },
  {
   "cell_type": "markdown",
   "metadata": {},
   "source": [
    "<div class=\"alert alert-block alert-info\">\n",
    "<i class=\"fa fa-info-circle\" aria-hidden=\"true\"></i>\n",
    "Además de import, existen otras formas de importar módulos y paquetes. Los más importantes son tres:\n",
    "\n",
    "\n",
    "- `import` (el mostrado anteriormente)\n",
    "- `from módulo import elemento as nombre` (donde `as nombre` es opcional)\n",
    "- Uso del paquete `importlib`: permite un mayor control a la hora de importar módulos y paquetes. Uno de los ejemplos es el importar mediante el uso de strings: `importlib.import_module('random')`.\n",
    "\n",
    "</div>"
   ]
  },
  {
   "cell_type": "code",
   "execution_count": null,
   "metadata": {},
   "outputs": [],
   "source": [
    "\"\"\"\n",
    "En este ejemplo utilizaremos el módulo random para generar números aleatorios.\n",
    "\"\"\"\n",
    "import random  # importamos el módulo\n",
    "import numpy as np  # si no tenemos insyalado numpy, instalarlo ahora\n",
    "numeros_aleatorios = []\n",
    "a, b = 0, 10\n",
    "N = 10000000\n",
    "for _ in range(N):\n",
    "    numeros_aleatorios.append(random.randint(a, b))\n",
    "\n",
    "# Obtenemos estadísticas de sobre la lista de números aleatorios generada\n",
    "\n",
    "print(\"La media +- desviación típica es: {} +- {}.\".format(\n",
    "    np.mean(numeros_aleatorios), np.std(numeros_aleatorios)))\n"
   ]
  },
  {
   "cell_type": "code",
   "execution_count": null,
   "metadata": {},
   "outputs": [],
   "source": [
    "# Utilizando from\n",
    "import random  # importamos el módulo\n",
    "from numpy import mean, std\n",
    "numeros_aleatorios = []\n",
    "a, b = 0, 10\n",
    "N = 1000\n",
    "for _ in range(N):\n",
    "    numeros_aleatorios.append(random.randint(a, b))\n",
    "\n",
    "# Obtenemos estadísticas de sobre la lista de números aleatorios generada\n",
    "\n",
    "print(\"La media +- desviación típoca es: {} +- {}.\".format(\n",
    "    mean(numeros_aleatorios), std(numeros_aleatorios)))\n"
   ]
  },
  {
   "cell_type": "markdown",
   "metadata": {},
   "source": [
    "<div class=\"alert alert-block alert-info\">\n",
    "<i class=\"fa fa-info-circle\" aria-hidden=\"true\"></i>\n",
    "<strong>Nota</strong>: Sobre todo si no estás habituado a programar en python, es muy recomendable utilizar únicamente `import`. De esta manera, es más dificil cometer errores en el nombrado de variables y machacar paquetes importados (en ese caso, habría que volver a realizar el import para acceder a los módulos / paquetes)."
   ]
  },
  {
   "cell_type": "markdown",
   "metadata": {},
   "source": [
    "<div class=\"alert alert-block alert-warning\">\n",
    "<i class=\"fa fa-info-circle\" aria-hidden=\"true\"></i>\n",
    "<strong>Nota</strong>: Al usar from, se puede utilizar el asterisco, importando todo lo que hay dentro del paquete. Sin embargo esta práctica está desaconsejada por perder todalmente la visibilidad de los elementos importados."
   ]
  },
  {
   "cell_type": "markdown",
   "metadata": {},
   "source": [
    "<h1><font color=\"#00586D\" size=5>2. Ámbitos de declaración</font></h1>"
   ]
  },
  {
   "cell_type": "markdown",
   "metadata": {},
   "source": [
    "Hasta ahora no nos hemos preocupado del **ámbito de declaración** de las variables y funciones. En cualquier parte del código podemos crear una nueva variable con tan solo realizar una asignación, _¿pero es visible desde todo el código?_\n",
    "\n",
    "Por ejemplo:"
   ]
  },
  {
   "cell_type": "code",
   "execution_count": null,
   "metadata": {},
   "outputs": [],
   "source": [
    "fuera_de_funcion = \"Texto\"\n",
    "\n",
    "def mi_funcion():\n",
    "    print(fuera_de_funcion)\n",
    "\n",
    "mi_funcion()  # ¿Funcionará? Sí, accede a la variable global"
   ]
  },
  {
   "cell_type": "code",
   "execution_count": null,
   "metadata": {},
   "outputs": [],
   "source": [
    "def mi_funcion():\n",
    "    print(fuera_de_funcion)\n",
    "\n",
    "fuera_de_funcion = \"Texto\"\n",
    "\n",
    "mi_funcion()  # ¿Funcionará? Sí, accede a la variable global (no importa el orden del código, importa el de ejecución)"
   ]
  },
  {
   "cell_type": "code",
   "execution_count": null,
   "metadata": {},
   "outputs": [],
   "source": [
    "def mi_funcion():\n",
    "    dentro_de_funcion = \"Texto\"\n",
    "\n",
    "mi_funcion()\n",
    "# Devuelve error\n",
    "print(dentro_de_funcion)  # ¿Funcionará? No. La función está declarada dentro de mi_funcion (ámbito local a la función)"
   ]
  },
  {
   "cell_type": "code",
   "execution_count": null,
   "metadata": {},
   "outputs": [],
   "source": [
    "def fn():\n",
    "    for i in [4, 5, 6]:\n",
    "        print(i)\n",
    "    print(\"=======\")\n",
    "    print(i)\n",
    "    print(\"=======\")\n",
    "    print(locals())\n",
    "    print(\"=======\")"
   ]
  },
  {
   "cell_type": "code",
   "execution_count": null,
   "metadata": {},
   "outputs": [],
   "source": [
    "fn()"
   ]
  },
  {
   "cell_type": "markdown",
   "metadata": {},
   "source": [
    "En el ultimo ejemplo, la variable ha sido declarada dentro de una función, cuyo ámbito es local a la función. **¡Es decir, la variable solo es visible mientras la función se está ejecutando!**"
   ]
  },
  {
   "cell_type": "markdown",
   "metadata": {},
   "source": [
    "<font color=\"#00586D\" size=4> 2.1 Global y local  </font>"
   ]
  },
  {
   "cell_type": "markdown",
   "metadata": {},
   "source": [
    "En python existen dos ámbitos:\n",
    "* Local\n",
    "* Global\n",
    "\n",
    "Todo lo que se declare **en el cuerpo del módulo principal** se declara como **global** (_en las libretas, cualquier celda se considera cuerpo del módulo principal, por lo que en general trabajaremos con variables globales_).\n",
    "\n",
    "En todo momento podemos consultar la lista de declaraciones globales y locales mediante las funciones built-in `globals` y `locals`.\n",
    "\n",
    "**El resto se declara como local** al ámbito de donde se esté ejecutando (función, objeto, módulo, ...)."
   ]
  },
  {
   "cell_type": "code",
   "execution_count": null,
   "metadata": {},
   "outputs": [],
   "source": [
    "def mi_funcion():\n",
    "    dentro_de_funcion = \"Texto\"\n",
    "    print(\"Éstos son los elementos de ámbito local: {}\\n\".format(locals()))\n",
    "\n",
    "mi_funcion()\n",
    "\n",
    "print(\"Fuera de la función éstos son los elementos de ámbito locales: {}\\n\".format(locals()))\n",
    "\n",
    "print(\"Que son los mismos que los elementos de ámbito global: {}\\n\".format(globals()))"
   ]
  },
  {
   "cell_type": "markdown",
   "metadata": {},
   "source": [
    "<font size=4> <i class=\"fa fa-book\" aria-hidden=\"true\" style=\"color:#00586D\"></i> </font> __Importante!__ Podemos definir funciones dentro de funciones. Lo que tendríamos es un ámbito local dentro de otro ámbito local. Esto se gestiona con una jerarquía de ámbitos locales. Es decir, si tenemos `funcion1`, y dentro del ámbito de esta función definimos `funcion2`, lo que declaremos en `funcion1` será visible para `funcion1` (a no ser que `funcion2`declare una variable con el mismo nombre, en cuyo caso existirán dos variables (con el mismo nombre) pero en distintos ámbitos locales. Ejemplo:"
   ]
  },
  {
   "cell_type": "code",
   "execution_count": null,
   "metadata": {},
   "outputs": [],
   "source": [
    "def funcion1():\n",
    "    def funcion2():\n",
    "        # La variable no existe en el ámbito local de funcion2, pero se eonctrará en el ámbito de funcion1 (padre).\n",
    "        print(variable)\n",
    "    variable = \"Desde funcion1\"\n",
    "    funcion2()\n",
    "    print(variable)\n",
    "funcion1()"
   ]
  },
  {
   "cell_type": "code",
   "execution_count": null,
   "metadata": {},
   "outputs": [],
   "source": [
    "def funcion1():\n",
    "    def funcion2():\n",
    "        # Se define variable en este ámbito. Será la que se use.\n",
    "        variable = \"Desde funcion2\"\n",
    "        print(variable)\n",
    "    # ¡Pero no sobreescribirá a esta! Convivirán las dos versiones, en distintos ámbitos locales.\n",
    "    variable = \"Desde funcion1\"\n",
    "    funcion2()\n",
    "    print(variable)\n",
    "funcion1()"
   ]
  },
  {
   "cell_type": "markdown",
   "metadata": {},
   "source": [
    "<font color=\"#00586D\" size=4> 2.2 Uso de la palabra reservada `global` </font>\n"
   ]
  },
  {
   "cell_type": "markdown",
   "metadata": {},
   "source": [
    "<font size=4> <i class=\"fa fa-book\" aria-hidden=\"true\" style=\"color:#00586D\"></i> </font> __Importante!__ Cuando vamos a declarar una variable o función, por defecto intentará crearla en ámbito local (si ya existe en este ámbito tan solo asignará el valor correspondiente). Si queremos que se declare como global, o si ya existe como global pero queremos actualizar su valor, es necesario el uso de la `global`. Esta sentencia `global nombre_variable` debe realizarse al principio del scope correspondiente (función, clase, ...)"
   ]
  },
  {
   "cell_type": "code",
   "execution_count": null,
   "metadata": {},
   "outputs": [],
   "source": [
    "def mi_funcion():\n",
    "    global dentro_de_funcion\n",
    "    dentro_de_funcion = \"Texto\"\n",
    "    print(\"Éstos son los elementos de ámbito local: {}\".format(locals()))\n",
    "\n",
    "mi_funcion()\n",
    "print(dentro_de_funcion)  # ¿Funcionará?"
   ]
  },
  {
   "cell_type": "code",
   "execution_count": null,
   "metadata": {},
   "outputs": [],
   "source": [
    "def asigna_5():\n",
    "    x = 5\n",
    "\n",
    "x = 10\n",
    "asigna_5()\n",
    "print(x)  # ¿Qué valor imprimirá?"
   ]
  },
  {
   "cell_type": "code",
   "execution_count": null,
   "metadata": {},
   "outputs": [],
   "source": [
    "def asigna_5():\n",
    "    global x\n",
    "    x = 5\n",
    "\n",
    "x = 10\n",
    "asigna_5()\n",
    "print(x)  # ¿Qué valor imprimirá?"
   ]
  },
  {
   "cell_type": "markdown",
   "metadata": {},
   "source": [
    "<font size=4> <i class=\"fa fa-book\" aria-hidden=\"true\" style=\"color:#00586D\"></i> </font> __Importante!__ Si no tenemos cuidado con el nombrado de variables y funciones, podemos equivocarnos y machacar elementos por error.\n"
   ]
  },
  {
   "cell_type": "markdown",
   "metadata": {},
   "source": [
    "<h3><font color=\"#00586D\" size=4><i class=\"fa fa-pencil-square-o\" aria-hidden=\"true\"></i>Ejercicio</font></h3>\n",
    "\n",
    "**En este ejericio, con el fin de habituarnos a los scopes en python, declararemos:**\n",
    "\n",
    "* Una función, llamada `lista_aleatoria` (sin parámetros) que use una variable global llamada `N` (declararla en ámbito global, es decir, en la celda fuera de declaración de la función) para:\n",
    "  * Crear una lista de `N` números aleatorios (utilizar la función `random()` del módulo `random` para generar **un número aleatorio** entre 0 y 1).\n",
    "  * Incrementa el valor de `N` en 1, de tal manera que la siguiente vez que se llame a la función esta lista será más grande."
   ]
  },
  {
   "cell_type": "code",
   "execution_count": null,
   "metadata": {},
   "outputs": [],
   "source": [
    "# Completar"
   ]
  },
  {
   "cell_type": "markdown",
   "metadata": {},
   "source": [
    "<h3><font color=\"#00586D\" size=4><i class=\"fa fa-pencil-square-o\" aria-hidden=\"true\"></i>Ejercicio</font></h3>\n",
    "\n",
    "El paquete `time` se puede usar para devolver el timestamp actual (segundos transcurridos desde 01-01-1970). Vamos a:\n",
    "\n",
    "- Declarar una función llamada `total_seconds`, inicialmente con valor 0.\n",
    "- Implementar una función que reciba un parámetro `n`, e itere en un bucle ese número de veces y nos pida en cada uno introducir por teclado una palabra, las cuales serán introducidas en una lista. La función devolverá esa lista.\n",
    "- Implementar una segunda función que reciba como argumento esta lista y calcule la longitud media de las palabras en la misma, y devuelva dicho valor.\n",
    "- Cada una de las dos funciones debe incrementar el valor de `total_seconds` de acuerdo al tiempo empleado. Para ello, usar `time.time()` al inicio y al final de la función, siendo el tiempo transcurrido la diferencia entre el segundo y el primer caso.\n",
    "- Finalmente, invocar ambas funciones e imprimir el valor devuelto por la última así como el tiempo empleado."
   ]
  },
  {
   "cell_type": "markdown",
   "metadata": {},
   "source": [
    "<h1><font color=\"#00586D\" size=5>3. Ficheros </font></h1>"
   ]
  },
  {
   "cell_type": "markdown",
   "metadata": {},
   "source": [
    "Como en cualquier lenguaje de programación, los ficheros se manejan en dos fases:\n",
    "\n",
    "- Primero se obtiene el descriptor del fichero. Éste es un objeto que permite efectuar operaciones de entrada / salida sobre el fichero. Se crea con la llamada `open`.\n",
    "- Sobre el descriptor se pueden efectuar operaciones de lectura (función `read`) y escritura (función `write`). La función `open` debe ser correctamente parametrizada para poder efectuar correctamente estas operaciones.\n",
    "\n",
    "Hay que recordar cerrar el fichero una vez éste ha sido utilizado. Para ello, se usa la función `close`."
   ]
  },
  {
   "cell_type": "code",
   "execution_count": null,
   "metadata": {},
   "outputs": [],
   "source": [
    "# Crear un fichero llamado fichero.txt usando la interfaz de jupyter\n",
    "# Abre el fichero\n",
    "file = open('fichero.txt')\n",
    "# Lee el contenido\n",
    "texto = file.read()\n",
    "print(texto)\n",
    "\n",
    "# Si usamos la función read otra vez, nos devolvera la cadena vacía porque ya ha sido leido!\n",
    "\n",
    "# Cerramos el descriptor del fichero\n",
    "file.close()"
   ]
  },
  {
   "cell_type": "code",
   "execution_count": null,
   "metadata": {},
   "outputs": [],
   "source": [
    "file = open('fichero.txt', 'w')\n",
    "file.write('Nuevo texto')\n",
    "# Cerramos el descriptor del fichero\n",
    "file.close()"
   ]
  },
  {
   "cell_type": "code",
   "execution_count": null,
   "metadata": {},
   "outputs": [],
   "source": [
    "file = open('fichero.txt')\n",
    "texto = file.read()\n",
    "print(texto)"
   ]
  },
  {
   "cell_type": "markdown",
   "metadata": {},
   "source": [
    "Para escribir el fichero, hemos utilizado un segundo parámetro en la función `write`. Este parámetro indica de qué forma se debe abrir el fichero. Los modos en los que se puede abrir un fichero son _(se pueden combinar dos letras para elegir modo texto o binario, por ejemplo 'rb' para leer en binario)_:\n",
    "\n",
    "\n",
    "| Carácter | Significado|\n",
    "|------|------|\n",
    "| 'r' | en modo lectura (por defecto)| \n",
    "| 'w' | en modo escritura (primero vacía el fichero)| \n",
    "| 'x' | en modo escritura, pero lanza una excepción si el fichero ya existe | \n",
    "| 'a' | en modo escritura, pero no vacía el fichero. Lo que se escribe, se pone al final | \n",
    "| '+' | en modo actualización (permite leer y escribir) | \n",
    "| 'b' | modo binario | \n",
    "| 't' | modo texto (por defecto)| "
   ]
  },
  {
   "cell_type": "markdown",
   "metadata": {},
   "source": [
    "<font color=\"#00586D\" size=5>4. Contextos </font>"
   ]
  },
  {
   "cell_type": "markdown",
   "metadata": {},
   "source": [
    "En el ejemplo anterior, hay que recordar siempre cerrar el descriptor del fichero. En caso contrario, podrían producirse efectos no deseados.\n",
    "\n",
    "Los contextos delimitan un bloque con unas características que lo describen. Por ejemplo, un bloque contextual para leer un fichero comienza con la apertura del descriptor y termina con el cierre del mismo. En Python, ésto se realiza mediante la palabra reservada `with`:"
   ]
  },
  {
   "cell_type": "code",
   "execution_count": null,
   "metadata": {},
   "outputs": [],
   "source": [
    "with open('fichero.txt') as f:\n",
    "    texto = f.read()\n",
    "\n",
    "# En este punto el fichero ya ha sido cerrado! (se ha invocado la función close)\n",
    "print(texto)"
   ]
  },
  {
   "cell_type": "markdown",
   "metadata": {},
   "source": [
    "Existen otras utilidades, como abrir una **conexión a una base de datos**, una **conexión a un web socket**, etc. La instrucción situada tras la palabra `with` debe devolver un objeto con dos funciones implementadas:\n",
    "\n",
    "- `__enter__`: Se llama al principio del bloque\n",
    "- `__exit__`: Se llama al final del bloque"
   ]
  },
  {
   "cell_type": "code",
   "execution_count": null,
   "metadata": {},
   "outputs": [],
   "source": [
    "import requests  # instalar si no está instalado\n",
    "url_quijote = \"https://gist.githubusercontent.com/jsdario/6d6c69398cb0c73111e49f1218960f79/raw/8d4fc4548d437e2a7203a5aeeace5477f598827d/el_quijote.txt\"\n",
    "text_quijote = requests.get(url_quijote).text"
   ]
  },
  {
   "cell_type": "markdown",
   "metadata": {},
   "source": [
    "<h3><font color=\"#00586D\" size=4><i class=\"fa fa-pencil-square-o\" aria-hidden=\"true\"></i>Ejercicio</font></h3>\n",
    "\n",
    "Usando contextos, escribir el texto en un fichero llamado quijote.txt."
   ]
  },
  {
   "cell_type": "code",
   "execution_count": null,
   "metadata": {},
   "outputs": [],
   "source": [
    "# Completar"
   ]
  },
  {
   "cell_type": "markdown",
   "metadata": {},
   "source": [
    "<h3><font color=\"#00586D\" size=4><i class=\"fa fa-pencil-square-o\" aria-hidden=\"true\"></i>Ejercicio</font></h3>\n",
    "\n",
    "Usando contextos, leer el contenido del fichero llamado quijote.txt y calcular cuántas palaabras tiene. ¿Y cuántas palabras distintas?"
   ]
  },
  {
   "cell_type": "code",
   "execution_count": null,
   "metadata": {},
   "outputs": [],
   "source": [
    "# Completar"
   ]
  },
  {
   "cell_type": "markdown",
   "metadata": {},
   "source": [
    "<font color=\"#00586D\" size=5>5. Pickle: Serialización de objetos </font>"
   ]
  },
  {
   "cell_type": "markdown",
   "metadata": {},
   "source": [
    "A lo largo del curso veremos procesos de cierta entidad que requieren tiempo para poder ejecutarse (por ejemplo, generar una tabla de datos). Si cerramos jupyter, perderemos todas nuestras variables y funciones, teniendo que volver a ejecutar el código. En estos casos, puede ser de utilidad almacenar en un fichero la estructura de datos deseada (por ejemplo, la tabla anteriormente mencionada).\n",
    "\n",
    "`pickle` es un módulo que permite **serializar objetos** de Python para almacenarlos en un fichero, pudiendo recuperarlos cuando sea necesario. Existen ciertas propiedades que tienen que cumplir los objetos para que puedan ser serializados por `pickle`, pero la gran mayoria de elementos que usaremos pueden ser serializados. Existen 4 funciones, dos para leer y 2 para escribir un objeto pickle (por convenio, con extensión 'pkl'):\n",
    "\n",
    "- pickle.load\n",
    "- pickle.loads\n",
    "- pickle.dump\n",
    "- pickle.dumps\n",
    "\n",
    "`load(s)` sirve para leer un fichero pickle, mientras que `dump(s)` sirve para serializar un objeto. La diferencia entre `load` y `loads` (al igual que entre `dump` y `dumps`) es que trabaja sobre un string binario o sobre un descriptor de fichero."
   ]
  },
  {
   "cell_type": "code",
   "execution_count": null,
   "metadata": {},
   "outputs": [],
   "source": [
    "import pickle\n",
    "\n",
    "l = list(range(1000))\n",
    "with open('mypickle.pkl', 'wb') as f:\n",
    "    pickle.dump(l, f)\n",
    "    \n",
    "with open('mypickle.pkl', 'rb') as f:\n",
    "    l2 = pickle.load(f)\n",
    "\n",
    "l == l2"
   ]
  },
  {
   "cell_type": "code",
   "execution_count": null,
   "metadata": {},
   "outputs": [],
   "source": [
    "import pickle\n",
    "\n",
    "l = list(range(1000))\n",
    "with open('mypickle.pkl', 'wb') as f:\n",
    "    f.write(pickle.dumps(l))\n",
    "    \n",
    "with open('mypickle.pkl', 'rb') as f:\n",
    "    l2 = pickle.loads(f.read())\n",
    "\n",
    "l == l2"
   ]
  },
  {
   "cell_type": "markdown",
   "metadata": {},
   "source": [
    "<font color=\"#00586D\" size=5> 6. Clases y objetos</font>"
   ]
  },
  {
   "cell_type": "markdown",
   "metadata": {},
   "source": [
    "Aunque no es un aspecto clave para este curso, en ocasiones el uso de clases puede ser **muy útil**, por lo que es recomendable saber lo básico de la _programación orientada a objetos_.\n",
    "\n",
    "Una clase es una definición que consiste en una colección de **variables** y **métodos** (funciones). Un objeto es una **instanciación** de esa clase, es decir, un objeto que contiene esas variables y funciones. La clase es la receta (solo definición), mientras que el objeto es algo manipulable (podemos llamar a sus funciones, sus atributos, etc.)\n",
    "\n",
    "Dos objetos creados a partir de la misma clase son completamente **independientes**. Para referirse al propio objeto dentro de la definición de las clases, se usa (_por convenio_) la variable `self`.\n",
    "\n",
    "La definición de clases se hace con la palabra reservada `class`. Existe una función que será ejecutada siempre que un objeto se cree a partir de la clase, llamada `__init__`. En una clase, toda función tiene como primer parámetro un argumento llamado `self` (salvo si se usa el decorador @staticmethod: más información [aquí](https://docs.python.org/3/library/functions.html#staticmethod)). Como mencionamos antes, este parámetro permite referenciar al propio objeto dentro de la definición de la clase. Para ver información más detallada sobre las clases, y propiedades como la _herencia_, consultar [aquí](https://docs.python.org/3.6/tutorial/classes.html).\n",
    "\n",
    "Para crear un objeto a partir de una clase, se usa la misma sintaxis que en la llamada a funciones. De hecho, es como llamar a la función `__init__`, omitiendo el primer parámetro `self` y el nombre de la función (`__init__`):"
   ]
  },
  {
   "cell_type": "code",
   "execution_count": null,
   "metadata": {},
   "outputs": [],
   "source": [
    "class MiClase:\n",
    "    def __init__(self, x):\n",
    "        self.x = x\n",
    "        print(\"¡Objeto creado!\")\n",
    "\n",
    "mi_objeto = MiClase(5)"
   ]
  },
  {
   "cell_type": "code",
   "execution_count": null,
   "metadata": {},
   "outputs": [],
   "source": [
    "mi_objeto.x"
   ]
  },
  {
   "cell_type": "markdown",
   "metadata": {},
   "source": [
    "<div class=\"alert alert-block alert-info\">\n",
    "<i class=\"fa fa-info-circle\" aria-hidden=\"true\"></i>\n",
    "    Cuando se define una clase, la función <i>__init__</i> existe por defecto, como una función vacía y sin argumentos (únicamente el self).\n",
    "</div>"
   ]
  },
  {
   "cell_type": "code",
   "execution_count": null,
   "metadata": {},
   "outputs": [],
   "source": [
    "class MiClase:\n",
    "    pass # La palabra reservada 'pass' indica que es una sentencia que no hace nada.\n",
    "         # Sirve para evitar fallos de sintáxis (como ahora, definir una clase sin nada dentro).\n",
    "mi_objeto = MiClase()"
   ]
  },
  {
   "cell_type": "code",
   "execution_count": null,
   "metadata": {},
   "outputs": [],
   "source": [
    "# Podemos definir una clase con una función\n",
    "class MiClase:\n",
    "    def saludar(self):\n",
    "        print(\"¡Hola!\")\n",
    "mi_objeto = MiClase()\n",
    "mi_objeto.saludar()  # Invocamos la función saludar del objeto"
   ]
  },
  {
   "cell_type": "markdown",
   "metadata": {},
   "source": [
    "<font size=4> <i class=\"fa fa-book\" aria-hidden=\"true\" style=\"color:#00586D\"></i> </font> __Importante!__ En el ejemplo a continuación es necesario realizar la asignación `self.nombre = nombre` para que el nombre se guarde en el objeto. Si no, sería una variable declarada en el ámbito de la función que se perdería en cuanto finalizase la ejecución de la misma."
   ]
  },
  {
   "cell_type": "code",
   "execution_count": null,
   "metadata": {},
   "outputs": [],
   "source": [
    "# Podemos definir una clase con una función y una variable, que además se inicializa en el __init__\n",
    "class MiClase:\n",
    "    def __init__(self, nombre):\n",
    "        self.nombre = nombre # Es necesario \n",
    "    def saludar(self):\n",
    "        print(\"¡Hola {}!\".format(self.nombre))\n",
    "mi_objeto = MiClase(\"Javi\")\n",
    "mi_objeto.saludar()  # Invocamos la función saludar del objeto\n",
    "\n",
    "# Podemos acceder a los atributos (variables almacenadas en self)\n",
    "print(mi_objeto.nombre)"
   ]
  },
  {
   "cell_type": "markdown",
   "metadata": {},
   "source": [
    "\n",
    "<font color=\"#00586D\" size=5> <strong>Herencia</strong> </font>\n",
    "\n",
    "Al declarar una clase, es posible heredar funcionalidad declarada en otra definición de clase. Esto es útil si queremos extender la funcionalidad de una clase ya implementada, o incluso para definición de clases como _interfaces_."
   ]
  },
  {
   "cell_type": "code",
   "execution_count": null,
   "metadata": {},
   "outputs": [],
   "source": [
    "from pprint import pprint\n",
    "class Tabla:\n",
    "    def __init__(self, columns):\n",
    "        self.columns = columns\n",
    "        self.data = []\n",
    "\n",
    "    def add_row(self, row):\n",
    "        dict_row = { c: field for c, field in zip(self.columns, row)}\n",
    "        self.data.append(dict_row)\n",
    "    \n",
    "    def show(self):\n",
    "        pprint(self.columns)\n",
    "        pprint(\"=\" * 20)\n",
    "        pprint(self.data)\n",
    "\n",
    "t = Tabla(['Nombre', 'Dirección', 'Teléfono'])\n",
    "t.add_row(['Javier', 'C/ Falsa 123', 666667788])\n",
    "t.add_row(['Juan', 'C/ Más Falsa 123', 666778899])\n",
    "t.show()"
   ]
  },
  {
   "cell_type": "code",
   "execution_count": null,
   "metadata": {},
   "outputs": [],
   "source": [
    "class TablaAlimentos(Tabla):\n",
    "    def __init__(self):\n",
    "        super().__init__(['Alimento', 'Calorías'])\n",
    "\n",
    "    def add_row(self, alimento, calorias):\n",
    "        super().add_row([alimento, calorias])\n",
    "    \n",
    "    def info(self):\n",
    "        print(\"Esta tabla describe alimentos y cuántas calorías tienen.\")\n",
    "\n",
    "t = TablaAlimentos()\n",
    "t.add_row('manzana', 52)\n",
    "t.add_row('lechuga', 15)\n",
    "t.show()\n",
    "t.info()"
   ]
  },
  {
   "cell_type": "markdown",
   "metadata": {},
   "source": [
    "<h3><font color=\"#00586D\" size=4><i class=\"fa fa-pencil-square-o\" aria-hidden=\"true\"></i>Ejercicio</font></h3>\n",
    "\n",
    "- Implementar una clase Persona que contenga los atributos nombre, edad y salario (estos valores deben inicializarse en el constructor). Crear una función llamada `get_salario` que en función de la edad multiplique el salario base por un factor y devuelva el nuevo número:\n",
    "    - *0.5 si tiene menos de 20 años\n",
    "    - *0.8 si tiene menos de 40 años\n",
    "    - *1.2 si tiene menos de 60 años\n",
    "    - *0.75 en caso contrario\n",
    "\n",
    "- Implementar una clase Matrimonio que contenga dos personas como atributos, y que sobreescriba la función `get_salario` sumando los salarios de ambas personas."
   ]
  },
  {
   "cell_type": "code",
   "execution_count": null,
   "metadata": {},
   "outputs": [],
   "source": [
    "# Completar"
   ]
  }
 ],
 "metadata": {
  "kernelspec": {
   "display_name": "Python 3",
   "language": "python",
   "name": "python3"
  },
  "language_info": {
   "codemirror_mode": {
    "name": "ipython",
    "version": 3
   },
   "file_extension": ".py",
   "mimetype": "text/x-python",
   "name": "python",
   "nbconvert_exporter": "python",
   "pygments_lexer": "ipython3",
   "version": "3.7.7"
  }
 },
 "nbformat": 4,
 "nbformat_minor": 4
}
