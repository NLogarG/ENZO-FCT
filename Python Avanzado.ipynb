{
 "cells": [
  {
   "cell_type": "markdown",
   "metadata": {},
   "source": [
    "<img src=\"CIDaeNNB.png\" alt=\"Logo CiDAEN\" align=\"right\">\n",
    "\n",
    "\n",
    "<br><br><br>\n",
    "<h1><font color=\"#00586D\" size=5>Módulo 1</font></h1>\n",
    "\n",
    "\n",
    "\n",
    "<h1><font color=\"#00586D\" size=6>Python - Avanzado</font></h1>\n",
    "\n",
    "<br>\n",
    "<div style=\"text-align: right\">\n",
    "<font color=\"#00586D\" size=3>Javier Cózar</font><br>\n",
    "<font color=\"#00586D\" size=3>Máster en Ciencia de Datos y Desarrollo de Aplicaciones en la Nube</font><br>\n",
    "<font color=\"#00586D\" size=3>Universidad de Castilla-La Mancha</font>\n",
    "\n",
    "</div>"
   ]
  },
  {
   "cell_type": "markdown",
   "metadata": {},
   "source": [
    "<h2><font color=\"#00586D\" size=5>Índice</font></h2>\n",
    "\n",
    "---\n",
    "\n",
    "El objetivo de este tutorial es aspectos más específicos de python como los ámbitos, así como funcionalidades habituales en cualquier lenguaje de programación (paquetes, ficheros y clases).\n",
    "\n",
    "\n",
    "A modo de **índice**, en este tutorial se verán:\n",
    "\n",
    "\n",
    "1. Eficiencia sobre una lista de elementos\n",
    "  1. Inicialización de lista\n",
    "  1. Iteradores y generadores: ¿Qué son?\n",
    "  1. Comprehension lists\n",
    "2. Manejo de excepciones\n",
    "3. Orden superior\n",
    "  1. Funciones lambda\n",
    "  1. Funciones filter, map y reduce"
   ]
  },
  {
   "cell_type": "markdown",
   "metadata": {},
   "source": [
    "---\n",
    "\n",
    "<h1><font color=\"#00586D\" size=5>1. Eficiencia sobre una lista de elementos </font></h1>"
   ]
  },
  {
   "cell_type": "markdown",
   "metadata": {},
   "source": [
    "Cuando trabajemos con conjuntos de datos, sobre todo cuando éstos son especialmente grandes, es muy importante tener en cuenta la eficiencia.\n",
    "\n",
    "En esta sección abordaremos detalles de implementación que tienen un gran impacto en el rendimiento de nuestro código."
   ]
  },
  {
   "cell_type": "markdown",
   "metadata": {},
   "source": [
    "<h1><font color=\"#00586D\" size=4>1.1 Inicialización de listas </font></h1>"
   ]
  },
  {
   "cell_type": "markdown",
   "metadata": {},
   "source": [
    "Como hemos visto, no es necesario especificar el tamaño de las listas en su creación (al contrario que en otros lenguajes de proogramación). Esto, aunque muy util, conlleva una penalización en cuanto al uso de memoria RAM. Además, exite un sobrecoste en tiempo de ejecución cuando hay que expandir el tamaño de la lista (uso de la función `append`)."
   ]
  },
  {
   "cell_type": "code",
   "execution_count": 1,
   "metadata": {},
   "outputs": [
    {
     "name": "stdout",
     "output_type": "stream",
     "text": [
      "139 ms ± 9.25 ms per loop (mean ± std. dev. of 7 runs, 10 loops each)\n"
     ]
    }
   ],
   "source": [
    "%%timeit -n 10\n",
    "# Uso de append (va aumentando el tamaño de la lista dinámicamente)\n",
    "\n",
    "l = []\n",
    "N = 10**6\n",
    "for i in range(N):\n",
    "    l.append(i)"
   ]
  },
  {
   "cell_type": "code",
   "execution_count": 2,
   "metadata": {
    "scrolled": true
   },
   "outputs": [
    {
     "name": "stdout",
     "output_type": "stream",
     "text": [
      "89.4 ms ± 13.1 ms per loop (mean ± std. dev. of 7 runs, 10 loops each)\n"
     ]
    }
   ],
   "source": [
    "%%timeit -n 10\n",
    "# Inicializamos la lista a un tamaño N (usando elementos None)\n",
    "\n",
    "N = 10**6\n",
    "l = [0] * N\n",
    "for i in range(N):\n",
    "    l[i] = i"
   ]
  },
  {
   "cell_type": "markdown",
   "metadata": {},
   "source": [
    "<font size=4> <i class=\"fa fa-book\" aria-hidden=\"true\" style=\"color:#00586D\"></i> </font> __Importante!__ Por ello, si se conoce el tamaño de la lista a priori, es mejor generar una lista con todos los elementos (inicialmente `None`, `0`, ...) y hacer asignaciones mediante el índice.\n",
    "\n",
    "Aún más eficiente es el uso de **comprehension lists** (que veremos a continuación)."
   ]
  },
  {
   "cell_type": "markdown",
   "metadata": {},
   "source": [
    "<h1><font color=\"#00586D\" size=4>1.2 Iteradores y generadores: ¿Qué son? </font></h1>"
   ]
  },
  {
   "cell_type": "markdown",
   "metadata": {},
   "source": [
    "Conceptualmente, un iterador es cualquier objeto que se puede iterar, es decir, recorrer sus elementos mediante un bucle o equivalente (acaba llamando a una función interna `__iter__`).\n",
    "\n",
    "Un generador es un objeto que genera un elemento cada vez que se le solicita (a trav'es de una llamada a una función interna `__next__`). Todo generador es un iterador, pero no todo iterador es un generador: por ejemplo, la función `enumerate` devuelve un generador (e iterador) pero la función `range` devuelve un iterador (pero no generador)."
   ]
  },
  {
   "cell_type": "markdown",
   "metadata": {},
   "source": [
    "<div class=\"alert alert-block alert-info\">\n",
    "<i class=\"fa fa-info-circle\" aria-hidden=\"true\"></i>\n",
    "La principal diferencia radica en la implementación, siendo mucho más legible y fácil de implementar un generador (estructura de función) que un iterador (estructura de clase).\n",
    "</div>"
   ]
  },
  {
   "cell_type": "code",
   "execution_count": null,
   "metadata": {},
   "outputs": [],
   "source": [
    "# Al constructor de una lista se le puede pasar un objeto iterable, inicializando la lista con todos los elementos del mismo.\n",
    "# Una lista también es un iterable. Ejemplo:\n",
    "l = list(range(10))\n",
    "print(l)\n",
    "\n",
    "# Pero también se le puede pasar otra lista!\n",
    "l = list([1,2,3])\n",
    "print(l)"
   ]
  },
  {
   "cell_type": "markdown",
   "metadata": {},
   "source": [
    "La diferencia entre manejar un iterable y la propia lista de elementos radica en la eficiencia: mientras que la **lista de elementos debe permanecer alojada (por completo) en memoria principal** (habiéndose generado inicialmente por completo), el **iterable puede ir creando los objetos dinámicamente uno a uno**. Ejemplo usando `range`:"
   ]
  },
  {
   "cell_type": "markdown",
   "metadata": {},
   "source": [
    "<font color=\"#00586D\" size=3> Range</font>"
   ]
  },
  {
   "cell_type": "code",
   "execution_count": 12,
   "metadata": {},
   "outputs": [
    {
     "name": "stdout",
     "output_type": "stream",
     "text": [
      "105 ms ± 19.8 ms per loop (mean ± std. dev. of 7 runs, 10 loops each)\n"
     ]
    }
   ],
   "source": [
    "%%timeit -n 10\n",
    "N = 10 ** 6\n",
    "suma = 0\n",
    "for _ in list(range(N)):  # Creando la lista y luego iterándola\n",
    "    suma += 1"
   ]
  },
  {
   "cell_type": "code",
   "execution_count": 13,
   "metadata": {},
   "outputs": [
    {
     "name": "stdout",
     "output_type": "stream",
     "text": [
      "65.2 ms ± 4.37 ms per loop (mean ± std. dev. of 7 runs, 10 loops each)\n"
     ]
    }
   ],
   "source": [
    "%%timeit  -n 10\n",
    "N = 10 ** 6\n",
    "suma = 0\n",
    "for _ in range(N):  # Iterando el objeto range (iterable) directamente\n",
    "    suma += 1"
   ]
  },
  {
   "cell_type": "markdown",
   "metadata": {},
   "source": [
    "<font size=4> <i class=\"fa fa-book\" aria-hidden=\"true\" style=\"color:#00586D\"></i> </font> __Importante!__ Lo realmente costoso no está en el bucle (en ambos casos el bucle itera N veces la operación +=1). Lo costoso está en la creación de la lista entera en memoria, con el consecuente consumo de memoria para alojarla."
   ]
  },
  {
   "cell_type": "code",
   "execution_count": 14,
   "metadata": {},
   "outputs": [
    {
     "name": "stdout",
     "output_type": "stream",
     "text": [
      "48 ms ± 5.97 ms per loop (mean ± std. dev. of 7 runs, 10 loops each)\n"
     ]
    }
   ],
   "source": [
    "%%timeit\n",
    "N = 10 ** 6\n",
    "l = list(range(N))"
   ]
  },
  {
   "cell_type": "code",
   "execution_count": 15,
   "metadata": {},
   "outputs": [
    {
     "name": "stdout",
     "output_type": "stream",
     "text": [
      "352 ns ± 47.4 ns per loop (mean ± std. dev. of 7 runs, 1000000 loops each)\n"
     ]
    }
   ],
   "source": [
    "%%timeit\n",
    "N = 10 ** 6\n",
    "r = range(N)"
   ]
  },
  {
   "cell_type": "markdown",
   "metadata": {},
   "source": [
    "<font color=\"#00586D\" size=3> Enumerate</font>"
   ]
  },
  {
   "cell_type": "markdown",
   "metadata": {},
   "source": [
    "En ejemplos anteriores hemos iterado sobre los elementos de una lista (`for elemento in lista`) y sobre los índices (`for i in range(len(lista))`). Este último caso se da cuando necesitamos el índice para, por ejemplo, actualizar la posición de la lista.\n",
    "\n",
    "Es posible iterar sobre los elementos y los índices simultáneamente haciendo uso de `enumerate` (un generador):"
   ]
  },
  {
   "cell_type": "code",
   "execution_count": 16,
   "metadata": {},
   "outputs": [
    {
     "name": "stdout",
     "output_type": "stream",
     "text": [
      "[1, 4, 9, 16, 25]\n"
     ]
    }
   ],
   "source": [
    "lista = [1, 2, 3, 4, 5]\n",
    "\n",
    "for (i, elemento) in enumerate(lista):\n",
    "    lista[i] = elemento**2\n",
    "\n",
    "print(lista)"
   ]
  },
  {
   "cell_type": "code",
   "execution_count": null,
   "metadata": {},
   "outputs": [],
   "source": [
    "lista = [1, 2, 3, 4, 5]\n",
    "\n",
    "for i in range(len(lista)):\n",
    "    lista[i] = lista[i]**2\n",
    "\n",
    "print(lista)"
   ]
  },
  {
   "cell_type": "markdown",
   "metadata": {},
   "source": [
    "Lo que se le pasa a `enumerate` es un iterable, y lo que hace es añadir el índice, de tal manera que por cada elemento devuelve una tupla (índice, elemento). El elemento puede ser a su vez otra tupla, o cualquier otro objeto de python:"
   ]
  },
  {
   "cell_type": "code",
   "execution_count": null,
   "metadata": {},
   "outputs": [],
   "source": [
    "tuplas = [(1, 2), (3, 4), (5, 6)]\n",
    "\n",
    "for i, tupla in enumerate(tuplas):\n",
    "    # Nótese que en cada iteración la lista tuplas va cambiando!\n",
    "    # En la siguiente iteración, se actualizará la posición i con el valor modificado en la iteración anterior\n",
    "    tuplas[i] = (tuplas[i-1][0] + tupla[0], tuplas[i-1][1] + tupla[1])\n",
    "\n",
    "print(tuplas)"
   ]
  },
  {
   "cell_type": "markdown",
   "metadata": {},
   "source": [
    "<font color=\"#00586D\" size=3> Zip</font>"
   ]
  },
  {
   "cell_type": "markdown",
   "metadata": {},
   "source": [
    "Otra función que suele ser de utilizad es la función `zip`. Esta función permite iterar simultáneamente dos iterables:"
   ]
  },
  {
   "cell_type": "code",
   "execution_count": 19,
   "metadata": {},
   "outputs": [
    {
     "name": "stdout",
     "output_type": "stream",
     "text": [
      "[7, 9]\n"
     ]
    }
   ],
   "source": [
    "lista1 = [1, 2, 3, 4, 5]\n",
    "lista2 = range(6,8)\n",
    "suma = []\n",
    "\n",
    "for e1, e2 in zip(lista1, lista2):\n",
    "    suma.append(e1 + e2)\n",
    "\n",
    "print(suma)"
   ]
  },
  {
   "cell_type": "markdown",
   "metadata": {},
   "source": [
    "Si los iterables son de **diferente tamaño**, se iterará sobre N elementos, siendo N el **mínimo de los dos tamaños**."
   ]
  },
  {
   "cell_type": "code",
   "execution_count": null,
   "metadata": {},
   "outputs": [],
   "source": [
    "lista1 = range(1,6)\n",
    "lista2 = range(6,9)\n",
    "suma = []\n",
    "\n",
    "for e1, e2 in zip(lista1, lista2):\n",
    "    suma.append(e1 + e2)\n",
    "\n",
    "print(suma)"
   ]
  },
  {
   "cell_type": "markdown",
   "metadata": {},
   "source": [
    "Siguiendo la filosofía de la eficiencia, se puede combinar enumerate y zip para no tener que generar ninguna lista en memoria, y además evitar el uso de append en la lista resultado (suma)\n",
    "\n",
    "Sin embargo, llamar a las funciónes también incrementa el tiempo de ejecución"
   ]
  },
  {
   "cell_type": "code",
   "execution_count": 20,
   "metadata": {},
   "outputs": [
    {
     "name": "stdout",
     "output_type": "stream",
     "text": [
      "211 ms ± 19.5 ms per loop (mean ± std. dev. of 7 runs, 10 loops each)\n"
     ]
    }
   ],
   "source": [
    "%%timeit -n 10\n",
    "\n",
    "N = 10 ** 6\n",
    "lista1 = range(0,N)\n",
    "lista2 = range(0,N)\n",
    "\n",
    "suma = []\n",
    "\n",
    "for e1, e2 in zip(lista1, lista2):\n",
    "    suma.append(e1 + e2)"
   ]
  },
  {
   "cell_type": "code",
   "execution_count": 21,
   "metadata": {},
   "outputs": [
    {
     "name": "stdout",
     "output_type": "stream",
     "text": [
      "242 ms ± 34.6 ms per loop (mean ± std. dev. of 7 runs, 10 loops each)\n"
     ]
    }
   ],
   "source": [
    "%%timeit -n 10\n",
    "# Siguiendo la filosofía de la eficiencia, se puede combinar enumerate y zip para no tener que \n",
    "# generar ninguna lista en memoria, y además evitar el uso de append en la lista resultado (suma)\n",
    "N = 10 ** 6\n",
    "lista1 = range(0,N)\n",
    "lista2 = range(0,N)\n",
    "\n",
    "suma = [None] * N\n",
    "\n",
    "for i, (e1, e2) in enumerate(zip(lista1, lista2)):\n",
    "    suma[i] = e1 + e2"
   ]
  },
  {
   "cell_type": "markdown",
   "metadata": {},
   "source": [
    "<h1><font color=\"#00586D\" size=4>1.3 Comprehension lists </font></h1>"
   ]
  },
  {
   "cell_type": "markdown",
   "metadata": {},
   "source": [
    "En los ejemplos anteriores hemos creado inicialmente una lista de resultados (suma), y le asignamos los valores en un bucle posterior. Esto significa que:\n",
    "\n",
    "* Usamos append para ir añadiendo los valores, uno a uno, a la lista\n",
    "* Gastamos tiempo en crear la lista en memoria (con valores None por ejemplo), y posteriormente asignamos los valores\n",
    "\n",
    "Existe una alternativa más eficiente: los **comprehension lists**\n",
    "\n",
    "Permiten generar una lista con unos valores en un solo paso, con la ventaja de que el código implícito está optimizado **(mucho más eficiente)**. En este sentido, se pueden crear listas, generadores y diccionarios."
   ]
  },
  {
   "cell_type": "markdown",
   "metadata": {},
   "source": [
    "<font color=\"#00586D\" size=3> Listas</font>"
   ]
  },
  {
   "cell_type": "code",
   "execution_count": 22,
   "metadata": {},
   "outputs": [
    {
     "name": "stdout",
     "output_type": "stream",
     "text": [
      "233 ms ± 63.6 ms per loop (mean ± std. dev. of 7 runs, 10 loops each)\n"
     ]
    }
   ],
   "source": [
    "%%timeit -n 10\n",
    "\n",
    "N = 10 ** 6\n",
    "lista1 = range(0,N)\n",
    "lista2 = range(0,N)\n",
    "\n",
    "suma = [None] * N\n",
    "\n",
    "for (i, (e1, e2)) in enumerate(zip(lista1, lista2)):\n",
    "    suma[i] = e1 + e2"
   ]
  },
  {
   "cell_type": "code",
   "execution_count": 23,
   "metadata": {},
   "outputs": [
    {
     "name": "stdout",
     "output_type": "stream",
     "text": [
      "136 ms ± 5.3 ms per loop (mean ± std. dev. of 7 runs, 10 loops each)\n"
     ]
    }
   ],
   "source": [
    "%%timeit -n 10\n",
    "\n",
    "N = 10 ** 6\n",
    "lista1 = range(0,N)\n",
    "lista2 = range(0,N)\n",
    "\n",
    "suma = [ e1 + e2 for e1, e2 in zip(lista1, lista2) ]"
   ]
  },
  {
   "cell_type": "markdown",
   "metadata": {},
   "source": [
    "Se pueden combinar expresiones condicionales en la comprehension list, te tal manera que solo cuando la expresión se evalua a True se genera el elemento correspondiente **(permitiendo que la lista resultante sea más pequeña que la original)**"
   ]
  },
  {
   "cell_type": "code",
   "execution_count": 24,
   "metadata": {},
   "outputs": [
    {
     "name": "stdout",
     "output_type": "stream",
     "text": [
      "[2, 6, 10, 14, 18, 22, 26, 30, 34, 38, 42, 46, 50, 54, 58, 62, 66, 70, 74, 78, 82, 86, 90, 94, 98, 102, 106, 110, 114, 118, 122, 126, 130, 134, 138, 142, 146, 150, 154, 158, 162, 166, 170, 174, 178, 182, 186, 190, 194, 198]\n"
     ]
    }
   ],
   "source": [
    "N = 100\n",
    "lista1 = range(0,N)\n",
    "lista2 = range(0,N)\n",
    "\n",
    "suma_impares = [ e1 + e2 for e1, e2 in zip(lista1, lista2) if e1 % 2 == 1 and e2 % 2 == 1]\n",
    "print(suma_impares)"
   ]
  },
  {
   "cell_type": "code",
   "execution_count": 32,
   "metadata": {},
   "outputs": [
    {
     "data": {
      "text/plain": [
       "[1, 2, 3, 2, 5, 2]"
      ]
     },
     "execution_count": 32,
     "metadata": {},
     "output_type": "execute_result"
    }
   ],
   "source": [
    "[i for lista_indices in [[1, 2, 3], [2, 5, 2]] for i in lista_indices]"
   ]
  },
  {
   "cell_type": "markdown",
   "metadata": {},
   "source": [
    "<font color=\"#00586D\" size=3> Expresiones generadoras</font>\n",
    "\n",
    "Esta sintáxis también se puede utilizar para crear generadores:"
   ]
  },
  {
   "cell_type": "code",
   "execution_count": 37,
   "metadata": {},
   "outputs": [],
   "source": [
    "N = 10 ** 6\n",
    "lista1 = range(0,N)\n",
    "lista2 = range(0,N)\n",
    "\n",
    "suma = ( e1 + e2 for e1, e2 in zip(lista1, lista2) )"
   ]
  },
  {
   "cell_type": "code",
   "execution_count": 38,
   "metadata": {},
   "outputs": [
    {
     "data": {
      "text/plain": [
       "<generator object <genexpr> at 0x113187bd0>"
      ]
     },
     "execution_count": 38,
     "metadata": {},
     "output_type": "execute_result"
    }
   ],
   "source": [
    "suma"
   ]
  },
  {
   "cell_type": "code",
   "execution_count": 39,
   "metadata": {},
   "outputs": [],
   "source": [
    "N = 10\n",
    "lista1 = range(0,N)\n",
    "lista2 = range(0,N)\n",
    "\n",
    "suma = list([ e1 + e2 for e1, e2 in zip(lista1, lista2) ])"
   ]
  },
  {
   "cell_type": "code",
   "execution_count": 40,
   "metadata": {},
   "outputs": [
    {
     "data": {
      "text/plain": [
       "[0, 2, 4, 6, 8, 10, 12, 14, 16, 18]"
      ]
     },
     "execution_count": 40,
     "metadata": {},
     "output_type": "execute_result"
    }
   ],
   "source": [
    "suma"
   ]
  },
  {
   "cell_type": "markdown",
   "metadata": {},
   "source": [
    "<h3><font color=\"#00586D\" size=4><i class=\"fa fa-pencil-square-o\" aria-hidden=\"true\"></i>Ejercicio</font></h3>\n",
    "\n",
    "Crea una comprehension list que contenga los números múltiplos de 5 menores que 100."
   ]
  },
  {
   "cell_type": "markdown",
   "metadata": {},
   "source": [
    "<h3><font color=\"#00586D\" size=4><i class=\"fa fa-pencil-square-o\" aria-hidden=\"true\"></i>Ejercicio</font></h3>\n",
    "\n",
    "Crea una comprehension list que multiplique los números del 1 al 100 con los números del 100 al 1, es decir:\n",
    "\n",
    "```python\n",
    "[1 * 100, 2 * 99, 3 * 98, ..., 99 * 2, 100 * 1]\n",
    "```\n",
    "\n",
    "¿Cuál es la media de los números en la lista?"
   ]
  },
  {
   "cell_type": "markdown",
   "metadata": {},
   "source": [
    "<font color=\"#00586D\" size=3> Diccionarios (comprehension dicts)</font>"
   ]
  },
  {
   "cell_type": "code",
   "execution_count": 41,
   "metadata": {},
   "outputs": [],
   "source": [
    "N = 10\n",
    "lista1 = range(0,N)\n",
    "lista2 = range(0,N)\n",
    "\n",
    "suma = {(e1, e2):  e1 + e2 for e1, e2 in zip(lista1, lista2)}"
   ]
  },
  {
   "cell_type": "code",
   "execution_count": 42,
   "metadata": {},
   "outputs": [
    {
     "data": {
      "text/plain": [
       "{(0, 0): 0,\n",
       " (1, 1): 2,\n",
       " (2, 2): 4,\n",
       " (3, 3): 6,\n",
       " (4, 4): 8,\n",
       " (5, 5): 10,\n",
       " (6, 6): 12,\n",
       " (7, 7): 14,\n",
       " (8, 8): 16,\n",
       " (9, 9): 18}"
      ]
     },
     "execution_count": 42,
     "metadata": {},
     "output_type": "execute_result"
    }
   ],
   "source": [
    "suma"
   ]
  },
  {
   "cell_type": "markdown",
   "metadata": {},
   "source": [
    "<h3><font color=\"#00586D\" size=4><i class=\"fa fa-pencil-square-o\" aria-hidden=\"true\"></i>Ejercicio</font></h3>\n",
    "\n",
    "Usar la función `es_primo`para generar una diccionario que contenga como clave los números del 1 al 100 y como valor un booleano indicando si es primo o no."
   ]
  },
  {
   "cell_type": "code",
   "execution_count": null,
   "metadata": {},
   "outputs": [],
   "source": [
    "def es_primo(n):\n",
    "    return not any( (n % d == 0 for d in range(2, n // 2 + 1)) )"
   ]
  },
  {
   "cell_type": "markdown",
   "metadata": {},
   "source": [
    "<font color=\"#00586D\" size=3> Conjuntos (comprehension sets)</font>"
   ]
  },
  {
   "cell_type": "code",
   "execution_count": 43,
   "metadata": {},
   "outputs": [],
   "source": [
    "N = 10\n",
    "lista = range(0,N)\n",
    "\n",
    "multiplos3 = {e for e in lista if e % 3 == 0}"
   ]
  },
  {
   "cell_type": "code",
   "execution_count": 44,
   "metadata": {},
   "outputs": [
    {
     "data": {
      "text/plain": [
       "{0, 3, 6, 9}"
      ]
     },
     "execution_count": 44,
     "metadata": {},
     "output_type": "execute_result"
    }
   ],
   "source": [
    "multiplos3"
   ]
  },
  {
   "cell_type": "markdown",
   "metadata": {},
   "source": [
    "<h3><font color=\"#00586D\" size=4><i class=\"fa fa-pencil-square-o\" aria-hidden=\"true\"></i>Ejercicio</font></h3>\n",
    "\n",
    "Usar la función `es_primo`anterior para generar un conjunto que contenga los números primos menores que 100."
   ]
  },
  {
   "cell_type": "markdown",
   "metadata": {},
   "source": [
    "<h1><font color=\"#00586D\" size=5>2. Manejo de excepciones</font></h1>"
   ]
  },
  {
   "cell_type": "markdown",
   "metadata": {},
   "source": [
    "Hay ocasiones en las que sabemos que el código puede fallar, pero queremos gestionar esa excepción de forma controlada. Por ejemplo, una conexión a un web socket puede fallar por problemas en la red.\n",
    "\n",
    "Para gestionar las excepciones, se debe situar el código que puede lanzar esta excepción entre las palabras `try` y `except`. En la parte de `except` se introduce el código para tratar dicha excepción."
   ]
  },
  {
   "cell_type": "code",
   "execution_count": 47,
   "metadata": {},
   "outputs": [
    {
     "name": "stdin",
     "output_type": "stream",
     "text": [
      "Introduce el denominador a\n"
     ]
    },
    {
     "name": "stdout",
     "output_type": "stream",
     "text": [
      "No se puede dividir por 0!\n"
     ]
    }
   ],
   "source": [
    "try:\n",
    "    numerador = 10\n",
    "    denominador = int(input(\"Introduce el denominador\"))\n",
    "    print(f\"{numerador} / {denominador} = {numerador / denominador}\")\n",
    "except:\n",
    "    print(\"No se puede dividir por 0!\")"
   ]
  },
  {
   "cell_type": "markdown",
   "metadata": {},
   "source": [
    "En la parte del except se puede, además, especificar el tipo de error esperado y utilizar más de un bloque `except`. Es decir, se puede gestionar más de un posible error en el código `try`."
   ]
  },
  {
   "cell_type": "code",
   "execution_count": 53,
   "metadata": {},
   "outputs": [
    {
     "ename": "ValueError",
     "evalue": "invalid literal for int() with base 10: '2.3'",
     "output_type": "error",
     "traceback": [
      "\u001b[0;31m---------------------------------------------------------------------------\u001b[0m",
      "\u001b[0;31mValueError\u001b[0m                                Traceback (most recent call last)",
      "\u001b[0;32m<ipython-input-53-5ed61bf3052f>\u001b[0m in \u001b[0;36m<module>\u001b[0;34m\u001b[0m\n\u001b[0;32m----> 1\u001b[0;31m \u001b[0mint\u001b[0m\u001b[0;34m(\u001b[0m\u001b[0;34m\"2.3\"\u001b[0m\u001b[0;34m)\u001b[0m\u001b[0;34m\u001b[0m\u001b[0;34m\u001b[0m\u001b[0m\n\u001b[0m",
      "\u001b[0;31mValueError\u001b[0m: invalid literal for int() with base 10: '2.3'"
     ]
    }
   ],
   "source": [
    "int(\"2.3\")"
   ]
  },
  {
   "cell_type": "code",
   "execution_count": 61,
   "metadata": {},
   "outputs": [
    {
     "name": "stdin",
     "output_type": "stream",
     "text": [
      "Introduce el denominador 0\n"
     ]
    },
    {
     "name": "stdout",
     "output_type": "stream",
     "text": [
      "No se puede dividir por 0!\n"
     ]
    }
   ],
   "source": [
    "mi_excepcion = None\n",
    "try:\n",
    "    numerador = 10\n",
    "    denominador = int(input(\"Introduce el denominador\"))\n",
    "    print(f\"{numerador} / {denominador} = {numerador / denominador}\")\n",
    "except ZeroDivisionError:\n",
    "    print(\"No se puede dividir por 0!\")\n",
    "except ValueError as ve:\n",
    "    mi_excepcion = ve\n",
    "    print(f\"Debes introducir un número como denominador! Error: {ve}\")"
   ]
  },
  {
   "cell_type": "markdown",
   "metadata": {},
   "source": [
    "También podemos lanzar una excepción por código como sistema de control de errores. Por ejemplo, si solicitamos por teclado un entero entre 1 y 10, podemos lanzar una excepción si la condición no se cumple. Podemos crear nuestras propias excepciones construyendo una nueva clase que herede de una excepción, aunque no llegaremos a utilizar esta técnica a lo largo del máster."
   ]
  },
  {
   "cell_type": "code",
   "execution_count": 63,
   "metadata": {},
   "outputs": [
    {
     "name": "stdin",
     "output_type": "stream",
     "text": [
      "Introduce un número entero entre 1 y 10 15\n"
     ]
    },
    {
     "ename": "Exception",
     "evalue": "El número debe estar comprendido entre 1 y 10",
     "output_type": "error",
     "traceback": [
      "\u001b[0;31m---------------------------------------------------------------------------\u001b[0m",
      "\u001b[0;31mException\u001b[0m                                 Traceback (most recent call last)",
      "\u001b[0;32m<ipython-input-63-f891b9ce43d7>\u001b[0m in \u001b[0;36m<module>\u001b[0;34m\u001b[0m\n\u001b[1;32m      4\u001b[0m     \u001b[0mprint\u001b[0m\u001b[0;34m(\u001b[0m\u001b[0;34m\"Debes introducir un número entero\"\u001b[0m\u001b[0;34m)\u001b[0m\u001b[0;34m\u001b[0m\u001b[0;34m\u001b[0m\u001b[0m\n\u001b[1;32m      5\u001b[0m \u001b[0;32mif\u001b[0m \u001b[0;32mnot\u001b[0m \u001b[0;34m(\u001b[0m\u001b[0;36m1\u001b[0m \u001b[0;34m<=\u001b[0m \u001b[0mx\u001b[0m \u001b[0;34m<=\u001b[0m \u001b[0;36m10\u001b[0m\u001b[0;34m)\u001b[0m\u001b[0;34m:\u001b[0m\u001b[0;34m\u001b[0m\u001b[0;34m\u001b[0m\u001b[0m\n\u001b[0;32m----> 6\u001b[0;31m     \u001b[0;32mraise\u001b[0m \u001b[0mException\u001b[0m\u001b[0;34m(\u001b[0m\u001b[0;34m\"El número debe estar comprendido entre 1 y 10\"\u001b[0m\u001b[0;34m)\u001b[0m\u001b[0;34m\u001b[0m\u001b[0;34m\u001b[0m\u001b[0m\n\u001b[0m",
      "\u001b[0;31mException\u001b[0m: El número debe estar comprendido entre 1 y 10"
     ]
    }
   ],
   "source": [
    "try:\n",
    "    x = int(input(\"Introduce un número entero entre 1 y 10\"))\n",
    "except ValueError as ve:\n",
    "    print(\"Debes introducir un número entero\")\n",
    "if not (1 <= x <= 10):\n",
    "    raise Exception(\"El número debe estar comprendido entre 1 y 10\")"
   ]
  },
  {
   "cell_type": "markdown",
   "metadata": {},
   "source": [
    "<h3><font color=\"#00586D\" size=4><i class=\"fa fa-pencil-square-o\" aria-hidden=\"true\"></i>Ejercicio</font></h3>\n",
    "\n",
    "Solicita un valor por teclado, e imprime el siguiente mensaje en función del valor utilizando la gestión de excepciones:\n",
    "\n",
    "- \"Soy entero\" si el valor es un entero.\n",
    "- \"Soy flotante\" si el valor es un flotante.\n",
    "- \"Soy una letra\" si el valor es un character.\n",
    "- \"Soy una palabra\" si el valor es una secuencia de letras sin espacios.\n",
    "- \"Soy una frase\" en caso contrario."
   ]
  },
  {
   "cell_type": "markdown",
   "metadata": {},
   "source": [
    "<h1><font color=\"#00586D\" size=5>3. Orden superior</font></h1>"
   ]
  },
  {
   "cell_type": "markdown",
   "metadata": {},
   "source": [
    "Ya vimos cómo declarar funciones. Los argumentos podían ser opcionales o requeridos. Además, estos argumentos pueden ser de cualquier tipo (enteros, listas, diccionarios, e incluso otras funciones!). Utilizar funciones como argumentos de otras funciones, además de poder devolver como resultado otra nueva función es lo que se denomina **orden superior**.\n",
    "\n",
    "A continuación vamos a declarar una función genérica que aplica operaciones a dos argumentos numéricos. Después usaremos esta función proporcionándole otra función que aplique una operación concreta."
   ]
  },
  {
   "cell_type": "code",
   "execution_count": 65,
   "metadata": {},
   "outputs": [
    {
     "name": "stdout",
     "output_type": "stream",
     "text": [
      "10 operado con 20 = 200\n"
     ]
    }
   ],
   "source": [
    "a = 10\n",
    "b = 20\n",
    "\n",
    "def opera(x, y, fn):\n",
    "    return fn(x, y)\n",
    "\n",
    "def suma(x, y):\n",
    "    return x + y\n",
    "\n",
    "def mult(x, y):\n",
    "    return x * y\n",
    "\n",
    "c = opera(a, b, mult)\n",
    "\n",
    "print(f\"{a} operado con {b} = {c}\")"
   ]
  },
  {
   "cell_type": "markdown",
   "metadata": {},
   "source": [
    "<h3><font color=\"#00586D\" size=4><i class=\"fa fa-pencil-square-o\" aria-hidden=\"true\"></i>Ejercicio</font></h3>\n",
    "\n",
    "Como hemos visto en las celdas de tipo Markdown, el texto en negrita se especifica mediante un texto encerrado entre dos dobles asteriscos. Si queremos que sea en cursiva, se debe encerrar entre dos símbolos `_`. Implementar:\n",
    "\n",
    "- Una función `negrita` que reciba un texto y devuelva el mismo encerrado entre dobles asteriscos.\n",
    "- Una función `cursiva` que reciba un texto y devuelva el mismo encerrado entre barras bajas.\n",
    "- Una función `selector` que pida por teclado que se introduzca una de las palabras `negrita` o `cursiva`. Deve devolver una de las dos funciones anteriores en función del valor introducido.\n",
    "\n",
    "A continuación:\n",
    "\n",
    "1. Solicitar un texto por teclaro.\n",
    "2. Crear una función que reciba como argumento un texto y la función `selector`. Ésta debe llamar a la función (sin argumentos), y devolver el texto decorado en negrita o cursiva.\n",
    "3. Invocar la función anterior."
   ]
  },
  {
   "cell_type": "markdown",
   "metadata": {},
   "source": [
    "_Texto_"
   ]
  },
  {
   "cell_type": "markdown",
   "metadata": {},
   "source": [
    "<h1><font color=\"#00586D\" size=4> 3.1 Funciones lambda</font></h1>"
   ]
  },
  {
   "cell_type": "markdown",
   "metadata": {},
   "source": [
    "Además de la definición estándar de funciones existe la posibilidad de crar funciones en una sola línea. Estas funciones se llaman `lambda`, y son funciones que ejecutan una expresión y devuelve ese resultado."
   ]
  },
  {
   "cell_type": "code",
   "execution_count": null,
   "metadata": {},
   "outputs": [],
   "source": [
    "# Ejemplo de función lambda\n",
    "# Usando la expresión de potencia **, crear la función exp (e ** x)\n",
    "import math\n",
    "exp = lambda x: math.e ** x\n",
    "n = 5.7\n",
    "print(\"La exponencial de {:f} es: {:f}\".format(n, exp(n)))"
   ]
  },
  {
   "cell_type": "markdown",
   "metadata": {},
   "source": [
    "La ventaja del uso de estas funciones radica en la legibilidad a la hora de proporcionar funciones como argumentos, permitiendo declararlas en una línea sin necesidad de asignarla a una variable (por ello se llaman funciones anónimas): "
   ]
  },
  {
   "cell_type": "code",
   "execution_count": 68,
   "metadata": {},
   "outputs": [
    {
     "name": "stdout",
     "output_type": "stream",
     "text": [
      "10 operado con 20 = 0.5\n"
     ]
    }
   ],
   "source": [
    "a = 10\n",
    "b = 20\n",
    "\n",
    "# Declarando la función\n",
    "def opera(x, y, fn):\n",
    "    return fn(x, y)\n",
    "\n",
    "print(f\"{a} operado con {b} = {opera(a, b, lambda x, y: x / y)}\")"
   ]
  },
  {
   "cell_type": "code",
   "execution_count": 71,
   "metadata": {},
   "outputs": [
    {
     "data": {
      "text/plain": [
       "[('que', 10384),\n",
       " ('de', 9026),\n",
       " ('y', 8449),\n",
       " ('la', 5009),\n",
       " ('a', 4806),\n",
       " ('en', 4030),\n",
       " ('el', 3842),\n",
       " ('no', 2910),\n",
       " ('se', 2382),\n",
       " ('los', 2147),\n",
       " ('con', 2078),\n",
       " ('por', 1910),\n",
       " ('su', 1861),\n",
       " ('le', 1802),\n",
       " ('lo', 1801),\n",
       " ('las', 1488),\n",
       " ('me', 1155),\n",
       " ('como', 1140),\n",
       " ('del', 1127),\n",
       " ('don', 1065)]"
      ]
     },
     "execution_count": 71,
     "metadata": {},
     "output_type": "execute_result"
    }
   ],
   "source": [
    "from collections import defaultdict\n",
    "import requests  # instalar si no está instalado\n",
    "url_quijote = \"https://gist.githubusercontent.com/jsdario/6d6c69398cb0c73111e49f1218960f79/raw/8d4fc4548d437e2a7203a5aeeace5477f598827d/el_quijote.txt\"\n",
    "text_quijote = requests.get(url_quijote).text\n",
    "\n",
    "palabras = defaultdict(int)\n",
    "for palabra in text_quijote.split():\n",
    "    palabras[palabra.lower()] += 1 \n",
    "\n",
    "sorted( ((palabra, count) for palabra, count in palabras.items()), key=lambda x: x[1], reverse=True)[:20]"
   ]
  },
  {
   "cell_type": "markdown",
   "metadata": {},
   "source": [
    "<h1><font color=\"#00586D\" size=4> 3.2 Funciones filter, map y reduce</font></h1>"
   ]
  },
  {
   "cell_type": "markdown",
   "metadata": {},
   "source": [
    "Estas funciones permiten aplicar una función sobre los elementos de un iterable. Las tres funciones tienen dos argumentos: el primero es la función a aplicar, y el segundo es el objeto iterable sobre el que aplicarlos.\n",
    "\n",
    "* La función `filter` filtra los elementos del iterable en base al resultado una función que devuelve un booleano con cada elemento de la lista. Si es `True` permanece en el resultado, y si es `False` lo filtra.\n",
    "\n",
    "* La función `map` permite aplicar una función a cada uno de los elementos, generando un segundo iterable.\n",
    "\n",
    "* La función `reduce` permite combinar todos los elementos de la lista aplicando una finción, dos a dos iterativamente, hasta reducir a un solo elemento."
   ]
  },
  {
   "cell_type": "markdown",
   "metadata": {},
   "source": [
    "#### <font color=\"#004D7F\" size=3>  Filter</font>\n"
   ]
  },
  {
   "cell_type": "code",
   "execution_count": 72,
   "metadata": {},
   "outputs": [
    {
     "name": "stdout",
     "output_type": "stream",
     "text": [
      "<filter object at 0x114245150>\n",
      "[0, 2, 4, 6, 8]\n"
     ]
    }
   ],
   "source": [
    "# Filtrar los numeros impares\n",
    "l = range(10)\n",
    "def es_par(x):\n",
    "    return x % 2 == 0\n",
    "pares = filter(es_par, l)\n",
    "print(pares)\n",
    "print(list(pares))"
   ]
  },
  {
   "cell_type": "code",
   "execution_count": 73,
   "metadata": {},
   "outputs": [
    {
     "name": "stdout",
     "output_type": "stream",
     "text": [
      "<filter object at 0x1169ab6d0>\n",
      "[0, 2, 4, 6, 8]\n"
     ]
    }
   ],
   "source": [
    "# ¡En este caso es mucho más cómodo usar funciones lambda!\n",
    "l = range(10)\n",
    "pares = filter(lambda x: x%2==0, l)\n",
    "print(pares)\n",
    "print(list(pares))"
   ]
  },
  {
   "cell_type": "markdown",
   "metadata": {},
   "source": [
    "#### <font color=\"#004D7F\" size=3> Map</font>\n"
   ]
  },
  {
   "cell_type": "code",
   "execution_count": 76,
   "metadata": {},
   "outputs": [
    {
     "name": "stdout",
     "output_type": "stream",
     "text": [
      "<map object at 0x113aff110>\n",
      "[0, 1, 4, 9, 16, 25, 36, 49, 64, 81]\n"
     ]
    }
   ],
   "source": [
    "l = range(10)\n",
    "def cuadrado(x):\n",
    "    return x**2\n",
    "cuadrados = map(cuadrado, l)\n",
    "print(cuadrados)\n",
    "print(list(cuadrados))"
   ]
  },
  {
   "cell_type": "code",
   "execution_count": 78,
   "metadata": {},
   "outputs": [
    {
     "name": "stdout",
     "output_type": "stream",
     "text": [
      "[10, 11, 12, 13, 14, 15, 16, 17, 18, 19]\n"
     ]
    }
   ],
   "source": [
    "# Tanto las funciones filter, como map y reduce esperan funciones con 1 único parámetro (en el caso de filter y map)\n",
    "# o 2 parámetros (función reduce). \n",
    "# Si queremos aplicar una función con más parámetros, pero especificando un valor específico para un un subconjunto\n",
    "# de ellos (todos menos uno) se puede hacer mediante el uso de funciones lambda\n",
    "\n",
    "def suma(x, y):\n",
    "    return x + y\n",
    "l = range(10)\n",
    "# En este ejemplo queremos aplicar la función suma (2 parámetros), fijando uno de ellos a 10.\n",
    "cuadrados = map(lambda x: suma(x, 10), l)\n",
    "print(list(cuadrados))"
   ]
  },
  {
   "cell_type": "markdown",
   "metadata": {},
   "source": [
    "#### <font color=\"#004D7F\" size=3> Reduce</font>\n"
   ]
  },
  {
   "cell_type": "markdown",
   "metadata": {},
   "source": [
    "Aunque en python 3.0 la función `reduce` se [eliminó](https://docs.python.org/3.0/whatsnew/3.0.html#builtins) como función `built-in` (y se movió a un módulo, llamado `functools`), es útil que la veamos porque será de utilizad en posteriores módulos (al menos conceptualmente).\n",
    "\n",
    "La razón por la que la movieron, según la documentación oficial, es:\n",
    "\n",
    "_\"Removed reduce(). Use functools.reduce() if you really need it; however, 99 percent of the time an explicit for loop is more readable.\"_\n",
    "\n",
    "Sin embargo, aunque puede resultar más dificil de leer, requiere menos código (evitamos el uso de bucles), y desde el punto de vista de la _programación funcional_ es más **intuitiva**."
   ]
  },
  {
   "cell_type": "code",
   "execution_count": 79,
   "metadata": {},
   "outputs": [
    {
     "name": "stdout",
     "output_type": "stream",
     "text": [
      "45\n"
     ]
    }
   ],
   "source": [
    "import functools\n",
    "l = range(10)\n",
    "suma = functools.reduce(lambda x, y: x+y, l)\n",
    "print(suma)"
   ]
  },
  {
   "cell_type": "code",
   "execution_count": null,
   "metadata": {},
   "outputs": [],
   "source": [
    "no_meaning = [\"el\", \"la\", \"le\", \"lo\", \"las\", \"los\", \"que\", \"de\", \"y\", \"a\", \"en\", \"los\", \"con\", \"por\", \"su\", \"me\", \"del\", \"como\"]"
   ]
  },
  {
   "cell_type": "markdown",
   "metadata": {},
   "source": [
    "<h3><font color=\"#00586D\" size=4><i class=\"fa fa-pencil-square-o\" aria-hidden=\"true\"></i>Ejercicio</font></h3>\n",
    "\n",
    "Usar las funciones filter, map y reduce para:\n",
    "\n",
    "Crear una lista de palabras de `text_quijote` como `palabras = text_quijote.split()`\n",
    "\n",
    "1. Transformar todas las palabras de `palabras` a minúsculas y eliminar el punto final de aquellas palabras que lo tengan\n",
    "2. Descartar todas las palabras en la lista de palabras `no_meaning`\n",
    "3. Obtener el número de caracteres de cada palabra\n",
    "4. Obtener la suma de caracteres de todas las palabras, y calcular el porcentaje de caracteres que se han descartado en los dos primeros pasos."
   ]
  }
 ],
 "metadata": {
  "kernelspec": {
   "display_name": "Python 3",
   "language": "python",
   "name": "python3"
  },
  "language_info": {
   "codemirror_mode": {
    "name": "ipython",
    "version": 3
   },
   "file_extension": ".py",
   "mimetype": "text/x-python",
   "name": "python",
   "nbconvert_exporter": "python",
   "pygments_lexer": "ipython3",
   "version": "3.7.7"
  }
 },
 "nbformat": 4,
 "nbformat_minor": 4
}
